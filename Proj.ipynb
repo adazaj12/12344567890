{
 "cells": [
  {
   "cell_type": "markdown",
   "metadata": {},
   "source": [
    "ściągnęłam dane z podanego linku web.stanford.edu/class/stats191/data/ames2000_NAfix.csv i zapisałam w pliku ames2000_NAfix"
   ]
  },
  {
   "cell_type": "markdown",
   "metadata": {},
   "source": [
    "#Załadowanie pliku z danymi do dateframe"
   ]
  },
  {
   "cell_type": "code",
   "execution_count": 1,
   "metadata": {
    "scrolled": true
   },
   "outputs": [
    {
     "name": "stdout",
     "output_type": "stream",
     "text": [
      "<class 'pandas.core.frame.DataFrame'>\n",
      "RangeIndex: 2000 entries, 0 to 1999\n",
      "Data columns (total 80 columns):\n",
      " #   Column           Non-Null Count  Dtype \n",
      "---  ------           --------------  ----- \n",
      " 0   MS.SubClass      2000 non-null   int64 \n",
      " 1   MS.Zoning        2000 non-null   object\n",
      " 2   Lot.Frontage     2000 non-null   object\n",
      " 3   Lot.Area         2000 non-null   int64 \n",
      " 4   Street           2000 non-null   object\n",
      " 5   Alley            2000 non-null   object\n",
      " 6   Lot.Shape        2000 non-null   object\n",
      " 7   Land.Contour     2000 non-null   object\n",
      " 8   Utilities        2000 non-null   object\n",
      " 9   Lot.Config       2000 non-null   object\n",
      " 10  Land.Slope       2000 non-null   object\n",
      " 11  Neighborhood     2000 non-null   object\n",
      " 12  Condition.1      2000 non-null   object\n",
      " 13  Condition.2      2000 non-null   object\n",
      " 14  Bldg.Type        2000 non-null   object\n",
      " 15  House.Style      2000 non-null   object\n",
      " 16  Overall.Qual     2000 non-null   int64 \n",
      " 17  Overall.Cond     2000 non-null   int64 \n",
      " 18  Year.Built       2000 non-null   int64 \n",
      " 19  Year.Remod.Add   2000 non-null   int64 \n",
      " 20  Roof.Style       2000 non-null   object\n",
      " 21  Roof.Matl        2000 non-null   object\n",
      " 22  Exterior.1st     2000 non-null   object\n",
      " 23  Exterior.2nd     2000 non-null   object\n",
      " 24  Mas.Vnr.Type     1984 non-null   object\n",
      " 25  Mas.Vnr.Area     2000 non-null   object\n",
      " 26  Exter.Qual       2000 non-null   object\n",
      " 27  Exter.Cond       2000 non-null   object\n",
      " 28  Foundation       2000 non-null   object\n",
      " 29  Bsmt.Qual        1999 non-null   object\n",
      " 30  Bsmt.Cond        1999 non-null   object\n",
      " 31  Bsmt.Exposure    1997 non-null   object\n",
      " 32  BsmtFin.Type.1   1999 non-null   object\n",
      " 33  BsmtFin.SF.1     2000 non-null   object\n",
      " 34  BsmtFin.Type.2   1998 non-null   object\n",
      " 35  BsmtFin.SF.2     2000 non-null   object\n",
      " 36  Bsmt.Unf.SF      2000 non-null   object\n",
      " 37  Total.Bsmt.SF    2000 non-null   object\n",
      " 38  Heating          2000 non-null   object\n",
      " 39  Heating.QC       2000 non-null   object\n",
      " 40  Central.Air      2000 non-null   object\n",
      " 41  Electrical       2000 non-null   object\n",
      " 42  X1st.Flr.SF      2000 non-null   int64 \n",
      " 43  X2nd.Flr.SF      2000 non-null   int64 \n",
      " 44  Low.Qual.Fin.SF  2000 non-null   int64 \n",
      " 45  Gr.Liv.Area      2000 non-null   int64 \n",
      " 46  Bsmt.Full.Bath   2000 non-null   object\n",
      " 47  Bsmt.Half.Bath   2000 non-null   object\n",
      " 48  Full.Bath        2000 non-null   int64 \n",
      " 49  Half.Bath        2000 non-null   int64 \n",
      " 50  Bedroom.AbvGr    2000 non-null   int64 \n",
      " 51  Kitchen.AbvGr    2000 non-null   int64 \n",
      " 52  Kitchen.Qual     2000 non-null   object\n",
      " 53  TotRms.AbvGrd    2000 non-null   int64 \n",
      " 54  Functional       2000 non-null   object\n",
      " 55  Fireplaces       2000 non-null   int64 \n",
      " 56  Fireplace.Qu     2000 non-null   object\n",
      " 57  Garage.Type      2000 non-null   object\n",
      " 58  Garage.Yr.Blt    2000 non-null   object\n",
      " 59  Garage.Finish    1998 non-null   object\n",
      " 60  Garage.Cars      2000 non-null   object\n",
      " 61  Garage.Area      2000 non-null   object\n",
      " 62  Garage.Qual      1999 non-null   object\n",
      " 63  Garage.Cond      1999 non-null   object\n",
      " 64  Paved.Drive      2000 non-null   object\n",
      " 65  Wood.Deck.SF     2000 non-null   int64 \n",
      " 66  Open.Porch.SF    2000 non-null   int64 \n",
      " 67  Enclosed.Porch   2000 non-null   int64 \n",
      " 68  X3Ssn.Porch      2000 non-null   int64 \n",
      " 69  Screen.Porch     2000 non-null   int64 \n",
      " 70  Pool.Area        2000 non-null   int64 \n",
      " 71  Pool.QC          2000 non-null   object\n",
      " 72  Fence            2000 non-null   object\n",
      " 73  Misc.Feature     2000 non-null   object\n",
      " 74  Misc.Val         2000 non-null   int64 \n",
      " 75  Mo.Sold          2000 non-null   int64 \n",
      " 76  Yr.Sold          2000 non-null   int64 \n",
      " 77  Sale.Type        2000 non-null   object\n",
      " 78  Sale.Condition   2000 non-null   object\n",
      " 79  SalePrice        2000 non-null   int64 \n",
      "dtypes: int64(26), object(54)\n",
      "memory usage: 1.2+ MB\n"
     ]
    }
   ],
   "source": [
    "import pandas as pd\n",
    "\n",
    "dane=pd.read_csv(r'c:\\projekt\\ames2000_NAfix.csv', sep=',', engine='python')\n",
    "dane.info()"
   ]
  },
  {
   "cell_type": "markdown",
   "metadata": {},
   "source": [
    "# CZYSZCZENIE DANYCH"
   ]
  },
  {
   "cell_type": "markdown",
   "metadata": {},
   "source": [
    "### sprawdzam braki danych"
   ]
  },
  {
   "cell_type": "code",
   "execution_count": 3,
   "metadata": {
    "scrolled": false
   },
   "outputs": [
    {
     "name": "stdout",
     "output_type": "stream",
     "text": [
      "braki wartości:\n",
      "MS.SubClass       0\n",
      "MS.Zoning         0\n",
      "Lot.Frontage      0\n",
      "Lot.Area          0\n",
      "Street            0\n",
      "                 ..\n",
      "Mo.Sold           0\n",
      "Yr.Sold           0\n",
      "Sale.Type         0\n",
      "Sale.Condition    0\n",
      "SalePrice         0\n",
      "Length: 80, dtype: int64\n",
      "\n",
      "wartości None:\n",
      "      MS.SubClass MS.Zoning Lot.Frontage  Lot.Area Street Alley Lot.Shape  \\\n",
      "0             120        RL           34      3901   Pave  None       Reg   \n",
      "1              20        RL           70      8400   Pave  None       Reg   \n",
      "2              85        RL           60      7200   Pave  None       Reg   \n",
      "3              90        RL           64      7018   Pave  None       Reg   \n",
      "4              60        RL          111     16259   Pave  None       Reg   \n",
      "...           ...       ...          ...       ...    ...   ...       ...   \n",
      "1995           80        RL           80      8000   Pave  None       Reg   \n",
      "1996          180        RM           35      3675   Pave  None       Reg   \n",
      "1997           60        RL           76     10142   Pave  None       IR1   \n",
      "1998           85        RL         None      7252   Pave  None       IR1   \n",
      "1999          160        FV           34      2998   Pave  None       Reg   \n",
      "\n",
      "     Land.Contour Utilities Lot.Config  ... Pool.Area Pool.QC  Fence  \\\n",
      "0             Lvl    AllPub     Inside  ...         0    None   None   \n",
      "1             Lvl    AllPub     Corner  ...         0    None  MnPrv   \n",
      "2             Lvl    AllPub     Inside  ...         0    None  MnPrv   \n",
      "3             Bnk    AllPub     Inside  ...         0    None   None   \n",
      "4             Lvl    AllPub     Corner  ...         0    None   None   \n",
      "...           ...       ...        ...  ...       ...     ...    ...   \n",
      "1995          Lvl    AllPub     Inside  ...         0    None   GdWo   \n",
      "1996          Lvl    AllPub     Inside  ...         0    None   None   \n",
      "1997          Lvl    AllPub     Inside  ...         0    None   None   \n",
      "1998          Lvl    AllPub    CulDSac  ...         0    None   None   \n",
      "1999          Lvl    AllPub     Inside  ...         0    None   None   \n",
      "\n",
      "     Misc.Feature Misc.Val Mo.Sold  Yr.Sold  Sale.Type  Sale.Condition  \\\n",
      "0            None        0       8     2007        New         Partial   \n",
      "1            None        0       4     2010        WD           Normal   \n",
      "2            None        0       4     2009        WD           Normal   \n",
      "3            None        0       6     2009        WD           Alloca   \n",
      "4            None        0       9     2006        New         Partial   \n",
      "...           ...      ...     ...      ...        ...             ...   \n",
      "1995         None        0       7     2009        WD           Normal   \n",
      "1996         None        0       6     2008        WD           Normal   \n",
      "1997         None        0       1     2010        WD           Normal   \n",
      "1998         None        0       4     2009        WD           Normal   \n",
      "1999         None        0       8     2009        WD           Normal   \n",
      "\n",
      "      SalePrice  \n",
      "0        204000  \n",
      "1        126000  \n",
      "2        133900  \n",
      "3        118858  \n",
      "4        342643  \n",
      "...         ...  \n",
      "1995     138000  \n",
      "1996     148000  \n",
      "1997     233000  \n",
      "1998     134900  \n",
      "1999     180000  \n",
      "\n",
      "[2000 rows x 80 columns]\n"
     ]
    }
   ],
   "source": [
    "missing_values = dane.isnull().sum()\n",
    "print('braki wartości:')\n",
    "print(missing_values)\n",
    "print()\n",
    "i = []\n",
    "kolumny=list(dane.columns)\n",
    "kolumny.remove('Mas.Vnr.Type')\n",
    "for col in kolumny:\n",
    "    i.extend(dane.loc[dane[col]=='None'].index.values)\n",
    "i=list(dict.fromkeys(i))\n",
    "i.sort()\n",
    "print('wartości None:')\n",
    "print(dane.loc[i])"
   ]
  },
  {
   "cell_type": "code",
   "execution_count": 5,
   "metadata": {},
   "outputs": [],
   "source": [
    "### Lot Frontage zamieniam - None na 100.\n",
    "dane['Lot.Frontage']=dane['Lot.Frontage'].replace(['None'],100)\n",
    "dane['Lot.Frontage'].fillna(100, inplace = True)\n",
    "### Type of alley access to property - None zamieniam na NA\n",
    "dane['Alley']=dane['Alley'].replace(['None'],'NA')\n",
    "dane['Alley'].fillna('NA', inplace = True)\n",
    "###Mas Vnr Type (Nominal): Masonry veneer type. Puste zamieniam na None,'NA')\n",
    "dane['Mas.Vnr.Type'].fillna('None', inplace = True)\n",
    "### Masonry veneer area in square feet - None zamieniam na 0\n",
    "dane['Mas.Vnr.Area']=dane['Mas.Vnr.Area'].replace(['None'],0)\n",
    "dane['Mas.Vnr.Area'].fillna(0, inplace = True)\n",
    "### Evaluates the height of the basement, Evaluates the general condition of the basement, Refers to walkout or garden level walls, Rating of basement finished area, Rating of basement finished area (if multiple types) zamieniam None i puste na NA (No basement)\n",
    "kolumny = ['Bsmt.Qual', 'Bsmt.Cond', 'Bsmt.Exposure', 'BsmtFin.Type.1', 'BsmtFin.Type.2']\n",
    "for k in kolumny:\n",
    "    dane[k]=dane[k].replace(['None'],'NA')\n",
    "    dane[k].fillna('NA', inplace = True)\n",
    "    \n",
    "### BsmtFin SF 1 (Continuous): Type 1 finished square feet / BsmtFin SF 2 (Continuous): Type 2 finished square feet / Bsmt Unf SF (Continuous): Unfinished square feet of basement area / Total Bsmt SF (Continuous): Total square feet of basement area, Bsmt.Full.Bath, Bsmt.Half.Bath zamieniam None na 0\n",
    "kolumny = ['BsmtFin.SF.1', 'BsmtFin.SF.2', 'Bsmt.Unf.SF', 'Total.Bsmt.SF', 'Bsmt.Full.Bath', 'Bsmt.Half.Bath']\n",
    "for k in kolumny:\n",
    "    dane[k]=dane[k].replace(['None'],0)\n",
    "    dane[k].fillna(0, inplace = True)\n",
    "    \n",
    "### Fireplace.Qu / Garage Type (Nominal): Garage location / Garage.Yr.Blt\tGarage.Finish\tGarage.Cars\tGarage.Area None -> NA \n",
    "kolumny = ['Fireplace.Qu', 'Garage.Type', 'Garage.Finish', 'Garage.Qual', 'Garage.Cond', 'Pool.QC', 'Fence', 'Misc.Feature']\n",
    "for k in kolumny:\n",
    "    dane[k]=dane[k].replace(['None'],'NA')\n",
    "    dane[k].fillna('NA', inplace = True)\n",
    "    \n",
    "kolumny = ['Garage.Cars', 'Garage.Yr.Blt', 'Garage.Area']\n",
    "for k in kolumny:\n",
    "    dane[k] = dane[k].replace(['None'], 0)\n",
    "    dane[k] = dane[k].replace(['NA'], 0)\n",
    "    dane[k].fillna(0, inplace=True)\n",
    "\n",
    " \n",
    "\n",
    "dane['MS.Zoning'] = dane['MS.Zoning'].replace(['A (agr)'], 'A')\n",
    "dane['MS.Zoning'] = dane['MS.Zoning'].replace(['C (all)'], 'C')\n",
    "dane['MS.Zoning'] = dane['MS.Zoning'].replace(['I (all)'], 'I')"
   ]
  },
  {
   "cell_type": "code",
   "execution_count": 6,
   "metadata": {},
   "outputs": [],
   "source": [
    "dane = dane.astype({'Lot.Frontage':int, 'Mas.Vnr.Area':int, 'BsmtFin.SF.1':int, 'BsmtFin.SF.2':int, 'Bsmt.Unf.SF':int, 'Total.Bsmt.SF':int, 'Bsmt.Full.Bath':int, 'Bsmt.Half.Bath':int, 'Garage.Yr.Blt':int, 'Garage.Cars':int, 'Garage.Area':int})"
   ]
  },
  {
   "cell_type": "code",
   "execution_count": null,
   "metadata": {},
   "outputs": [],
   "source": [
    "#zliczam unikalne wartości i sprawdzam rozkład danych"
   ]
  },
  {
   "cell_type": "code",
   "execution_count": 8,
   "metadata": {},
   "outputs": [
    {
     "name": "stdout",
     "output_type": "stream",
     "text": [
      "rozmiar danych: (2000, 80)\n",
      "typów danych:  object    43\n",
      "int64     26\n",
      "int32     11\n",
      "Name: typy, dtype: int64\n"
     ]
    }
   ],
   "source": [
    "typy = dane.dtypes\n",
    "puste = dane.apply(lambda x: x.isnull().sum())\n",
    "licznik = dane.apply(lambda x: x.count())\n",
    "unikalne = dane.apply(lambda x: [x.unique()])\n",
    "unikalne_licznik = dane.apply(lambda x: x.unique().shape[0])\n",
    "skew = dane.skew()\n",
    "kurt = dane.kurt()\n",
    "print('rozmiar danych:', dane.shape)\n",
    "kolumny = ['typy', 'puste', 'licznik', 'unikalne licznik', 'skew', 'kurt']\n",
    "tab = pd.concat([typy, puste, licznik, unikalne_licznik, skew, kurt], axis = 1, sort=False)\n",
    "tab.columns = kolumny\n",
    "print('typów danych: ', tab.typy.value_counts())"
   ]
  },
  {
   "cell_type": "code",
   "execution_count": 9,
   "metadata": {},
   "outputs": [
    {
     "data": {
      "text/html": [
       "<div>\n",
       "<style scoped>\n",
       "    .dataframe tbody tr th:only-of-type {\n",
       "        vertical-align: middle;\n",
       "    }\n",
       "\n",
       "    .dataframe tbody tr th {\n",
       "        vertical-align: top;\n",
       "    }\n",
       "\n",
       "    .dataframe thead th {\n",
       "        text-align: right;\n",
       "    }\n",
       "</style>\n",
       "<table border=\"1\" class=\"dataframe\">\n",
       "  <thead>\n",
       "    <tr style=\"text-align: right;\">\n",
       "      <th></th>\n",
       "      <th>typy</th>\n",
       "      <th>puste</th>\n",
       "      <th>licznik</th>\n",
       "      <th>unikalne licznik</th>\n",
       "      <th>skew</th>\n",
       "      <th>kurt</th>\n",
       "    </tr>\n",
       "  </thead>\n",
       "  <tbody>\n",
       "    <tr>\n",
       "      <th>MS.SubClass</th>\n",
       "      <td>int64</td>\n",
       "      <td>0</td>\n",
       "      <td>2000</td>\n",
       "      <td>16</td>\n",
       "      <td>1.397446</td>\n",
       "      <td>1.524779</td>\n",
       "    </tr>\n",
       "    <tr>\n",
       "      <th>MS.Zoning</th>\n",
       "      <td>object</td>\n",
       "      <td>0</td>\n",
       "      <td>2000</td>\n",
       "      <td>7</td>\n",
       "      <td>NaN</td>\n",
       "      <td>NaN</td>\n",
       "    </tr>\n",
       "    <tr>\n",
       "      <th>Lot.Frontage</th>\n",
       "      <td>int32</td>\n",
       "      <td>0</td>\n",
       "      <td>2000</td>\n",
       "      <td>120</td>\n",
       "      <td>1.112154</td>\n",
       "      <td>9.257492</td>\n",
       "    </tr>\n",
       "    <tr>\n",
       "      <th>Lot.Area</th>\n",
       "      <td>int64</td>\n",
       "      <td>0</td>\n",
       "      <td>2000</td>\n",
       "      <td>1424</td>\n",
       "      <td>12.948537</td>\n",
       "      <td>243.690413</td>\n",
       "    </tr>\n",
       "    <tr>\n",
       "      <th>Street</th>\n",
       "      <td>object</td>\n",
       "      <td>0</td>\n",
       "      <td>2000</td>\n",
       "      <td>2</td>\n",
       "      <td>NaN</td>\n",
       "      <td>NaN</td>\n",
       "    </tr>\n",
       "    <tr>\n",
       "      <th>Alley</th>\n",
       "      <td>object</td>\n",
       "      <td>0</td>\n",
       "      <td>2000</td>\n",
       "      <td>3</td>\n",
       "      <td>NaN</td>\n",
       "      <td>NaN</td>\n",
       "    </tr>\n",
       "    <tr>\n",
       "      <th>Lot.Shape</th>\n",
       "      <td>object</td>\n",
       "      <td>0</td>\n",
       "      <td>2000</td>\n",
       "      <td>4</td>\n",
       "      <td>NaN</td>\n",
       "      <td>NaN</td>\n",
       "    </tr>\n",
       "    <tr>\n",
       "      <th>Land.Contour</th>\n",
       "      <td>object</td>\n",
       "      <td>0</td>\n",
       "      <td>2000</td>\n",
       "      <td>4</td>\n",
       "      <td>NaN</td>\n",
       "      <td>NaN</td>\n",
       "    </tr>\n",
       "    <tr>\n",
       "      <th>Utilities</th>\n",
       "      <td>object</td>\n",
       "      <td>0</td>\n",
       "      <td>2000</td>\n",
       "      <td>1</td>\n",
       "      <td>NaN</td>\n",
       "      <td>NaN</td>\n",
       "    </tr>\n",
       "    <tr>\n",
       "      <th>Lot.Config</th>\n",
       "      <td>object</td>\n",
       "      <td>0</td>\n",
       "      <td>2000</td>\n",
       "      <td>5</td>\n",
       "      <td>NaN</td>\n",
       "      <td>NaN</td>\n",
       "    </tr>\n",
       "    <tr>\n",
       "      <th>Land.Slope</th>\n",
       "      <td>object</td>\n",
       "      <td>0</td>\n",
       "      <td>2000</td>\n",
       "      <td>3</td>\n",
       "      <td>NaN</td>\n",
       "      <td>NaN</td>\n",
       "    </tr>\n",
       "    <tr>\n",
       "      <th>Neighborhood</th>\n",
       "      <td>object</td>\n",
       "      <td>0</td>\n",
       "      <td>2000</td>\n",
       "      <td>27</td>\n",
       "      <td>NaN</td>\n",
       "      <td>NaN</td>\n",
       "    </tr>\n",
       "    <tr>\n",
       "      <th>Condition.1</th>\n",
       "      <td>object</td>\n",
       "      <td>0</td>\n",
       "      <td>2000</td>\n",
       "      <td>9</td>\n",
       "      <td>NaN</td>\n",
       "      <td>NaN</td>\n",
       "    </tr>\n",
       "    <tr>\n",
       "      <th>Condition.2</th>\n",
       "      <td>object</td>\n",
       "      <td>0</td>\n",
       "      <td>2000</td>\n",
       "      <td>7</td>\n",
       "      <td>NaN</td>\n",
       "      <td>NaN</td>\n",
       "    </tr>\n",
       "    <tr>\n",
       "      <th>Bldg.Type</th>\n",
       "      <td>object</td>\n",
       "      <td>0</td>\n",
       "      <td>2000</td>\n",
       "      <td>5</td>\n",
       "      <td>NaN</td>\n",
       "      <td>NaN</td>\n",
       "    </tr>\n",
       "    <tr>\n",
       "      <th>House.Style</th>\n",
       "      <td>object</td>\n",
       "      <td>0</td>\n",
       "      <td>2000</td>\n",
       "      <td>8</td>\n",
       "      <td>NaN</td>\n",
       "      <td>NaN</td>\n",
       "    </tr>\n",
       "    <tr>\n",
       "      <th>Overall.Qual</th>\n",
       "      <td>int64</td>\n",
       "      <td>0</td>\n",
       "      <td>2000</td>\n",
       "      <td>10</td>\n",
       "      <td>0.186221</td>\n",
       "      <td>-0.058625</td>\n",
       "    </tr>\n",
       "    <tr>\n",
       "      <th>Overall.Cond</th>\n",
       "      <td>int64</td>\n",
       "      <td>0</td>\n",
       "      <td>2000</td>\n",
       "      <td>9</td>\n",
       "      <td>0.576271</td>\n",
       "      <td>1.447757</td>\n",
       "    </tr>\n",
       "    <tr>\n",
       "      <th>Year.Built</th>\n",
       "      <td>int64</td>\n",
       "      <td>0</td>\n",
       "      <td>2000</td>\n",
       "      <td>112</td>\n",
       "      <td>-0.586293</td>\n",
       "      <td>-0.489327</td>\n",
       "    </tr>\n",
       "    <tr>\n",
       "      <th>Year.Remod.Add</th>\n",
       "      <td>int64</td>\n",
       "      <td>0</td>\n",
       "      <td>2000</td>\n",
       "      <td>61</td>\n",
       "      <td>-0.428026</td>\n",
       "      <td>-1.365791</td>\n",
       "    </tr>\n",
       "    <tr>\n",
       "      <th>Roof.Style</th>\n",
       "      <td>object</td>\n",
       "      <td>0</td>\n",
       "      <td>2000</td>\n",
       "      <td>6</td>\n",
       "      <td>NaN</td>\n",
       "      <td>NaN</td>\n",
       "    </tr>\n",
       "    <tr>\n",
       "      <th>Roof.Matl</th>\n",
       "      <td>object</td>\n",
       "      <td>0</td>\n",
       "      <td>2000</td>\n",
       "      <td>7</td>\n",
       "      <td>NaN</td>\n",
       "      <td>NaN</td>\n",
       "    </tr>\n",
       "    <tr>\n",
       "      <th>Exterior.1st</th>\n",
       "      <td>object</td>\n",
       "      <td>0</td>\n",
       "      <td>2000</td>\n",
       "      <td>14</td>\n",
       "      <td>NaN</td>\n",
       "      <td>NaN</td>\n",
       "    </tr>\n",
       "    <tr>\n",
       "      <th>Exterior.2nd</th>\n",
       "      <td>object</td>\n",
       "      <td>0</td>\n",
       "      <td>2000</td>\n",
       "      <td>16</td>\n",
       "      <td>NaN</td>\n",
       "      <td>NaN</td>\n",
       "    </tr>\n",
       "    <tr>\n",
       "      <th>Mas.Vnr.Type</th>\n",
       "      <td>object</td>\n",
       "      <td>0</td>\n",
       "      <td>2000</td>\n",
       "      <td>5</td>\n",
       "      <td>NaN</td>\n",
       "      <td>NaN</td>\n",
       "    </tr>\n",
       "    <tr>\n",
       "      <th>Mas.Vnr.Area</th>\n",
       "      <td>int32</td>\n",
       "      <td>0</td>\n",
       "      <td>2000</td>\n",
       "      <td>362</td>\n",
       "      <td>2.746721</td>\n",
       "      <td>10.303874</td>\n",
       "    </tr>\n",
       "    <tr>\n",
       "      <th>Exter.Qual</th>\n",
       "      <td>object</td>\n",
       "      <td>0</td>\n",
       "      <td>2000</td>\n",
       "      <td>4</td>\n",
       "      <td>NaN</td>\n",
       "      <td>NaN</td>\n",
       "    </tr>\n",
       "    <tr>\n",
       "      <th>Exter.Cond</th>\n",
       "      <td>object</td>\n",
       "      <td>0</td>\n",
       "      <td>2000</td>\n",
       "      <td>4</td>\n",
       "      <td>NaN</td>\n",
       "      <td>NaN</td>\n",
       "    </tr>\n",
       "    <tr>\n",
       "      <th>Foundation</th>\n",
       "      <td>object</td>\n",
       "      <td>0</td>\n",
       "      <td>2000</td>\n",
       "      <td>6</td>\n",
       "      <td>NaN</td>\n",
       "      <td>NaN</td>\n",
       "    </tr>\n",
       "    <tr>\n",
       "      <th>Bsmt.Qual</th>\n",
       "      <td>object</td>\n",
       "      <td>0</td>\n",
       "      <td>2000</td>\n",
       "      <td>6</td>\n",
       "      <td>NaN</td>\n",
       "      <td>NaN</td>\n",
       "    </tr>\n",
       "    <tr>\n",
       "      <th>Bsmt.Cond</th>\n",
       "      <td>object</td>\n",
       "      <td>0</td>\n",
       "      <td>2000</td>\n",
       "      <td>6</td>\n",
       "      <td>NaN</td>\n",
       "      <td>NaN</td>\n",
       "    </tr>\n",
       "    <tr>\n",
       "      <th>Bsmt.Exposure</th>\n",
       "      <td>object</td>\n",
       "      <td>0</td>\n",
       "      <td>2000</td>\n",
       "      <td>5</td>\n",
       "      <td>NaN</td>\n",
       "      <td>NaN</td>\n",
       "    </tr>\n",
       "    <tr>\n",
       "      <th>BsmtFin.Type.1</th>\n",
       "      <td>object</td>\n",
       "      <td>0</td>\n",
       "      <td>2000</td>\n",
       "      <td>7</td>\n",
       "      <td>NaN</td>\n",
       "      <td>NaN</td>\n",
       "    </tr>\n",
       "    <tr>\n",
       "      <th>BsmtFin.SF.1</th>\n",
       "      <td>int32</td>\n",
       "      <td>0</td>\n",
       "      <td>2000</td>\n",
       "      <td>816</td>\n",
       "      <td>1.481165</td>\n",
       "      <td>8.588879</td>\n",
       "    </tr>\n",
       "    <tr>\n",
       "      <th>BsmtFin.Type.2</th>\n",
       "      <td>object</td>\n",
       "      <td>0</td>\n",
       "      <td>2000</td>\n",
       "      <td>7</td>\n",
       "      <td>NaN</td>\n",
       "      <td>NaN</td>\n",
       "    </tr>\n",
       "    <tr>\n",
       "      <th>BsmtFin.SF.2</th>\n",
       "      <td>int32</td>\n",
       "      <td>0</td>\n",
       "      <td>2000</td>\n",
       "      <td>211</td>\n",
       "      <td>4.050119</td>\n",
       "      <td>18.120302</td>\n",
       "    </tr>\n",
       "    <tr>\n",
       "      <th>Bsmt.Unf.SF</th>\n",
       "      <td>int32</td>\n",
       "      <td>0</td>\n",
       "      <td>2000</td>\n",
       "      <td>927</td>\n",
       "      <td>0.915646</td>\n",
       "      <td>0.319446</td>\n",
       "    </tr>\n",
       "    <tr>\n",
       "      <th>Total.Bsmt.SF</th>\n",
       "      <td>int32</td>\n",
       "      <td>0</td>\n",
       "      <td>2000</td>\n",
       "      <td>870</td>\n",
       "      <td>1.114845</td>\n",
       "      <td>10.033957</td>\n",
       "    </tr>\n",
       "    <tr>\n",
       "      <th>Heating</th>\n",
       "      <td>object</td>\n",
       "      <td>0</td>\n",
       "      <td>2000</td>\n",
       "      <td>6</td>\n",
       "      <td>NaN</td>\n",
       "      <td>NaN</td>\n",
       "    </tr>\n",
       "    <tr>\n",
       "      <th>Heating.QC</th>\n",
       "      <td>object</td>\n",
       "      <td>0</td>\n",
       "      <td>2000</td>\n",
       "      <td>5</td>\n",
       "      <td>NaN</td>\n",
       "      <td>NaN</td>\n",
       "    </tr>\n",
       "    <tr>\n",
       "      <th>Central.Air</th>\n",
       "      <td>object</td>\n",
       "      <td>0</td>\n",
       "      <td>2000</td>\n",
       "      <td>2</td>\n",
       "      <td>NaN</td>\n",
       "      <td>NaN</td>\n",
       "    </tr>\n",
       "    <tr>\n",
       "      <th>Electrical</th>\n",
       "      <td>object</td>\n",
       "      <td>0</td>\n",
       "      <td>2000</td>\n",
       "      <td>4</td>\n",
       "      <td>NaN</td>\n",
       "      <td>NaN</td>\n",
       "    </tr>\n",
       "    <tr>\n",
       "      <th>X1st.Flr.SF</th>\n",
       "      <td>int64</td>\n",
       "      <td>0</td>\n",
       "      <td>2000</td>\n",
       "      <td>902</td>\n",
       "      <td>1.142522</td>\n",
       "      <td>4.077818</td>\n",
       "    </tr>\n",
       "    <tr>\n",
       "      <th>X2nd.Flr.SF</th>\n",
       "      <td>int64</td>\n",
       "      <td>0</td>\n",
       "      <td>2000</td>\n",
       "      <td>500</td>\n",
       "      <td>0.847901</td>\n",
       "      <td>-0.512504</td>\n",
       "    </tr>\n",
       "    <tr>\n",
       "      <th>Low.Qual.Fin.SF</th>\n",
       "      <td>int64</td>\n",
       "      <td>0</td>\n",
       "      <td>2000</td>\n",
       "      <td>25</td>\n",
       "      <td>10.838821</td>\n",
       "      <td>124.288314</td>\n",
       "    </tr>\n",
       "    <tr>\n",
       "      <th>Gr.Liv.Area</th>\n",
       "      <td>int64</td>\n",
       "      <td>0</td>\n",
       "      <td>2000</td>\n",
       "      <td>1051</td>\n",
       "      <td>1.195520</td>\n",
       "      <td>3.762153</td>\n",
       "    </tr>\n",
       "    <tr>\n",
       "      <th>Bsmt.Full.Bath</th>\n",
       "      <td>int32</td>\n",
       "      <td>0</td>\n",
       "      <td>2000</td>\n",
       "      <td>4</td>\n",
       "      <td>0.577899</td>\n",
       "      <td>-0.863385</td>\n",
       "    </tr>\n",
       "    <tr>\n",
       "      <th>Bsmt.Half.Bath</th>\n",
       "      <td>int32</td>\n",
       "      <td>0</td>\n",
       "      <td>2000</td>\n",
       "      <td>3</td>\n",
       "      <td>3.831006</td>\n",
       "      <td>14.314595</td>\n",
       "    </tr>\n",
       "    <tr>\n",
       "      <th>Full.Bath</th>\n",
       "      <td>int64</td>\n",
       "      <td>0</td>\n",
       "      <td>2000</td>\n",
       "      <td>5</td>\n",
       "      <td>0.109588</td>\n",
       "      <td>-0.752098</td>\n",
       "    </tr>\n",
       "    <tr>\n",
       "      <th>Half.Bath</th>\n",
       "      <td>int64</td>\n",
       "      <td>0</td>\n",
       "      <td>2000</td>\n",
       "      <td>3</td>\n",
       "      <td>0.738346</td>\n",
       "      <td>-0.946338</td>\n",
       "    </tr>\n",
       "    <tr>\n",
       "      <th>Bedroom.AbvGr</th>\n",
       "      <td>int64</td>\n",
       "      <td>0</td>\n",
       "      <td>2000</td>\n",
       "      <td>8</td>\n",
       "      <td>0.343663</td>\n",
       "      <td>2.241736</td>\n",
       "    </tr>\n",
       "    <tr>\n",
       "      <th>Kitchen.AbvGr</th>\n",
       "      <td>int64</td>\n",
       "      <td>0</td>\n",
       "      <td>2000</td>\n",
       "      <td>4</td>\n",
       "      <td>4.016797</td>\n",
       "      <td>17.561897</td>\n",
       "    </tr>\n",
       "    <tr>\n",
       "      <th>Kitchen.Qual</th>\n",
       "      <td>object</td>\n",
       "      <td>0</td>\n",
       "      <td>2000</td>\n",
       "      <td>4</td>\n",
       "      <td>NaN</td>\n",
       "      <td>NaN</td>\n",
       "    </tr>\n",
       "    <tr>\n",
       "      <th>TotRms.AbvGrd</th>\n",
       "      <td>int64</td>\n",
       "      <td>0</td>\n",
       "      <td>2000</td>\n",
       "      <td>11</td>\n",
       "      <td>0.698132</td>\n",
       "      <td>0.814794</td>\n",
       "    </tr>\n",
       "    <tr>\n",
       "      <th>Functional</th>\n",
       "      <td>object</td>\n",
       "      <td>0</td>\n",
       "      <td>2000</td>\n",
       "      <td>7</td>\n",
       "      <td>NaN</td>\n",
       "      <td>NaN</td>\n",
       "    </tr>\n",
       "    <tr>\n",
       "      <th>Fireplaces</th>\n",
       "      <td>int64</td>\n",
       "      <td>0</td>\n",
       "      <td>2000</td>\n",
       "      <td>5</td>\n",
       "      <td>0.754848</td>\n",
       "      <td>0.127370</td>\n",
       "    </tr>\n",
       "    <tr>\n",
       "      <th>Fireplace.Qu</th>\n",
       "      <td>object</td>\n",
       "      <td>0</td>\n",
       "      <td>2000</td>\n",
       "      <td>6</td>\n",
       "      <td>NaN</td>\n",
       "      <td>NaN</td>\n",
       "    </tr>\n",
       "    <tr>\n",
       "      <th>Garage.Type</th>\n",
       "      <td>object</td>\n",
       "      <td>0</td>\n",
       "      <td>2000</td>\n",
       "      <td>7</td>\n",
       "      <td>NaN</td>\n",
       "      <td>NaN</td>\n",
       "    </tr>\n",
       "    <tr>\n",
       "      <th>Garage.Yr.Blt</th>\n",
       "      <td>int32</td>\n",
       "      <td>0</td>\n",
       "      <td>2000</td>\n",
       "      <td>101</td>\n",
       "      <td>-3.846778</td>\n",
       "      <td>12.862867</td>\n",
       "    </tr>\n",
       "    <tr>\n",
       "      <th>Garage.Finish</th>\n",
       "      <td>object</td>\n",
       "      <td>0</td>\n",
       "      <td>2000</td>\n",
       "      <td>4</td>\n",
       "      <td>NaN</td>\n",
       "      <td>NaN</td>\n",
       "    </tr>\n",
       "    <tr>\n",
       "      <th>Garage.Cars</th>\n",
       "      <td>int32</td>\n",
       "      <td>0</td>\n",
       "      <td>2000</td>\n",
       "      <td>6</td>\n",
       "      <td>-0.226914</td>\n",
       "      <td>0.245449</td>\n",
       "    </tr>\n",
       "    <tr>\n",
       "      <th>Garage.Area</th>\n",
       "      <td>int32</td>\n",
       "      <td>0</td>\n",
       "      <td>2000</td>\n",
       "      <td>530</td>\n",
       "      <td>0.240613</td>\n",
       "      <td>1.039470</td>\n",
       "    </tr>\n",
       "    <tr>\n",
       "      <th>Garage.Qual</th>\n",
       "      <td>object</td>\n",
       "      <td>0</td>\n",
       "      <td>2000</td>\n",
       "      <td>6</td>\n",
       "      <td>NaN</td>\n",
       "      <td>NaN</td>\n",
       "    </tr>\n",
       "    <tr>\n",
       "      <th>Garage.Cond</th>\n",
       "      <td>object</td>\n",
       "      <td>0</td>\n",
       "      <td>2000</td>\n",
       "      <td>6</td>\n",
       "      <td>NaN</td>\n",
       "      <td>NaN</td>\n",
       "    </tr>\n",
       "    <tr>\n",
       "      <th>Paved.Drive</th>\n",
       "      <td>object</td>\n",
       "      <td>0</td>\n",
       "      <td>2000</td>\n",
       "      <td>3</td>\n",
       "      <td>NaN</td>\n",
       "      <td>NaN</td>\n",
       "    </tr>\n",
       "    <tr>\n",
       "      <th>Wood.Deck.SF</th>\n",
       "      <td>int64</td>\n",
       "      <td>0</td>\n",
       "      <td>2000</td>\n",
       "      <td>324</td>\n",
       "      <td>1.624127</td>\n",
       "      <td>3.447389</td>\n",
       "    </tr>\n",
       "    <tr>\n",
       "      <th>Open.Porch.SF</th>\n",
       "      <td>int64</td>\n",
       "      <td>0</td>\n",
       "      <td>2000</td>\n",
       "      <td>216</td>\n",
       "      <td>2.640398</td>\n",
       "      <td>13.196624</td>\n",
       "    </tr>\n",
       "    <tr>\n",
       "      <th>Enclosed.Porch</th>\n",
       "      <td>int64</td>\n",
       "      <td>0</td>\n",
       "      <td>2000</td>\n",
       "      <td>147</td>\n",
       "      <td>4.264961</td>\n",
       "      <td>33.530351</td>\n",
       "    </tr>\n",
       "    <tr>\n",
       "      <th>X3Ssn.Porch</th>\n",
       "      <td>int64</td>\n",
       "      <td>0</td>\n",
       "      <td>2000</td>\n",
       "      <td>20</td>\n",
       "      <td>10.657703</td>\n",
       "      <td>121.795784</td>\n",
       "    </tr>\n",
       "    <tr>\n",
       "      <th>Screen.Porch</th>\n",
       "      <td>int64</td>\n",
       "      <td>0</td>\n",
       "      <td>2000</td>\n",
       "      <td>94</td>\n",
       "      <td>3.777657</td>\n",
       "      <td>15.378075</td>\n",
       "    </tr>\n",
       "    <tr>\n",
       "      <th>Pool.Area</th>\n",
       "      <td>int64</td>\n",
       "      <td>0</td>\n",
       "      <td>2000</td>\n",
       "      <td>12</td>\n",
       "      <td>14.822451</td>\n",
       "      <td>229.103356</td>\n",
       "    </tr>\n",
       "    <tr>\n",
       "      <th>Pool.QC</th>\n",
       "      <td>object</td>\n",
       "      <td>0</td>\n",
       "      <td>2000</td>\n",
       "      <td>5</td>\n",
       "      <td>NaN</td>\n",
       "      <td>NaN</td>\n",
       "    </tr>\n",
       "    <tr>\n",
       "      <th>Fence</th>\n",
       "      <td>object</td>\n",
       "      <td>0</td>\n",
       "      <td>2000</td>\n",
       "      <td>5</td>\n",
       "      <td>NaN</td>\n",
       "      <td>NaN</td>\n",
       "    </tr>\n",
       "    <tr>\n",
       "      <th>Misc.Feature</th>\n",
       "      <td>object</td>\n",
       "      <td>0</td>\n",
       "      <td>2000</td>\n",
       "      <td>5</td>\n",
       "      <td>NaN</td>\n",
       "      <td>NaN</td>\n",
       "    </tr>\n",
       "    <tr>\n",
       "      <th>Misc.Val</th>\n",
       "      <td>int64</td>\n",
       "      <td>0</td>\n",
       "      <td>2000</td>\n",
       "      <td>31</td>\n",
       "      <td>24.877218</td>\n",
       "      <td>792.404505</td>\n",
       "    </tr>\n",
       "    <tr>\n",
       "      <th>Mo.Sold</th>\n",
       "      <td>int64</td>\n",
       "      <td>0</td>\n",
       "      <td>2000</td>\n",
       "      <td>12</td>\n",
       "      <td>0.191293</td>\n",
       "      <td>-0.466318</td>\n",
       "    </tr>\n",
       "    <tr>\n",
       "      <th>Yr.Sold</th>\n",
       "      <td>int64</td>\n",
       "      <td>0</td>\n",
       "      <td>2000</td>\n",
       "      <td>5</td>\n",
       "      <td>0.123857</td>\n",
       "      <td>-1.162176</td>\n",
       "    </tr>\n",
       "    <tr>\n",
       "      <th>Sale.Type</th>\n",
       "      <td>object</td>\n",
       "      <td>0</td>\n",
       "      <td>2000</td>\n",
       "      <td>10</td>\n",
       "      <td>NaN</td>\n",
       "      <td>NaN</td>\n",
       "    </tr>\n",
       "    <tr>\n",
       "      <th>Sale.Condition</th>\n",
       "      <td>object</td>\n",
       "      <td>0</td>\n",
       "      <td>2000</td>\n",
       "      <td>6</td>\n",
       "      <td>NaN</td>\n",
       "      <td>NaN</td>\n",
       "    </tr>\n",
       "    <tr>\n",
       "      <th>SalePrice</th>\n",
       "      <td>int64</td>\n",
       "      <td>0</td>\n",
       "      <td>2000</td>\n",
       "      <td>812</td>\n",
       "      <td>1.738453</td>\n",
       "      <td>5.353734</td>\n",
       "    </tr>\n",
       "  </tbody>\n",
       "</table>\n",
       "</div>"
      ],
      "text/plain": [
       "                   typy  puste  licznik  unikalne licznik       skew        kurt\n",
       "MS.SubClass       int64      0     2000                16   1.397446    1.524779\n",
       "MS.Zoning        object      0     2000                 7        NaN         NaN\n",
       "Lot.Frontage      int32      0     2000               120   1.112154    9.257492\n",
       "Lot.Area          int64      0     2000              1424  12.948537  243.690413\n",
       "Street           object      0     2000                 2        NaN         NaN\n",
       "Alley            object      0     2000                 3        NaN         NaN\n",
       "Lot.Shape        object      0     2000                 4        NaN         NaN\n",
       "Land.Contour     object      0     2000                 4        NaN         NaN\n",
       "Utilities        object      0     2000                 1        NaN         NaN\n",
       "Lot.Config       object      0     2000                 5        NaN         NaN\n",
       "Land.Slope       object      0     2000                 3        NaN         NaN\n",
       "Neighborhood     object      0     2000                27        NaN         NaN\n",
       "Condition.1      object      0     2000                 9        NaN         NaN\n",
       "Condition.2      object      0     2000                 7        NaN         NaN\n",
       "Bldg.Type        object      0     2000                 5        NaN         NaN\n",
       "House.Style      object      0     2000                 8        NaN         NaN\n",
       "Overall.Qual      int64      0     2000                10   0.186221   -0.058625\n",
       "Overall.Cond      int64      0     2000                 9   0.576271    1.447757\n",
       "Year.Built        int64      0     2000               112  -0.586293   -0.489327\n",
       "Year.Remod.Add    int64      0     2000                61  -0.428026   -1.365791\n",
       "Roof.Style       object      0     2000                 6        NaN         NaN\n",
       "Roof.Matl        object      0     2000                 7        NaN         NaN\n",
       "Exterior.1st     object      0     2000                14        NaN         NaN\n",
       "Exterior.2nd     object      0     2000                16        NaN         NaN\n",
       "Mas.Vnr.Type     object      0     2000                 5        NaN         NaN\n",
       "Mas.Vnr.Area      int32      0     2000               362   2.746721   10.303874\n",
       "Exter.Qual       object      0     2000                 4        NaN         NaN\n",
       "Exter.Cond       object      0     2000                 4        NaN         NaN\n",
       "Foundation       object      0     2000                 6        NaN         NaN\n",
       "Bsmt.Qual        object      0     2000                 6        NaN         NaN\n",
       "Bsmt.Cond        object      0     2000                 6        NaN         NaN\n",
       "Bsmt.Exposure    object      0     2000                 5        NaN         NaN\n",
       "BsmtFin.Type.1   object      0     2000                 7        NaN         NaN\n",
       "BsmtFin.SF.1      int32      0     2000               816   1.481165    8.588879\n",
       "BsmtFin.Type.2   object      0     2000                 7        NaN         NaN\n",
       "BsmtFin.SF.2      int32      0     2000               211   4.050119   18.120302\n",
       "Bsmt.Unf.SF       int32      0     2000               927   0.915646    0.319446\n",
       "Total.Bsmt.SF     int32      0     2000               870   1.114845   10.033957\n",
       "Heating          object      0     2000                 6        NaN         NaN\n",
       "Heating.QC       object      0     2000                 5        NaN         NaN\n",
       "Central.Air      object      0     2000                 2        NaN         NaN\n",
       "Electrical       object      0     2000                 4        NaN         NaN\n",
       "X1st.Flr.SF       int64      0     2000               902   1.142522    4.077818\n",
       "X2nd.Flr.SF       int64      0     2000               500   0.847901   -0.512504\n",
       "Low.Qual.Fin.SF   int64      0     2000                25  10.838821  124.288314\n",
       "Gr.Liv.Area       int64      0     2000              1051   1.195520    3.762153\n",
       "Bsmt.Full.Bath    int32      0     2000                 4   0.577899   -0.863385\n",
       "Bsmt.Half.Bath    int32      0     2000                 3   3.831006   14.314595\n",
       "Full.Bath         int64      0     2000                 5   0.109588   -0.752098\n",
       "Half.Bath         int64      0     2000                 3   0.738346   -0.946338\n",
       "Bedroom.AbvGr     int64      0     2000                 8   0.343663    2.241736\n",
       "Kitchen.AbvGr     int64      0     2000                 4   4.016797   17.561897\n",
       "Kitchen.Qual     object      0     2000                 4        NaN         NaN\n",
       "TotRms.AbvGrd     int64      0     2000                11   0.698132    0.814794\n",
       "Functional       object      0     2000                 7        NaN         NaN\n",
       "Fireplaces        int64      0     2000                 5   0.754848    0.127370\n",
       "Fireplace.Qu     object      0     2000                 6        NaN         NaN\n",
       "Garage.Type      object      0     2000                 7        NaN         NaN\n",
       "Garage.Yr.Blt     int32      0     2000               101  -3.846778   12.862867\n",
       "Garage.Finish    object      0     2000                 4        NaN         NaN\n",
       "Garage.Cars       int32      0     2000                 6  -0.226914    0.245449\n",
       "Garage.Area       int32      0     2000               530   0.240613    1.039470\n",
       "Garage.Qual      object      0     2000                 6        NaN         NaN\n",
       "Garage.Cond      object      0     2000                 6        NaN         NaN\n",
       "Paved.Drive      object      0     2000                 3        NaN         NaN\n",
       "Wood.Deck.SF      int64      0     2000               324   1.624127    3.447389\n",
       "Open.Porch.SF     int64      0     2000               216   2.640398   13.196624\n",
       "Enclosed.Porch    int64      0     2000               147   4.264961   33.530351\n",
       "X3Ssn.Porch       int64      0     2000                20  10.657703  121.795784\n",
       "Screen.Porch      int64      0     2000                94   3.777657   15.378075\n",
       "Pool.Area         int64      0     2000                12  14.822451  229.103356\n",
       "Pool.QC          object      0     2000                 5        NaN         NaN\n",
       "Fence            object      0     2000                 5        NaN         NaN\n",
       "Misc.Feature     object      0     2000                 5        NaN         NaN\n",
       "Misc.Val          int64      0     2000                31  24.877218  792.404505\n",
       "Mo.Sold           int64      0     2000                12   0.191293   -0.466318\n",
       "Yr.Sold           int64      0     2000                 5   0.123857   -1.162176\n",
       "Sale.Type        object      0     2000                10        NaN         NaN\n",
       "Sale.Condition   object      0     2000                 6        NaN         NaN\n",
       "SalePrice         int64      0     2000               812   1.738453    5.353734"
      ]
     },
     "execution_count": 9,
     "metadata": {},
     "output_type": "execute_result"
    }
   ],
   "source": [
    "pd.set_option('display.max_rows', 500)\n",
    "pd.set_option('display.max_columns', 500)\n",
    "pd.set_option('display.width', 1000)\n",
    "tab"
   ]
  },
  {
   "cell_type": "code",
   "execution_count": 10,
   "metadata": {},
   "outputs": [
    {
     "name": "stdout",
     "output_type": "stream",
     "text": [
      "MS.SubClass [120  20  85  90  60  70  50  80 160 190  45  30  75 180  40 150]\n",
      "MS.Zoning ['RL' 'RM' 'C' 'FV' 'I' 'A' 'RH']\n",
      "Lot.Frontage [ 34  70  60  64 111  50 155 100  55  51  42  75  52  24  59  79  85  65\n",
      "  58  83  84  80  63  89 112  38  77 174  39  87 125  44  81  86  97  93\n",
      " 118 102  78  57  69  67 116  68 101  48  73  43  32  92  54  76  91  88\n",
      "  90  95  40  71  72  62 130  82  21 120 114  99 105 104  35  47  98  53\n",
      "  61  66  94  41  74 110 115  36 117 134  30 141  49  96 124  37 129 128\n",
      " 107  33 108 182 136  56 113 103  46 149  26 109  45 313 135 121 126 133\n",
      "  22 153  25 150 138 140 152 106 160 195 168  28]\n",
      "Lot.Area [ 3901  8400  7200 ... 10367 10142  7252]\n",
      "Street ['Pave' 'Grvl']\n",
      "Alley ['NA' 'Grvl' 'Pave']\n",
      "Lot.Shape ['Reg' 'IR1' 'IR2' 'IR3']\n",
      "Land.Contour ['Lvl' 'Bnk' 'Low' 'HLS']\n",
      "Utilities ['AllPub']\n",
      "Lot.Config ['Inside' 'Corner' 'CulDSac' 'FR2' 'FR3']\n",
      "Land.Slope ['Gtl' 'Sev' 'Mod']\n",
      "Neighborhood ['NridgHt' 'Nonemes' 'CollgCr' 'SawyerW' 'Sawyer' 'ClearCr' 'OldTown'\n",
      " 'SWISU' 'Crawfor' 'Edwards' 'Timber' 'Gilbert' 'NoRidge' 'NWAmes'\n",
      " 'BrkSide' 'Somerst' 'StoneBr' 'IDOTRR' 'Mitchel' 'MeadowV' 'NPkVill'\n",
      " 'Blmngtn' 'Veenker' 'BrDale' 'Greens' 'Blueste' 'GrnHill']\n",
      "Condition.1 ['Norm' 'Feedr' 'RRAn' 'Artery' 'PosN' 'PosA' 'RRAe' 'RRNn' 'RRNe']\n",
      "Condition.2 ['Norm' 'PosN' 'RRAn' 'Artery' 'Feedr' 'PosA' 'RRNn']\n",
      "Bldg.Type ['Twnhs' '1Fam' 'Duplex' '2fmCon' 'TwnhsE']\n",
      "House.Style ['1Story' 'SFoyer' '2Story' '1.5Fin' 'SLvl' '1.5Unf' '2.5Unf' '2.5Fin']\n",
      "Overall.Qual [ 6  4  5  9  8  7 10  3  1  2]\n",
      "Overall.Cond [5 8 9 6 1 2 7 4 3]\n",
      "Year.Built [2005 1970 1972 1979 2006 1946 1976 1950 2000 1907 1918 1967 1931 1978\n",
      " 1964 1958 2004 2007 1941 1954 2002 1959 1977 1998 1935 1984 1910 1965\n",
      " 1960 1924 1966 1892 1988 1962 1929 1991 1956 1987 1975 2008 1996 1949\n",
      " 1974 1900 1920 1955 1936 2001 1999 1928 1925 1981 1926 1993 1923 1992\n",
      " 1947 1963 1922 1938 1961 2009 1968 1930 1971 1995 2003 1948 1997 1952\n",
      " 1945 1921 1940 1872 1957 1985 1953 1937 1973 1880 1951 1990 1939 1983\n",
      " 1980 1914 1919 1969 1895 1994 1890 1915 1916 1905 1942 1989 1908 1912\n",
      " 1902 1986 2010 1917 1934 1927 1885 1879 1901 1932 1904 1982 1896 1911]\n",
      "Year.Remod.Add [2006 1970 2003 1979 2001 1976 1950 2000 1998 1967 1978 1964 2004 2007\n",
      " 2005 1954 2002 1959 1977 1984 1981 1987 1973 1988 1966 1965 1985 1990\n",
      " 1992 1956 2008 1997 1974 1993 1955 1980 1972 1975 1994 1960 1963 1999\n",
      " 1961 1962 2009 1968 1971 1995 1996 1952 1958 1957 1953 1986 1951 1991\n",
      " 1983 2010 1989 1969 1982]\n",
      "Roof.Style ['Gable' 'Shed' 'Gambrel' 'Flat' 'Hip' 'Mansard']\n",
      "Roof.Matl ['CompShg' 'WdShngl' 'Tar&Grv' 'WdShake' 'ClyTile' 'Metal' 'Membran']\n",
      "Exterior.1st ['VinylSd' 'Plywood' 'WdShing' 'MetalSd' 'Wd Sdng' 'HdBoard' 'CemntBd'\n",
      " 'BrkFace' 'Stucco' 'BrkComm' 'AsbShng' 'CBlock' 'AsphShn' 'Stone']\n",
      "Exterior.2nd ['VinylSd' 'Plywood' 'HdBoard' 'MetalSd' 'Wd Sdng' 'Stucco' 'CmentBd'\n",
      " 'Wd Shng' 'ImStucc' 'Stone' 'BrkFace' 'AsbShng' 'Brk Cmn' 'CBlock'\n",
      " 'AsphShn' 'Other']\n",
      "Mas.Vnr.Type ['Stone' 'None' 'BrkFace' 'BrkCmn' 'CBlock']\n",
      "Mas.Vnr.Area [ 182    0  370  244  123  260   50  970  630  113  156  299  242   84\n",
      "   40   85  119  238  161  149   76  100  272  248  240  921  650   28\n",
      "  150   60  340  653   45   89   20  208  164  116  144  158  305  466\n",
      "  278  223  584  198  226  206   16  197  188 1159  360  184   92  196\n",
      "  262  479  302  309  420   90  134 1110  216   42  738  502  157  298\n",
      "  147  285  288   94  456  673  327  210  306  138  243  481  296  344\n",
      "  268   30  530   88   74  112 1290  171  304  256  215  290  366  280\n",
      "  352  106  576  320  232  174  253  470  621  104  252  108   44  168\n",
      "  132  492   68  504  287  217  365  500  247  126  568  176  371  435\n",
      "   70  140  877  187  328  430  114  387   75  450  246  186  442  270\n",
      "  265  318  506  356  200  120  424  203   95  362  170   65  154  275\n",
      "  202  549   66  473  218  166  146  229  162  603  180   80  130  128\n",
      "  204 1170  734  250  491  342  235 1095  137  101  337  495  178  513\n",
      "  110  436  220  472  554  237   72  571  451  348  300  212   57   36\n",
      "  353  870  391  289  754 1224  515  886  105   46  142  165  657   91\n",
      "   54  423  726  145  860   51  350  183  310  396  428   67  385   23\n",
      "  194  293  660  121  284  192  772  425  143  276  975   96   24  459\n",
      "  227  664  153  136  501  189  125   82  528  230  412 1047   52   99\n",
      "  333  579  372  264   34  422  359  323  652   56  251  222  160  281\n",
      "  172  364  432   53   32  480   14  122   69   38  600  261  127  796\n",
      "  283  336  368  135  286  234  426  440   47   98  239  509  816  225\n",
      "   87  245  148  259  169  383  351  768  405  335  102  410   18  766\n",
      "  312  297  402  254  632  380  382  388   97  572  205  415   58  292\n",
      " 1600  651  397  724 1115   64  468  355  894  163  748    1   86  550\n",
      "  615  714  532  525  109 1129  448  266  190  408  258  236  291   41\n",
      "  640  228  400  219  668  378  526  510  117 1050  634  945]\n",
      "Exter.Qual ['Gd' 'TA' 'Ex' 'Fa']\n",
      "Exter.Cond ['TA' 'Gd' 'Fa' 'Ex']\n",
      "Foundation ['PConc' 'CBlock' 'Slab' 'BrkTil' 'Stone' 'Wood']\n",
      "Bsmt.Qual ['Gd' 'TA' 'NA' 'Ex' 'Fa' 'Po']\n",
      "Bsmt.Cond ['TA' 'NA' 'Gd' 'Fa' 'Ex' 'Po']\n",
      "Bsmt.Exposure ['Av' 'No' 'NA' 'Gd' 'Mn']\n",
      "BsmtFin.Type.1 ['ALQ' 'GLQ' 'NA' 'Unf' 'LwQ' 'Rec' 'BLQ']\n",
      "BsmtFin.SF.1 [ 866  804  660    0   51 1400   73  249  595  787 1684   24  533  491\n",
      " 1274  810  554  392  791 1033  210  256  901  594  336  784  745  400\n",
      "  790  773  248  701 1036  283  666  678  495  548  892  663  455  276\n",
      "  468  720 1238 1567  788  536  134 1104  617  776  939  588  696  593\n",
      "  381  450  192  132  604  250   63  200  871  311  251  840  170 1021\n",
      "  841  633  371  813  403  448  524  472  483  261  140  538 1260  812\n",
      " 2158 1159  228 1249   16  831  864  673  648  528  466  266  686  226\n",
      "  644  655   53 1324  264 1088  279 1358   68  288  476 1180  335  315\n",
      "  800 1070  560 1220  736  259  162  456  435  716  512  374 1075  870\n",
      " 1053  625  104  624  252  626  378  394  292  334  353  687  262  467\n",
      "  697  356  454 1277  766  649 1163  621  155  672  867  515  664  922\n",
      "  384  608 1573 1337  414  500  550 1112  275  209  956  837  897  616\n",
      "  705  763 1219  775  370  793  422  120  704 1234  360  583  762  204\n",
      " 1059  347  638  241  976  546 1359  881  498  341 1186  196  578  747\n",
      "  967  903  567  690 1557  516  816 1056 1300  962  338   40  144  465\n",
      "    2  176 1410  856  300  406  659  121 1259  270  778   20  469 1149\n",
      "  462  944  912  612  552  310  119 1350  724  609  727  860  138  729\n",
      "  218  350  154  425 1505  755  426  314  168 1005  637  544   75  562\n",
      "  639  751 1084  988 1128 1562 1182  851  958  438  429  375  811  978\n",
      " 1040  923  599 1152 1198   35  480 1232  669  718  193  695  658 1196\n",
      "  319  689 1412  603  492 1619  267  368 1309  602 1032  130  187  936\n",
      " 1048 1086  198  405  284  611  654  758 1447  471  904  566  240  486\n",
      " 1416  297  699  803 1230  960 1000  799  346  234  432  925 1065 1218\n",
      "  493  222  457 1455  225 1206  390  126  728  547  771  565  340  167\n",
      "  838 1373 1121  173  513  643 1464  442  298 1116  836 1029 1071  918\n",
      "  505  656  189  739  700 1660  576  553 1758 1153  312  366  984 2288\n",
      "  417 1314  273  182  717  420   50  702  674  128  968  767  352  569\n",
      "  518 1430   56  827  828 1158  910 1044  760   60   36  224  740 1572\n",
      "   80  733 1181  343   88  821  930  460 1329  814   78  568 1122  920\n",
      " 1052  564  662  647  506  281 1002  880  437 1124  756  169  308 1148\n",
      "  231 1129  590  540  376 1360 1023  285  149 1162  556  532  156  408\n",
      " 1328 1027  682 1387 1290  820  504  965 1696  280  650  846  964  428\n",
      "  737  679  987  143  994   57  441  607 1200   28  931  769  458  854\n",
      "  397 1283 1016  299  819  614  380  935 1074  439  770  349  290  876\n",
      " 1361 1090 1172  484  477  953  129  651  652  774 1012  725  586  258\n",
      "  208   32 1476 1213 1223  913 1150  772 1097  902  247  712  732  726\n",
      " 1188  795  190  421 1436  216  116  114  683  205  894  496 1080  207\n",
      "  606  434  379  789  572  539 1298 1271 1004  203  797  585  577  404\n",
      "   52 1369  526 1338 1236  110   65   96  584 1030  152  794  685  271\n",
      " 1136  623  782 1010   70  242  523   85  850  131 1460  263 1247   55\n",
      "  570  219  490  785  296  113 1073 1564 1383  387  330  741  531  744\n",
      " 1246  324  305  150  808 1390  383  175  619 1341  694  646  535  278\n",
      "  419  826  321  514  914 5644  759  482  415  847 1422 1319  257  796\n",
      "  998  179  832 1336  844  859  573  427  781  949 1102 1037  708  661\n",
      "  306  738 1636   41  765  574 1632 1646  975   48 1518  779  363 1137\n",
      "  133  475  260  600  969  986  982  890  996 1302  905  681  489  641\n",
      "  318  580  186  620 1836  549  601  983  872  713  941  575 1445  888\n",
      "  485 1098  220 1540 1593  474  893 1538  874  503  909 1810 1443  510\n",
      " 1092  792 1173 2085 1178  970  122  328 1224 1531 1082  354 1047  985\n",
      " 1018   72 2096  386  342  938  749  906  452  865  691  494  915  862\n",
      " 1478  698  236  645  527  780 1026  622  332  445 1972 1880  294   33\n",
      "  680  731  543 1406 1024  398  141 1110  320   54 1904 1039  520  316\n",
      " 1003 1078  534  416  980   64  399  734   81   49 1204  344  706 1034\n",
      " 1965  932  424  364  329  671   77  824  522  326  806  521  244  946\n",
      "  373  937  339  714 1094  764 1294  440  223 1270  188  309  748  929\n",
      " 1001  830  777  991 1138   27  322  453  557  509  165  361  719  783\n",
      " 1334  385  973 1201  239  786  172  990 1141  301  853  402 1151 1225\n",
      " 1332 1420  852  410  180  943  587  507  372  551  945  954 1812 1558\n",
      "  950 1015  433  459]\n",
      "BsmtFin.Type.2 ['Unf' 'Rec' 'NA' 'GLQ' 'ALQ' 'LwQ' 'BLQ']\n",
      "BsmtFin.SF.2 [   0   78  915  764  400  252  219  163  184  755  281  215  539   76\n",
      "  117  350  841  167  630  670  165  180 1083  590  147  411  469  500\n",
      "  799  884  105   42  270  202  904  532  850  128 1393  544   46  750\n",
      "  972  127  391  176  466 1127  273  580  393  512  175  156  351  694\n",
      "  791  193  334 1080  852  375  869  761  110  239   64  144  121  627\n",
      "  688  264   68  321  486  374  276  859  360  201  337  123  435  661\n",
      "  263  842  262   93   81  159  382  606  530  555  596  604  479  600\n",
      "  622 1020  497  196  396   72   52  153  723 1164   41  891  168  472\n",
      "  232  278  308  286  492  240  465   28  811  529  288  173  364  820\n",
      "  294  875  139  116  450  483  955  499  547  344  284  306 1061  495\n",
      "  712  506   32 1474  474  608  679  722  829  297  748  531  468  620\n",
      "  216   60  154  120  162  438  682  526  826  449  448  551  336  491\n",
      "  419  456  290  258   40  522  182   63  210   12  247   96  380  243\n",
      "  119  149  354  108  692  319   80  345  612 1029  106 1063 1039  831\n",
      "  480  174  668   66  442  250  150  873  377  311 1037  613  645 1526\n",
      "   95]\n",
      "Bsmt.Unf.SF [ 436    0  108 1249  560  576  125  634  912  894  305  869  970  636\n",
      " 1836  195  497  526  726 1615  100  768  253   94  398 1028  440   34\n",
      "  331  240  860  210  466  589  286  994  918 1348  434  715  140  384\n",
      "  794 1459   99  354  127  244 1696 1264  704  201  686  662 1141  455\n",
      " 1005 1632  252 1421  171 1541 1580  460  268  169  896  938 1420  960\n",
      "  903  849  307  237  162 1686  130  399 1181  784  414 1280  564  115\n",
      " 1008   92  710  917 1560 1040  585   52  386  491 1286  200 1026  534\n",
      " 1228  144  728  675  238  480  160 1242 1088  884  458  637  182  278\n",
      "  578  355  280  300  413  756  746  658  724  544  103 1680  880  712\n",
      " 1357  161  325  378  176  750  245  290  808  522  133  664  192  672\n",
      "  939  132  731  113 1528  308  625  484  223 1694   28  718  476  415\n",
      "  770  420  630  126  858  150  796 1041  952  231  425  450  456  565\n",
      "  274  410  363  404  948 1330  208   46  616  232  294  501  586   48\n",
      " 1706  322  780  722   55  874 1685 1105  599   80  151  316  181  207\n",
      " 1314  356  321   89  910  967  174  295   77 2042  392  834 1012  972\n",
      "  525  547 1143  277  342  281  163  877 1502  789 1195 1234  506  105\n",
      "  600  319  591  580  173  930  172  847  816 1173  315  736  226  335\n",
      "  709  859  242  697  567  381  215  229  868 1082 1095 1967  512  929\n",
      "  479  772  291  448  844 1093  513  383 1276  197 1335  814  643  348\n",
      "  812 1768  817  742  833  183  121  908  879 1488  379  447 1515 1290\n",
      "  542  677  313  225  329 1489  647  452  499 1434  590  395  864  825\n",
      " 1046  454 1595  250  136 1035  104  143 1114 1602   64 1556  785  186\n",
      "  453  405  365  546  264  626  792   26  850 1728  732  811  739  387\n",
      "  689  793  684  230   29 1907  441 1496   60 1129  432  396 1436  358\n",
      " 1362   75  437  402  234  781   93  657  835  798 1450  284 1128  352\n",
      "  141  840  832  760  333  430  370  114 1352  905 1625  788   30  698\n",
      "  545  218 1619 1474  336  516  539  773  270  261  701  536  953 1530\n",
      "   35 1734  463 1584  624  431  872  235  666  311 1293  806  168  341\n",
      "  638  740  863  123  194  520 1424   22  533  193   90 1444  241  532\n",
      "  966 1344  359 1752  594 1203  303  936  266  188  778  180 1055  349\n",
      "  648 1032 1526  815  486 1017  769  989  471  644 1604  474  216  572\n",
      "  700  720  367  224  422  179  524  324  530 1342 1498  749 1473  645\n",
      "  222  166  227  445  390 1339  248 1020 1630  403  408  206 1018  112\n",
      "  628  212  983 1346 1092  588  288  610  907  310  598  702  444 1209\n",
      "  925  691  640  504  679  649 1319  612  927 1422 1258  570   76 1442\n",
      " 1905  416  928  941  678 1508 1030 1198  660  343  385  932 1451 1158\n",
      " 1176   98  438  394  293  641  299  475 1272  593   38  265 1068  318\n",
      "  217  747 1393   25 1866 1603 1380  851  993 1497  256  228  502 1926\n",
      "  791 1063  276 1503  426  762  327 1795  528  587 1078  799  175  744\n",
      "  332 1139  752  579  153  537  969  360 1347  423  279 1794  487 2153\n",
      "  503 1117   95  371  713 1100  978  111  706  830 1375  846 1257  556\n",
      "  184 1376  233  297 1558  741  595 1097  801  485 1468   23  862  871\n",
      "   88  848  495  725   72  219 1042 1296  330 1266  380  263  462  320\n",
      "  388  498  464  949 1466  120  540  443   84 1495  220  449 1308 1217\n",
      "  549  312 1582 1075  138  292  269 1152  604  490  889   36  289  831\n",
      "  738 1077  676  693  131 1262  680  119  721  198 1146  128  190  730\n",
      " 1622  897  427 1184  304  400  317  496   79  621   96  272  977 1045\n",
      " 1777 1664  129  500  424  891  158  892  254 1527  203  777  554  409\n",
      " 1550  328 1214  124  538  716  705  271  374  109 1179  821  819  185\n",
      "  776 1704  326 1453 1073  552  797   78 1629 1126  779  435   54 1144\n",
      " 1237  550  155 1116  901  472  375 1800 1491 1054  931  971  418  783\n",
      "  748 1072  510  170  397  735  177  465  803  366 2140  596  828  888\n",
      " 1194  191  134 1413  372  406 1064  592  467  692 1162  346 1417  813\n",
      "  494  442  823  661 1122 1300  407 2062  483 1390   56 1307  142  461\n",
      " 1678  148 1574  357 1598  920  187 1010 1066 1053 1048 1050 1461  529\n",
      "  622  221  411  841 1140 1341  763  541   83   14  605 1689  361 1007\n",
      "  723   32  213 1098  916   39 1369  301  282 1643  469  135  285  988\n",
      "  167  251  581 1251 1180  196  412   53 1402  107 1153  733  935  555\n",
      "  810 1568  646  602  671  165 1212  548 1660  255  344  459  468  364\n",
      "  481  507  156  734 1405 1226 1087  924  118 1372  488  650 1588  975\n",
      "   86 1349  110  204 1120 1571 1246  189 1482  583   33  243 1252 1480\n",
      " 1313  543  508  774  782  761  482 1318 1168  350  836  389  247  149\n",
      "  340 1270 1544 1204  561 1327  631 1074  574  429 1869   20 1232   91\n",
      "  505 1079 1710  117   50 1470  611  618 1191 1288 1090 1302 1254 1566\n",
      "  845 1273 1428  827  334   82  727  382  309 1439  535 1594  639  620\n",
      "  339 1504 1367  861 1802  940  619 1921   27  584 1753  262 1058 1430\n",
      "  568  632  249]\n",
      "Total.Bsmt.SF [1302  882  768    0 1249  560  966  576 1525  707  912 1013  894  995\n",
      " 1092  869  970 2320 1860  728  988 1800 1536 1615  654 1160 1044 1127\n",
      "  608 1284  440 1187 1144  860  784  955  866 1542 1059  994 1166 1372\n",
      " 1135  715 1360 1038  384 1460 1459 1058 1064  675 1136 1696 1264  704\n",
      "  864  686  662 1141  910 1005 1656  528 1445 1178 1541  796 1580 1698\n",
      " 1567 1056  822  896 1072 2524  617  960  903 1625 1246 1175  858 1686\n",
      "  723  780 1181 1280  756 1088 1008  696  917 1623 1040  585  984  923\n",
      " 1286 1026 1555 1228  985  873 1099 1488  806  928 1242 1560  884  941\n",
      "  637 1344  816 1838  827 2458 1572 1082  658  952  855 1499 1680  880\n",
      " 1373  992 1189 1051  824  750 1184  808  788 1392 1350  918  672  939\n",
      "  655  731 1437 1552  572 1713  484 1581 1694  980 1006 1595 1105  840\n",
      " 1430 1196  752 1660 1041  967  684 1202  990  922  920 1269 1479  870\n",
      "  948 1330 1248  833 1000  616  546 1733 1706 1200 1122  408 1224  874\n",
      " 1685  861  547  848  854 1484 1338 1252  795  944  630 2042  725  954\n",
      " 1314 1442 1012  972 1573  878 1884 1143  691  842  814  713 1152 1502\n",
      "  789 1195 1234 1086  942  600 1216 1091  936  930  847 2035 1173 1836\n",
      " 1657 1029  856 1569 1069  859  825 1362  697 1626  853 1844 1095 1967\n",
      "  929  888 1057  958 1113 1477 1671 1260 1276 1259  764 1335 1504 2200\n",
      " 1624 1768  817 1300  742 1145  925  879 1650 1517 1466 1952  677 1169\n",
      "  525 1489 1431 1277 1454 1118 1603  712 1080 1947 1049 1313  836  702\n",
      " 1114 1721 1728 1556 1394 1036 1094 1112  626  792  716 1868 1103  650\n",
      " 1528  732  914  811  907  689  793 1024 1096 1907 1496  747 1129  736\n",
      " 1176  565 1420  396 1093 1370 1670 1436 1540  926 1395  781 1602 1032\n",
      "  835  798 1396 1262  935 1128  876  832  760 1531  804 1352 1809  718\n",
      " 2020  895  698  828  738 1740 1498  800 1712 1462 1673 1304  536 1719\n",
      "  953  671 1554  886 1734 1584  624 1463  872  901 1293 1104 1389 1296\n",
      " 1147  734  744 1174 1980  561 1444  845 1358 1992 1188 1043 1568  699\n",
      " 1106 1508 1226  462 1124  405  900  892 1055 1274 1386 1157  648 1546\n",
      "  815 1704 1510  991 1530 2444 1850 1604 1208  720  381 1170  771 1553\n",
      " 1035 1405  530 1587 2846 1766 1048  676  740 2000 1363 1364 1020 1630\n",
      " 1073 1432 1271 1326  951 1337  940 1478 1683 1982 1288  610 2190 1561\n",
      " 1710 1158 1209  516  636 2630 1986 1010 1449 1319  794  927 1422 1258\n",
      "  480 1126 1905 1593 1682 1328 1652 1564 1427 1030  352 1318  660 1501\n",
      " 1295 1426  932  976  448 1511 1212  852 1848 1165 1966 1356 1779  319\n",
      " 1120 1272 1922 1336 1570 1138 1068 1261  506 1028  770 1204 1524 1393\n",
      " 1866 3206 2136  993  629 1148 1390 1206 1309 1776 1748  502 1926  791\n",
      " 1063 1222 1588 1440  483 1795  735 1529 1614 1078  799 1562 1606 1168\n",
      " 1210 2109 1425 1117  965  969 1490 1347 1367 1822  279 2153 1251 1084\n",
      " 1792  851 1081 1225 1100  978 1021  830 1391  844 1257 1190 1003  982\n",
      " 1290  570 1376  297  741 1097  801  485 1468  372  862  996 1629 1090\n",
      "  913 1700  979 1025 1067 1042  782 1752  973 1266 1582  680  498 1054\n",
      "  949 1949  813 1596  540 1297 1666 1495 1177  989 1308 2033 1282 1022\n",
      "  710 1075 1480 1408 1001  690 1151 2006 1230  943  757  831 1031 1418\n",
      "  693  644  908  721 1039 1146  964 1622  456 1612 1215 1004 1034  708\n",
      " 1722  192 1598 2110 1777 1664  301 1381  520  891  971 1470  773  625\n",
      "  777 1574 1214  651 1415 1594 1494  761  409 1179  837  819  916  776\n",
      "  348  755  552  797 1742 1142 1052 1149 1679 1237 1116  554 1217 1045\n",
      " 1491 6110  931  839  392 1453  783 1814  678 1268 1150  803 2140 1932\n",
      " 1434 1107 1194  957 1413  559  945 1153  924  592 1198 1232 1162 1070\n",
      " 1417 1910 2078 1017 2461 1324 1930 1108  407 2108 2062 1414  539 1678\n",
      " 1220  270 1161  890  550 1398 1066 1053 1240 1476  683 2036 1050  975\n",
      " 1461 1675 1896  160 1856  841  370  588 1377 1140 1341 1375 1702  641\n",
      " 1164 1134 1079 1778  765 1689 1007 1632 1842 1236 1121 1089 1482 1369\n",
      " 1455 2271 1643 1865 1782  902 1620  938 1803  416 1180 1402 2171  810\n",
      " 2396  763 1062 1281 1346  504 1292 1578 1311  915 1342  621 1450 1077\n",
      "  904 2452 2223 1563  868 1902  981 1505  729  700 2216 1247 1027  687\n",
      " 1291 1566 1253 1518  492 1516  946 1267 1349 1571 1132  635  583  430\n",
      " 2208 1500  663 1385 1065  774 1076 1243 1473  482  818  778 1312 1223\n",
      " 1270 1544  802  105 1351 1401 1060 1074  173  240  727 1869  360 1720\n",
      " 1845 1256 1310 1616  611  850 1218 1365 1406 1751 1278 1273 1428  963\n",
      " 1019 1348 1994 1244  385 1840  551 1382 1254 1299 1557 1388 1790 1325\n",
      " 1329 1219 1802 1486 1492  420 1538 1921 1156 1753 2024 1172 2552 2220\n",
      " 1739  956]\n",
      "Heating ['GasA' 'GasW' 'Wall' 'OthW' 'Grav' 'Floor']\n",
      "Heating.QC ['Ex' 'TA' 'Gd' 'Fa' 'Po']\n",
      "Central.Air ['Y' 'N']\n",
      "Electrical ['SBrkr' 'FuseA' 'FuseP' 'FuseF']\n",
      "X1st.Flr.SF [1302  882  768 1535 1249  704 1743  864 1525  942  912 1160  894 1282\n",
      " 1092 1093  970 2290 1836  760  988 1800 1536 1615  664 1156 1079 1127\n",
      "  983 1284  682 1565 1429  860  784  955  866 2073 1059 1378 1179 1448\n",
      " 1207  930  715 1360 1038  802 1460 1459 1370 1064 1109 1136 1696 1277\n",
      " 1024 1150  662 1165  910 1005 1656  548 1445 1293 1541  796 1580 1709\n",
      " 1567 1074 1020 1172  694 1072 2524  865  986 1625 1246 1175  858 1707\n",
      "  735  940  964 1190  819  899 1280 1169 1088 1008  696  960 1090 1636\n",
      "  585  984  947 1187 1342 1294 1060 1026 1680 1228  985 1431 1488  958\n",
      "  928 1251  989  941 1108 1440  816 1838  827 1112 2490 1572  756 1082\n",
      "  658  952  855 1619  909  832 1555 1661 1189 1159  905  750 1414 1161\n",
      "  788 1392 1334  918 1195  939 1194  820 1473 1552  848 1713 1242 1601\n",
      " 1694  980 1006 1616 1105  840 1430  925 1196  872 1285 1660 1041 1382\n",
      " 1299 1040  938  934 1202  990  922  936 1269 1515  965  948 1330  833\n",
      " 1000 1055  950  546 1236  769 1933  869 1718 1200  780  946  779 1287\n",
      "  874 1685  754  861  672  854  902 1600 1338 1146 1268  884  967  765\n",
      "  757  999  630 2042  725 1766 1314  824 1442 1012 1044  892  728 1884\n",
      " 1143  691  904  856  814  811 1676 1188 1178  744 1502  789 1234  875\n",
      " 1086 1291  520 1216 1091 1054  956  847 2515 1182  752 1056 1668 1117\n",
      " 1364 1611 1069  859  845 1362  698 1575  853  961 1844 1095 1967 1058\n",
      " 2039 1295 1113 1839 1168 1687 1260 1328 1276 1353  764 1335 1504 2200\n",
      "  887 1582 1768 1140  742 1053 1256  879 1466 2000 1144  525 1489 1444\n",
      " 1434 1118  896 2071 1375 1128 2207 1211 1049 1313  836 1114 1721  495\n",
      " 1960 1560 1556 1394 1036 1094  626  792 1096  716 1868 1103 1225 1728\n",
      "  734  914 1131 1412  703  897  997  684 1959 1496 1129  751  565 1420\n",
      "  665 1670 1689 1540 1586  926 1570  795 1252 1102  871  798 1608 1262\n",
      "  935 1149  640 1154 1152 1531  747  804 1352 2259  920 1576 2020  895\n",
      "  883  738 1222  923 1740 1498  800 1712 1490 1673 1304 1220  808 1719\n",
      "  953 1554  600 1344  886 1734 1776  624 1500  901 1301  913  806 1130\n",
      " 1411 1124 1224 1147 1085 1980  561 1778  713 1358 1068 1014 1422 1992\n",
      " 1404 1539 1690 2156  801  998 1508 1226 1051  526 1610  962  717  900\n",
      " 1274 1569 1180 1546  815 1704 1584  991 1530 2444  972 1850 1604 1494\n",
      "  720  992 1170 1166  753 1553  774 1405  530 1141 1587 2696 1324 1372\n",
      " 1663 1630 1073 1389 1326  951 1337 1478  862 1528 2129 2006 1336 2036\n",
      " 1307 1561 1710 1167  876  702 1513 1209  516 1089 2674 1057 1987  846\n",
      " 1288  994 1134  944 1537  794 1067 1395 1402 1547  480 1061 1469 1126\n",
      " 1905 1593 1700  697 1164 1662 1564 1427  712 1659 1671  932  838  976\n",
      "  448  929 1158 1212 1848 1203 1966  835 2279 1779 1035 1558 1272 1922\n",
      " 1346 1296 1590 1181 1261  889 1210  885 1377 1544 1866 1629 2136  978\n",
      " 1437 1048  727 1148 1206 1339 1794 2151  502 1071 1652 1588  880  686\n",
      "  483  810 1795 1664 1638  799  851 1238 2113 1506 1120 2069 1032 1425\n",
      " 1940 1318 1501 1367 1426 1822 1416 2726  572 1176 1132 1084 1792 1081\n",
      " 1100 1465  786 1391 1208 1647 1290  689 1522 1003 1034 1305  616  617\n",
      " 1640 1376 1001 1614  741 1407 1097 1479  576  996 1686 1017  979 2158\n",
      " 1025  536  878  825 1042 1752 1104  740 1266  498 1698  949 1949  813\n",
      " 1648 1297 1675 1495 1223 1022 1245 1308 1110 2053 1215 1476 1898 1480\n",
      " 1468  868 1724 1239  803 1145  943 1080  831 1031 1534  676  693  680\n",
      "  927  841 1039 1436 1626 1033 1612 1125 1050  708 1122 1133  767 2110\n",
      " 1403 1510  660  891  971  772 2028 1801 1595  773  625  993 1507 1574\n",
      "  770 1214 1811  759 1455 1646 1325 1151 1312  916  612  898  453 1722\n",
      "  755  830  844 1645 1742 1306 1701 1142 1526 1052 1512 1803 1253 1390\n",
      " 1138 1116  736 1217 1045 1491 4692 1078 1027 1316 1487 1453  807 1826\n",
      " 1373  981 1065 1286 1497  790 2140 1932 1107  828  888 1029  945 1177\n",
      "  933 1258 1320 1162 1428  822 2084 1472 2497 1350  407 1319 2122 2079\n",
      "  812 1119  969  608 1678  729 1470 1381  890 1606  954 1010  924 1278\n",
      " 1632 1484  793  975 1486 1688 1944 1856 1218  687  778  442  893 1341\n",
      " 1702  641 1786 1077 1650 1842 1369 1549 1483 1153 2276 1651 1830 1782\n",
      "  761 1620 2365 1666  599 1063 1424 1524 2422  919 1002 1568  907 2411\n",
      "  763 1824 1062  575 1292 1482 1433 1602  966  621 1016 1450  581 2452\n",
      " 2223 1563 1902 1075 1505 1691  968 1283  959 1733 2234 1247 1009 1327\n",
      " 1573 1566 1644  492 1516 1349 1184 1004 1571  842  995  646  647 2522\n",
      "  663 1363  743  730 1076 1221  818  849 1387 1270 1264 1229 1204 1361\n",
      " 1511  829 1869 1720 1872 1906 1254 1679 1098 1365 1589 1773 1456 1617\n",
      " 1273 1682  963 1357 1368 1137 2046 1509 2032 1309  551 1557 1388 1594\n",
      " 1816 1329 1340 1265  877 1802 1492 1028 1310  540 1538 1921 1599  783\n",
      " 1015 1787 2063 2552 1463 1183]\n",
      "X2nd.Flr.SF [   0 1347  942  514  966  772  739  595  638  832  866  897  890  548\n",
      "  486  860  925  902  994 1360  670  703  766 1067  704  686  662 1098\n",
      "  611  492  886  831  741  600  445  732  660  476  918  784  720  917\n",
      " 1040  468  767  932  857  908  620  608 1250  584  888  850  438  797\n",
      "  526  601  167  807  809  881  750  756  808 1000 1392  765  473  858\n",
      "  523  348  684 1097  534  782  596 1215 1134  218  546  872  804  734\n",
      " 1567 1238  988  640  604  887  717  424 1340  464  910  671  368  567\n",
      "  754  648  800  728 1330  862  893 1152 1032  700  676  644  838 1230\n",
      "  623  930 1358 1017  624  556 1319  319  825  560  626  434  900  406\n",
      "  871  844  846  960  678  563  610  742  795 1140  984  677  448  864\n",
      "  896  875  702 1427  501  665  591  716  650 1104  240  576  689  439\n",
      "  520 1198  735  783  651 1420 1254 1315  714 1075  941  842  521 1089\n",
      " 1141 1128  928 1157  396  978  923 1295  738  936 1304  983  564  536\n",
      "  711 1087  794 1088 1122 1100  450 1054 1171  885  510  674  792  845\n",
      " 1070  668 1309  541  412  876 1589  726  840  927 1012  462  322  790\n",
      "  882  384 1196 1208  956 1872  839  848  656  472 1129  744  456 1240\n",
      "  550  769 1788  743  312 1103 1051  779  378 1044  544  516 1414  661\n",
      "  588  815 1081  924  649  432 1106  498 1060  730 1203  272  208 1285\n",
      "  880 1323  861  371  785 1111  895 1116  980 1242  297  806  814 1177\n",
      "  672  780 1114  380  823  552  636  495  502 1174  430  816 1101  504\n",
      "  761  915  466 1619  328 1281 1120  220 1288 1274  768  488 1151  828\n",
      "  539  574 1320  793  878 1336  213 1096 1189  796 1629  653  583  985\n",
      "  646  634  533  762  810 1209  979 1126  683  125  701  973  580  615\n",
      "  712 1362 1038  764  568 1185  442  570 1080  642 1407  690  727  605\n",
      " 1053  695 1371  400  829  680  863  493  592  753 1028 1440  708  549\n",
      "  971  616  428  630  587  351 1275  625  812  336  645 1142  453 1036\n",
      " 1168  755  698  940  500  830  594  349  467  554  441  950  972  729\n",
      "  679 1357 1296  787  919 1124  299  557  436  658 1074 1020  663  912\n",
      "  967  582  843  981 1131  883 1370  989  423 1162  245  685 1133  527\n",
      " 1160  477  465  788 1139 1384 1257  494  770 1277  939 1037  745  884\n",
      "  943  425  228  833 1042  420  517 1178 1039  518 1218 1221 1332  725\n",
      "  874  370  976  836 1248  512  813  454 2065  892  316  524  975 1093\n",
      " 1368  180  868  530  631  252  408  757  697  798 1540 1182  581 1405\n",
      " 1426 1335 1092 1008  736  898 1194 1234  691  566  811  545  904  561\n",
      "  775 1312  709  687  496  182  998 1818 1175 1325  343  528  551  573\n",
      "  325  606  715  933  455 1246 1345 1048 1377  901]\n",
      "Low.Qual.Fin.SF [  0 392 362 514 205 436  80 312  53 144 697 450 528 156 515 479 360 431\n",
      " 259 108 473 512 390 140 397]\n",
      "Gr.Liv.Area [1302  882  768 ... 2552 1463 1183]\n",
      "Bsmt.Full.Bath [1 0 2 3]\n",
      "Bsmt.Half.Bath [0 1 2]\n",
      "Full.Bath [1 2 3 0 4]\n",
      "Half.Bath [1 0 2]\n",
      "Bedroom.AbvGr [1 2 4 0 3 5 6 8]\n",
      "Kitchen.AbvGr [1 2 0 3]\n",
      "Kitchen.Qual ['Gd' 'TA' 'Fa' 'Ex']\n",
      "TotRms.AbvGrd [ 5  4  8  9  6  7 11 10 12  3 14]\n",
      "Functional ['Typ' 'Min2' 'Maj1' 'Min1' 'Sev' 'Mod' 'Maj2']\n",
      "Fireplaces [1 0 2 3 4]\n",
      "Fireplace.Qu ['Gd' 'NA' 'Fa' 'TA' 'Ex' 'Po']\n",
      "Garage.Type ['Attchd' 'Detchd' 'CarPort' 'NA' '2Types' 'Basment' 'BuiltIn']\n",
      "Garage.Yr.Blt [2005 1970 1974 1979 2006 1946 1976 1952 2000    0 1925 1967 1989 1964\n",
      " 1959 2004 2007 1966 1954 2002 1977 1998 1991 1935 1984 1965 1960 1973\n",
      " 1978 1985 1988 1962 1918 1956 1987 1975 2008 1996 1949 1900 1920 1950\n",
      " 2001 1999 1929 1982 1981 1924 1926 1993 1972 1980 1992 1947 1997 1930\n",
      " 1961 2009 1968 1941 1995 2003 1963 1948 1955 1990 1945 1921 1969 1958\n",
      " 1957 1910 1953 1936 1931 1951 1971 1939 1983 1937 1922 1994 1940 1916\n",
      " 1942 1908 1938 1915 2010 1986 1934 1943 1928 1914 1917 1932 1933 1927\n",
      " 1895 1896 1923]\n",
      "Garage.Finish ['RFn' 'Fin' 'Unf' 'NA']\n",
      "Garage.Cars [2 1 3 0 5 4]\n",
      "Garage.Area [ 631  525  396  400  840  220  529  528  541    0  216  538  672  504\n",
      "  308  380 1174  484  332  765  532  864  294  426  505  885  480  786\n",
      "  440  299  572  627  565  880  603  500  286  432  692  264  660  795\n",
      "  402  527  300  485  384  972  889  234  288  180  420  597  826  624\n",
      "  470  452  843  336  610  506  714  495  342 1184  542  398  392  576\n",
      "  441  511  497  612  430  599  209  520  357  865  451  457  662  936\n",
      " 1138  271  486  588  296  552  240  751  556  613  280  920  252  438\n",
      "  995  615  283  512  546  377  684  564  601  534  630  639  539  186\n",
      "  782  856  670  608  517  338  784  494  304  460  746  580  437  575\n",
      "  275  253  540  496  959  916  521  544  567  678  578  658  515  492\n",
      "  319  598  816  900 1390  301  207  513  390  852  663  434  205  644\n",
      "  393  592  344  297  431  433  516  502  473 1231  464  210  702  258\n",
      "  620 1043 1053  736  791  524  571  689  416  509  315  756  282  478\n",
      "  474  685  318  370  641  429  656  738  583  720  320  776  260  577\n",
      "  270  309  526  352  360  732  266  345  554  792  388  514  590  366\n",
      " 1085  462  324  312  372  256  676  570  530  766  596  472  439  355\n",
      " 1314  928  774  435  444  783  779  458  560  310  466  450  704  896\n",
      "  730  469  698  463  844  701  490  810  667  944  638  231 1020  888\n",
      "  712  322  373  836  758  550  162  489  481  198  770  510  626  305\n",
      "  230  686  716  841  508  410  619  640  531  330  281  454  349  796\n",
      "  225  772  832  461  213  617  675  958  425  467  418  442  287  938\n",
      "  265  780  866  343  762  691  250  254  648  846  573  788  682  688\n",
      "  671  711  814  100  878  752  499  306  476  744  706  475 1092  925\n",
      "  522  471  585  754  683  378  625  713  828  200  636  820  459  666\n",
      "  947  905  895  628  839  574  591  595  694  292  488  523  401  371\n",
      "  632  621  726  803  249  394  870  290  255  208  192  559  436  350\n",
      "  224  768  586  498 1052  379  848  602  623  728  750  806  477  898\n",
      "  493  369  428  456  748  860  449  842  367  616  184  276  293 1248\n",
      "  404  824  257  622  356  386  326  674  160  904  962  611  364  311\n",
      "  482  545  747  353 1418  968  646  389  566  894  468  261  605  409\n",
      "  700  551  483  884  647  548  562  719  722 1220  812  606  618  217\n",
      "  579 1105  594  696  327  313  871  328  600  708  834  226  228  351\n",
      "  851  721  272  715  673  954  518  787  267  668  690  853  561 1348\n",
      "  872  932  445  501 1008  195  813  323  739  215  850  609  455  983\n",
      "  725  581  869  886  244  447  422  246  368  365  740 1166  818  614\n",
      "  831  569  825 1017  375  868  557  582  680  642  316  413  414  811\n",
      "  358  185  604  406 1488  808  399  479  874  412  584  890  859  533\n",
      "  307  923  303  543  933  830  649  815  729  924  724  927]\n",
      "Garage.Qual ['TA' 'NA' 'Fa' 'Gd' 'Po' 'Ex']\n",
      "Garage.Cond ['TA' 'NA' 'Gd' 'Fa' 'Po' 'Ex']\n",
      "Paved.Drive ['Y' 'N' 'P']\n",
      "Wood.Deck.SF [110 240 192   0 646 219 486 386 120 366 270 168 100 288 210  74 200 216\n",
      " 349 164 191 441  48 426 220 245 144 199 306 280 468 138 159  97 264 239\n",
      " 474 290 136 117 574 294  64  42 256 128 154 185 193 196 124  70  26 670\n",
      " 143 466 243 145 147 180 237 257 297 322  81  77 224  71 150 238 212 228\n",
      " 870 194 112 158 149  60 115 318 142 250 123 214 140 209 690 208 728  66\n",
      "  89 262  68 586 165 160 170 179 133 152  78 269 265 333 187  32 131 305\n",
      " 301 161 172 108 184 354 295 171 370 247 490 335 413 409 146 298 121 385\n",
      " 201 467 125 166 114 362  96 218 122 156  52 186 174 286 316 155 176 328\n",
      " 252 178 503 182 202 169 222 635  56 382 225 296 400 360 351 195 234  36\n",
      "  58  44 312  90 203 231 213 189 657 371 455 190 132  94 309  76 274 229\n",
      " 300 407 223 292 103 668 344 304  73 198 135 641  30 364 207 275  63 113\n",
      " 230 320 236  40 336 340  54 414 204 175  22 453 105 141 483 244 261 392\n",
      "  80 394  35 517  27 102 287 327 421 162 303 283 173 253  24 246 104  87\n",
      " 431 424  16 448 255  49 353  45 460 232 188 326 428 206 282 307  23 116\n",
      " 129  38 355  92 321 500 384 260 197 106 235 302 325 248 404  50 233 266\n",
      " 509 130 259  85 390 365 289 502 536 857 272 402  33 496 221 319  99 436\n",
      " 205 276 631  72 157  55 380 356 118 278 416 148  20 315 450 329 167  28\n",
      " 379 530 375 432 139 324  95 406 279  84 736 215 127 352  12  25 342 405]\n",
      "Open.Porch.SF [ 50   0 154  36 240 156  40  30  33  78  74  24 117  31  25 110  70 127\n",
      " 108  88 287 140  16 105  20  39  35  28  56  60 123 146  81 214  65  32\n",
      "  42 114 120 128  84  69  64 116  21 217  82  44 235  48  55 210  96  10\n",
      "  87  68 168 226 263  45 130 151 122 162  51 112  53  26 152  54 155  34\n",
      "  23  66  86 176  63 195 258 141 189  76  90  22  85 208  75 166 125 246\n",
      " 131 175 262 251  93 236 222  89  72 104  27 198 291 169  17  73 111  38\n",
      " 102  47 158  62  57  91  18  99 192 160 121 241 165  98 200 183 113 570\n",
      " 170  80 273 101 547 136  77 150 138 137 234  95 228  49  11 142 184 193\n",
      " 144 191  52  59 194  61 132  12 188  58 100  29  46 174 119 265 253 177\n",
      " 172 368 250 173  43 139 164 274 148 159 312 124 341  41 133 211 292  92\n",
      " 204 103 224 126 244 135 187 256  37 230  67 180 203 225 115 231 266 365\n",
      " 207 319 182 213 742 364  15 523 299 304 201 252 197 216  97 245 134 324]\n",
      "Enclosed.Porch [   0   24  239  138  207  192  128  211  116   75  552  112  168   32\n",
      "  210  105  126  144  216   54  205   96  234  102  198  165  100  280\n",
      "   20  120  148  156 1012  208  140  275  176  200  184   98   90  429\n",
      "  190  134  180  160  135  177  242   86  169   50   45   56   18   78\n",
      "   30  143  218  202  114  249  204  256   43  212  252  318  330  186\n",
      "   42  154   34   81   94  293  113  288   35  164  214   70  228  584\n",
      "   68   99  254  259  132  246  161   36  268  225   55  244   39  231\n",
      "   84  219   48  236  226   92  150  238  368  117   87   25   60  183\n",
      "  222  185  264  109  364  121   77  209  115  296  136   40   44   64\n",
      "  170  240   26  248   80  196  158  123  294  162  260   67   51  272\n",
      "  213  137  265  220  203  130   16]\n",
      "X3Ssn.Porch [  0 290 150 140 120 168 153 180  86 182 304 176 130 216 162 144 320 245\n",
      " 238  96]\n",
      "Screen.Porch [  0 115 225 144 135 112 120 197 263 178 190 276 440  60 170 256  90 210\n",
      " 126 200 273 180 231 153 374 221 196 165 192 252 145 220 100 176 121 164\n",
      " 185 156 208 265 116 161 111 154 480 224  63 216 175 168 240  94 148 138\n",
      " 227 288 189 342 160  95 228  40  88 182 234 113 119 287 204 155 195 259\n",
      " 222 184 140 385 142 130 123 141  80 255  92 171 198  64 280 396 152 104\n",
      " 322 163 217 271]\n",
      "Pool.Area [  0 512 519 444 738 800 228 480 555 368 576 648]\n",
      "Pool.QC ['NA' 'Ex' 'Fa' 'TA' 'Gd']\n",
      "Fence ['NA' 'MnPrv' 'GdPrv' 'GdWo' 'MnWw']\n",
      "Misc.Feature ['NA' 'Shed' 'TenC' 'Gar2' 'Othr']\n",
      "Misc.Val [    0  1200   460   700  2000   400   500  2500 15500   600  1000  1500\n",
      "  1150   420   450   650  4500  1400    54   300   480   560   490  3000\n",
      "   350   800  1512    80  6500   900   620]\n",
      "Mo.Sold [ 8  4  6  9  5  3  7 10 12  2  1 11]\n",
      "Yr.Sold [2007 2010 2009 2006 2008]\n",
      "Sale.Type ['New' 'WD ' 'COD' 'CWD' 'ConLD' 'ConLI' 'Oth' 'Con' 'ConLw' 'VWD']\n",
      "Sale.Condition ['Partial' 'Normal' 'Alloca' 'Abnorml' 'Family' 'AdjLand']\n",
      "SalePrice [204000 126000 133900 118858 342643  88750 279000 105000 235000  93369\n",
      " 189950 185000 100000 174000 145000 115500 130000 500067 216837 140000\n",
      " 154000 312500 214000 248500 106500 179665 192000 286000 135000 257076\n",
      " 110000 185900 181900 152400 196500 109500 310013 226700 210000 142500\n",
      " 107500 182000 238500 147000  84900  68000 160000 247000 148000 239000\n",
      " 184500 275000 265000 137000 131000 103000 122000 258000 147500 115000\n",
      " 249700 123900 186500 149900 205000 131900 340000 328900 196000 153500\n",
      " 187000 177000 106250 126500 278000 112000 102000 168000 242500 172000\n",
      " 116500 228000 162000 156500 166000 138000 180000 127000 155000 108500\n",
      " 255000  62500 120000 140500 161500 193879 129900 139000 250000 323262\n",
      " 149350 217500 193000 165000 215000 133000 138400  97000 290000 282500\n",
      " 237000 139400 224500 123000 120500 315000 190500 241000 170000 468000\n",
      " 186700 119200  81000 135750 146000 228950 136905 191000 178000 192500\n",
      " 165500 160500 158000 204750 173900 176500 190000 124500 167900 172500\n",
      " 108000 213500 124000 159500 128000 154900 143000 212900 274900 109900\n",
      " 272000 322400  80000 236500 263000  99000 144000 206000  55000 150000\n",
      "  87500 116000 132000 156000 421250 159000 167840 164000 121000  79400\n",
      " 177500 584500  85500 342000 141000 184100 212500 227875 253000 228500\n",
      "  82500 149300 113000 127500 201800 207500 208900 279900 337000 117000\n",
      " 213000 128500 178400  86000 253293 184000 157900 118400 119000 387000\n",
      " 317000 178750 216000 179900 266500 117500 233170 180400 221000 280000\n",
      " 151400 104000 183500 137500 199900 294323 225000 200624 284500 142000\n",
      " 264500 232000 116900 107000 102776 207000 109000 274970 285000  75000\n",
      " 217000 257000 252000 266000 167000 272500 213750 151500 257500 193500\n",
      " 320000 234000 192350 173000 210400 203000 382500 136500 118500 195000\n",
      "  95541 219210 213250 345000 105500 232600  81500 189000 153000 136000\n",
      " 284000 220000 139500 175000 232698 198500 146300 188000 120750 149000\n",
      " 144800  99900 125200 188500 415000 192140  80500  93000  89471 124100\n",
      " 114504 138800 171000 240000 229000 157000 292500 336820 116050 405000\n",
      " 181000 195500 166800 123600 158900 201000 181500 135500 287500 255900\n",
      " 134500  76500 125500 159900  90000  79900  76000  95000 191750 404000\n",
      " 281500 118000 173500 119500 241600  68104 286500 113700 403000 270000\n",
      "  82375 324000 172400 209500 209200 163000 582933 149500  93500 325000\n",
      " 143750 216500 150909 187750 129000 335000 322500 141500 153337 111500\n",
      " 171500 172900 163500 214900 375000 183900 230000 131750 166500 556581\n",
      " 249000 223500 538000 262500 152500  89500 132500 409900 211500  97500\n",
      " 124400  91000 114000 134800 175900 277000 244400 306000 256000 254900\n",
      " 259000 755000 535000 169000 129400 155891 268000 234500 121600 287602\n",
      " 200000 194700 204900 167300 500000 370878 177625  98000 305900 212700\n",
      "  64500 232500  82000 143500  99500 235876  83500 350000 158500  97900\n",
      " 263435  72000 410000 277500 372402 113722 344133 383970 610000 301500\n",
      " 106000 233500 179600 194201  35311 219500  79000 130500 129500 165600\n",
      " 291000 218836  85000  75200 183000 275500  72500 157500  86900 193800\n",
      "  96000 186000 437154 419005 246578 224000 384500 133500 282000 187500\n",
      " 294900 254750 151000 267000 329900 333168  94900 137900 147983 142600\n",
      " 108538 152000 462000 112500 260000 485000  68400 218689 146500 129200\n",
      " 182900 287000 300000  79275 162900 338500 269500  64000 150900 264132\n",
      " 142953  81400 242000 177594  83000 359100 248000 222500  90500 145400\n",
      " 380000 309000 178900 372397 203160 200500 336000  99800 139900 110500\n",
      " 212000 214500 230500 412500  71000 161750  88000 321000 156932 125600\n",
      " 280750 348000  84000 264966 402000 202500 337500 243000 319900  78500\n",
      " 159895 159950 317500 129250 165250 161000  35000 185088 294464  55993\n",
      " 245000 424870 107400 229800  79500 122250 263550 120875 313000 260116\n",
      "  75190 211000 197900 402861  87000 140200 356383 148500 169985 145500\n",
      "  52500 198000 111000 184900 131500 187687 139950 134900 111900 226500\n",
      " 318000 295493 123500  96500 194000 168675 339750 197500 307000 218000\n",
      " 451950 125000 244000 202000  68500 114500 115400 222000  84500 369900\n",
      " 191500 289000 164700 122500 202900 185101 179781 101800 185850 231000\n",
      " 124900  45000 418000 310000 212999 153575 108480 239900 146900 244600\n",
      "  93900 355000 156820 144500 176000 169500 106900 107900 180500 302000\n",
      " 119900 239500 319000 160250  12789 297900 268500 360000 394617 206900\n",
      " 301000 187100 189500 161900 194500 330000 108959 179000 206300 227680\n",
      " 205950 470000 385000  67000 373000  58500 167500 221370 395192 274300\n",
      "  46500 147400 345474 316000 163900 185500  61500  88250 243500 117250\n",
      " 197000 111250 105900  52000 261329 103500 121500 129850 155900 119916\n",
      " 128200  89000 195400 119750 457347 265900  61000 405749 227000 246000\n",
      " 113500 394432 263400  63000 128900 143900 178740 367294 241500 134000\n",
      " 231713 248328  94500 250764 181755  93850 213133 325300 212109 327000\n",
      " 475000 245700 359900 155835 354000 156450 164500 168500 130250 296000\n",
      " 310090  59000 231500  60000  91500 114900 745000 162500 235500  63900\n",
      "  70000 145100 269790 293200  98500 341000 240900 224243 101000 445000\n",
      " 134450 138500 274725 150500 122900 171925 170440 223000 198900 139600\n",
      " 501837 125900 299800 208000 150750 250580 144750 401179 303477 245350\n",
      " 298236 171900 199500 142125 370967 276000 334000 148400  34900 213490\n",
      " 240050 176400 143195 246900  75500 188700 185750  65000 271000 147110\n",
      " 119164 361919 290941 148325 318061 332000 246500 112900 131400 233230\n",
      " 172785  73000 132250 295000 208300 251000  50138 398800 176485 395039\n",
      " 118964 143450 198600 259500 256300 145900 221300 190550 247900 174500\n",
      " 450000 149700  62383 224900 148800 221800 261500 245500 305000 356000\n",
      " 279700 199000  92000 390000 111750 229456 372000 221500 235128 135960\n",
      " 164990 109008 103600  66500 209000 198444 349265 176432 200100 479069\n",
      " 441929 233000]\n"
     ]
    }
   ],
   "source": [
    "for i in unikalne:\n",
    "    print(i, unikalne[i][0])"
   ]
  },
  {
   "cell_type": "code",
   "execution_count": null,
   "metadata": {},
   "outputs": [],
   "source": [
    "###Sprawdzam ponownie braki danych"
   ]
  },
  {
   "cell_type": "code",
   "execution_count": 11,
   "metadata": {},
   "outputs": [
    {
     "name": "stdout",
     "output_type": "stream",
     "text": [
      "braki wartości:\n",
      "MS.SubClass        0\n",
      "MS.Zoning          0\n",
      "Lot.Frontage       0\n",
      "Lot.Area           0\n",
      "Street             0\n",
      "Alley              0\n",
      "Lot.Shape          0\n",
      "Land.Contour       0\n",
      "Utilities          0\n",
      "Lot.Config         0\n",
      "Land.Slope         0\n",
      "Neighborhood       0\n",
      "Condition.1        0\n",
      "Condition.2        0\n",
      "Bldg.Type          0\n",
      "House.Style        0\n",
      "Overall.Qual       0\n",
      "Overall.Cond       0\n",
      "Year.Built         0\n",
      "Year.Remod.Add     0\n",
      "Roof.Style         0\n",
      "Roof.Matl          0\n",
      "Exterior.1st       0\n",
      "Exterior.2nd       0\n",
      "Mas.Vnr.Type       0\n",
      "Mas.Vnr.Area       0\n",
      "Exter.Qual         0\n",
      "Exter.Cond         0\n",
      "Foundation         0\n",
      "Bsmt.Qual          0\n",
      "Bsmt.Cond          0\n",
      "Bsmt.Exposure      0\n",
      "BsmtFin.Type.1     0\n",
      "BsmtFin.SF.1       0\n",
      "BsmtFin.Type.2     0\n",
      "BsmtFin.SF.2       0\n",
      "Bsmt.Unf.SF        0\n",
      "Total.Bsmt.SF      0\n",
      "Heating            0\n",
      "Heating.QC         0\n",
      "Central.Air        0\n",
      "Electrical         0\n",
      "X1st.Flr.SF        0\n",
      "X2nd.Flr.SF        0\n",
      "Low.Qual.Fin.SF    0\n",
      "Gr.Liv.Area        0\n",
      "Bsmt.Full.Bath     0\n",
      "Bsmt.Half.Bath     0\n",
      "Full.Bath          0\n",
      "Half.Bath          0\n",
      "Bedroom.AbvGr      0\n",
      "Kitchen.AbvGr      0\n",
      "Kitchen.Qual       0\n",
      "TotRms.AbvGrd      0\n",
      "Functional         0\n",
      "Fireplaces         0\n",
      "Fireplace.Qu       0\n",
      "Garage.Type        0\n",
      "Garage.Yr.Blt      0\n",
      "Garage.Finish      0\n",
      "Garage.Cars        0\n",
      "Garage.Area        0\n",
      "Garage.Qual        0\n",
      "Garage.Cond        0\n",
      "Paved.Drive        0\n",
      "Wood.Deck.SF       0\n",
      "Open.Porch.SF      0\n",
      "Enclosed.Porch     0\n",
      "X3Ssn.Porch        0\n",
      "Screen.Porch       0\n",
      "Pool.Area          0\n",
      "Pool.QC            0\n",
      "Fence              0\n",
      "Misc.Feature       0\n",
      "Misc.Val           0\n",
      "Mo.Sold            0\n",
      "Yr.Sold            0\n",
      "Sale.Type          0\n",
      "Sale.Condition     0\n",
      "SalePrice          0\n",
      "dtype: int64\n",
      "\n",
      "wartości None:\n",
      "Empty DataFrame\n",
      "Columns: [MS.SubClass, MS.Zoning, Lot.Frontage, Lot.Area, Street, Alley, Lot.Shape, Land.Contour, Utilities, Lot.Config, Land.Slope, Neighborhood, Condition.1, Condition.2, Bldg.Type, House.Style, Overall.Qual, Overall.Cond, Year.Built, Year.Remod.Add, Roof.Style, Roof.Matl, Exterior.1st, Exterior.2nd, Mas.Vnr.Type, Mas.Vnr.Area, Exter.Qual, Exter.Cond, Foundation, Bsmt.Qual, Bsmt.Cond, Bsmt.Exposure, BsmtFin.Type.1, BsmtFin.SF.1, BsmtFin.Type.2, BsmtFin.SF.2, Bsmt.Unf.SF, Total.Bsmt.SF, Heating, Heating.QC, Central.Air, Electrical, X1st.Flr.SF, X2nd.Flr.SF, Low.Qual.Fin.SF, Gr.Liv.Area, Bsmt.Full.Bath, Bsmt.Half.Bath, Full.Bath, Half.Bath, Bedroom.AbvGr, Kitchen.AbvGr, Kitchen.Qual, TotRms.AbvGrd, Functional, Fireplaces, Fireplace.Qu, Garage.Type, Garage.Yr.Blt, Garage.Finish, Garage.Cars, Garage.Area, Garage.Qual, Garage.Cond, Paved.Drive, Wood.Deck.SF, Open.Porch.SF, Enclosed.Porch, X3Ssn.Porch, Screen.Porch, Pool.Area, Pool.QC, Fence, Misc.Feature, Misc.Val, Mo.Sold, Yr.Sold, Sale.Type, Sale.Condition, SalePrice]\n",
      "Index: []\n"
     ]
    }
   ],
   "source": [
    "missing_values = dane.isnull().sum()\n",
    "print('braki wartości:')\n",
    "print(missing_values)\n",
    "print()\n",
    "i = []\n",
    "kolumny=list(dane.columns)\n",
    "kolumny.remove('Mas.Vnr.Type')\n",
    "for col in kolumny:\n",
    "    i.extend(dane.loc[dane[col]=='None'].index.values)\n",
    "i=list(dict.fromkeys(i))\n",
    "i.sort()\n",
    "print('wartości None:')\n",
    "print(dane.loc[i])"
   ]
  },
  {
   "cell_type": "code",
   "execution_count": null,
   "metadata": {},
   "outputs": [],
   "source": [
    "#wyrównywanie danych"
   ]
  },
  {
   "cell_type": "code",
   "execution_count": 16,
   "metadata": {
    "scrolled": true
   },
   "outputs": [
    {
     "data": {
      "text/plain": [
       "WD       1738\n",
       "New       156\n",
       "COD        64\n",
       "ConLD      15\n",
       "ConLI       9\n",
       "CWD         8\n",
       "ConLw       4\n",
       "Oth         3\n",
       "Con         2\n",
       "VWD         1\n",
       "Name: Sale.Type, dtype: int64"
      ]
     },
     "execution_count": 16,
     "metadata": {},
     "output_type": "execute_result"
    }
   ],
   "source": [
    "kolumna = 'Sale.Type'\n",
    "dane[kolumna].value_counts()"
   ]
  },
  {
   "cell_type": "code",
   "execution_count": 23,
   "metadata": {
    "scrolled": true
   },
   "outputs": [],
   "source": [
    "kolumna = 'Sale.Type'\n",
    "stara_wartosc = ['VWD']\n",
    "nowa_wartosc = 'OTHER'\n",
    "dane[kolumna] = dane[kolumna].replace([stara_wartosc], nowa_wartosc)"
   ]
  },
  {
   "cell_type": "code",
   "execution_count": 24,
   "metadata": {},
   "outputs": [],
   "source": [
    "kolumna = 'Sale.Type'\n",
    "stara_wartosc = ['Con']\n",
    "nowa_wartosc = 'OTHER'\n",
    "dane[kolumna] = dane[kolumna].replace([stara_wartosc], nowa_wartosc)"
   ]
  },
  {
   "cell_type": "code",
   "execution_count": 25,
   "metadata": {},
   "outputs": [],
   "source": [
    "kolumna = 'Sale.Type'\n",
    "stara_wartosc = ['Oth']\n",
    "nowa_wartosc = 'OTHER'\n",
    "dane[kolumna] = dane[kolumna].replace([stara_wartosc], nowa_wartosc)"
   ]
  },
  {
   "cell_type": "code",
   "execution_count": 26,
   "metadata": {},
   "outputs": [],
   "source": [
    "kolumna = 'Sale.Type'\n",
    "stara_wartosc = ['ConLw']\n",
    "nowa_wartosc = 'OTHER'\n",
    "dane[kolumna] = dane[kolumna].replace([stara_wartosc], nowa_wartosc)"
   ]
  },
  {
   "cell_type": "code",
   "execution_count": 27,
   "metadata": {},
   "outputs": [],
   "source": [
    "kolumna = 'Sale.Type'\n",
    "stara_wartosc = ['CWD']\n",
    "nowa_wartosc = 'OTHER'\n",
    "dane[kolumna] = dane[kolumna].replace([stara_wartosc], nowa_wartosc)"
   ]
  },
  {
   "cell_type": "code",
   "execution_count": 28,
   "metadata": {},
   "outputs": [],
   "source": [
    "kolumna = 'Sale.Type'\n",
    "stara_wartosc = ['ConLI']\n",
    "nowa_wartosc = 'OTHER'\n",
    "dane[kolumna] = dane[kolumna].replace([stara_wartosc], nowa_wartosc)"
   ]
  },
  {
   "cell_type": "code",
   "execution_count": 29,
   "metadata": {},
   "outputs": [],
   "source": [
    "kolumna = 'Sale.Type'\n",
    "stara_wartosc = ['ConLD']\n",
    "nowa_wartosc = 'OTHER'\n",
    "dane[kolumna] = dane[kolumna].replace([stara_wartosc], nowa_wartosc)"
   ]
  },
  {
   "cell_type": "code",
   "execution_count": 30,
   "metadata": {},
   "outputs": [
    {
     "data": {
      "text/plain": [
       "NA       1605\n",
       "MnPrv     232\n",
       "GdWo       78\n",
       "GdPrv      78\n",
       "MnWw        7\n",
       "Name: Fence, dtype: int64"
      ]
     },
     "execution_count": 30,
     "metadata": {},
     "output_type": "execute_result"
    }
   ],
   "source": [
    "kolumna = 'Fence'\n",
    "dane[kolumna].value_counts()"
   ]
  },
  {
   "cell_type": "code",
   "execution_count": 31,
   "metadata": {},
   "outputs": [],
   "source": [
    "kolumna = 'Fence'\n",
    "stara_wartosc = ['MnWw']\n",
    "nowa_wartosc = 'MnPrv'\n",
    "dane[kolumna] = dane[kolumna].replace([stara_wartosc], nowa_wartosc)"
   ]
  },
  {
   "cell_type": "code",
   "execution_count": 32,
   "metadata": {},
   "outputs": [
    {
     "data": {
      "text/plain": [
       "NA    1989\n",
       "Gd       4\n",
       "Ex       3\n",
       "Fa       2\n",
       "TA       2\n",
       "Name: Pool.QC, dtype: int64"
      ]
     },
     "execution_count": 32,
     "metadata": {},
     "output_type": "execute_result"
    }
   ],
   "source": [
    "kolumna = 'Pool.QC'\n",
    "dane[kolumna].value_counts()"
   ]
  },
  {
   "cell_type": "code",
   "execution_count": 33,
   "metadata": {},
   "outputs": [],
   "source": [
    "dane.drop(columns='Pool.QC', axis=1, inplace=True)   #za mało danych"
   ]
  },
  {
   "cell_type": "code",
   "execution_count": 34,
   "metadata": {},
   "outputs": [
    {
     "data": {
      "text/plain": [
       "TA    1785\n",
       "NA     112\n",
       "Fa      84\n",
       "Gd      16\n",
       "Po       2\n",
       "Ex       1\n",
       "Name: Garage.Qual, dtype: int64"
      ]
     },
     "execution_count": 34,
     "metadata": {},
     "output_type": "execute_result"
    }
   ],
   "source": [
    "kolumna = 'Garage.Qual'\n",
    "dane[kolumna].value_counts()"
   ]
  },
  {
   "cell_type": "code",
   "execution_count": 36,
   "metadata": {
    "scrolled": true
   },
   "outputs": [],
   "source": [
    "kolumna = 'Garage.Qual'\n",
    "stara_wartosc = ['Gd']\n",
    "nowa_wartosc = 'Fa'\n",
    "dane[kolumna] = dane[kolumna].replace([stara_wartosc], nowa_wartosc)"
   ]
  },
  {
   "cell_type": "code",
   "execution_count": 37,
   "metadata": {},
   "outputs": [],
   "source": [
    "kolumna = 'Garage.Qual'\n",
    "stara_wartosc = ['Po']\n",
    "nowa_wartosc = 'Fa'\n",
    "dane[kolumna] = dane[kolumna].replace([stara_wartosc], nowa_wartosc)"
   ]
  },
  {
   "cell_type": "code",
   "execution_count": 39,
   "metadata": {},
   "outputs": [],
   "source": [
    "kolumna = 'Garage.Qual'\n",
    "stara_wartosc = ['Ex']\n",
    "nowa_wartosc = 'Fa'\n",
    "dane[kolumna] = dane[kolumna].replace([stara_wartosc], nowa_wartosc)"
   ]
  },
  {
   "cell_type": "code",
   "execution_count": 40,
   "metadata": {},
   "outputs": [
    {
     "data": {
      "text/plain": [
       "Attchd     1182\n",
       "Detchd      531\n",
       "BuiltIn     121\n",
       "NA          110\n",
       "Basment      28\n",
       "2Types       15\n",
       "CarPort      13\n",
       "Name: Garage.Type, dtype: int64"
      ]
     },
     "execution_count": 40,
     "metadata": {},
     "output_type": "execute_result"
    }
   ],
   "source": [
    "kolumna = 'Garage.Type'\n",
    "dane[kolumna].value_counts()"
   ]
  },
  {
   "cell_type": "code",
   "execution_count": 42,
   "metadata": {},
   "outputs": [],
   "source": [
    "kolumna = 'Garage.Type'\n",
    "stara_wartosc = ['Basment']\n",
    "nowa_wartosc = 'Other'\n",
    "dane[kolumna] = dane[kolumna].replace([stara_wartosc], nowa_wartosc)"
   ]
  },
  {
   "cell_type": "code",
   "execution_count": 43,
   "metadata": {},
   "outputs": [],
   "source": [
    "kolumna = 'Garage.Type'\n",
    "stara_wartosc = ['2Types']\n",
    "nowa_wartosc = 'Other'\n",
    "dane[kolumna] = dane[kolumna].replace([stara_wartosc], nowa_wartosc)"
   ]
  },
  {
   "cell_type": "code",
   "execution_count": 44,
   "metadata": {},
   "outputs": [],
   "source": [
    "kolumna = 'Garage.Type'\n",
    "stara_wartosc = ['CarPort']\n",
    "nowa_wartosc = 'Other'\n",
    "dane[kolumna] = dane[kolumna].replace([stara_wartosc], nowa_wartosc)"
   ]
  },
  {
   "cell_type": "code",
   "execution_count": 45,
   "metadata": {},
   "outputs": [
    {
     "data": {
      "text/plain": [
       "SBrkr    1837\n",
       "FuseA     122\n",
       "FuseF      37\n",
       "FuseP       4\n",
       "Name: Electrical, dtype: int64"
      ]
     },
     "execution_count": 45,
     "metadata": {},
     "output_type": "execute_result"
    }
   ],
   "source": [
    "kolumna = 'Electrical'\n",
    "dane[kolumna].value_counts()"
   ]
  },
  {
   "cell_type": "code",
   "execution_count": 46,
   "metadata": {},
   "outputs": [],
   "source": [
    "kolumna = 'Electrical'\n",
    "stara_wartosc = ['FuseA']\n",
    "nowa_wartosc = 'Fuse'\n",
    "dane[kolumna] = dane[kolumna].replace([stara_wartosc], nowa_wartosc)"
   ]
  },
  {
   "cell_type": "code",
   "execution_count": 47,
   "metadata": {},
   "outputs": [],
   "source": [
    "kolumna = 'Electrical'\n",
    "stara_wartosc = ['FuseF']\n",
    "nowa_wartosc = 'Fuse'\n",
    "dane[kolumna] = dane[kolumna].replace([stara_wartosc], nowa_wartosc)"
   ]
  },
  {
   "cell_type": "code",
   "execution_count": 48,
   "metadata": {},
   "outputs": [],
   "source": [
    "kolumna = 'Electrical'\n",
    "stara_wartosc = ['FuseP']\n",
    "nowa_wartosc = 'Fuse'\n",
    "dane[kolumna] = dane[kolumna].replace([stara_wartosc], nowa_wartosc)"
   ]
  },
  {
   "cell_type": "code",
   "execution_count": 49,
   "metadata": {},
   "outputs": [
    {
     "data": {
      "text/plain": [
       "Ex    1012\n",
       "TA     613\n",
       "Gd     313\n",
       "Fa      61\n",
       "Po       1\n",
       "Name: Heating.QC, dtype: int64"
      ]
     },
     "execution_count": 49,
     "metadata": {},
     "output_type": "execute_result"
    }
   ],
   "source": [
    "kolumna = 'Heating.QC'\n",
    "dane[kolumna].value_counts()"
   ]
  },
  {
   "cell_type": "code",
   "execution_count": 50,
   "metadata": {},
   "outputs": [],
   "source": [
    "kolumna = 'Heating.QC'\n",
    "stara_wartosc = ['Po']\n",
    "nowa_wartosc = 'TA'\n",
    "dane[kolumna] = dane[kolumna].replace([stara_wartosc], nowa_wartosc)"
   ]
  },
  {
   "cell_type": "code",
   "execution_count": 51,
   "metadata": {},
   "outputs": [
    {
     "data": {
      "text/plain": [
       "GasA     1968\n",
       "GasW       20\n",
       "Grav        5\n",
       "Wall        4\n",
       "OthW        2\n",
       "Floor       1\n",
       "Name: Heating, dtype: int64"
      ]
     },
     "execution_count": 51,
     "metadata": {},
     "output_type": "execute_result"
    }
   ],
   "source": [
    "kolumna = 'Heating'\n",
    "dane[kolumna].value_counts()"
   ]
  },
  {
   "cell_type": "code",
   "execution_count": 52,
   "metadata": {},
   "outputs": [],
   "source": [
    "dane.drop(columns='Heating', axis=1, inplace=True)   #za mało danych"
   ]
  },
  {
   "cell_type": "code",
   "execution_count": 53,
   "metadata": {},
   "outputs": [
    {
     "data": {
      "text/plain": [
       "TA    1783\n",
       "Gd      88\n",
       "Fa      71\n",
       "NA      53\n",
       "Ex       3\n",
       "Po       2\n",
       "Name: Bsmt.Cond, dtype: int64"
      ]
     },
     "execution_count": 53,
     "metadata": {},
     "output_type": "execute_result"
    }
   ],
   "source": [
    "kolumna = 'Bsmt.Cond'\n",
    "dane[kolumna].value_counts()"
   ]
  },
  {
   "cell_type": "code",
   "execution_count": 54,
   "metadata": {},
   "outputs": [],
   "source": [
    "kolumna = 'Bsmt.Cond'\n",
    "stara_wartosc = ['Ex']\n",
    "nowa_wartosc = 'Fa'\n",
    "dane[kolumna] = dane[kolumna].replace([stara_wartosc], nowa_wartosc)"
   ]
  },
  {
   "cell_type": "code",
   "execution_count": 55,
   "metadata": {},
   "outputs": [],
   "source": [
    "kolumna = 'Bsmt.Cond'\n",
    "stara_wartosc = ['Po']\n",
    "nowa_wartosc = 'TA'\n",
    "dane[kolumna] = dane[kolumna].replace([stara_wartosc], nowa_wartosc)"
   ]
  },
  {
   "cell_type": "code",
   "execution_count": 56,
   "metadata": {},
   "outputs": [
    {
     "data": {
      "text/plain": [
       "TA    892\n",
       "Gd    837\n",
       "Ex    163\n",
       "Fa     54\n",
       "NA     53\n",
       "Po      1\n",
       "Name: Bsmt.Qual, dtype: int64"
      ]
     },
     "execution_count": 56,
     "metadata": {},
     "output_type": "execute_result"
    }
   ],
   "source": [
    "kolumna = 'Bsmt.Qual'\n",
    "dane[kolumna].value_counts()"
   ]
  },
  {
   "cell_type": "code",
   "execution_count": 57,
   "metadata": {},
   "outputs": [],
   "source": [
    "kolumna = 'Bsmt.Qual'\n",
    "stara_wartosc = ['NA']\n",
    "nowa_wartosc = 'TA'\n",
    "dane[kolumna] = dane[kolumna].replace([stara_wartosc], nowa_wartosc)"
   ]
  },
  {
   "cell_type": "code",
   "execution_count": 58,
   "metadata": {},
   "outputs": [],
   "source": [
    "kolumna = 'Bsmt.Qual'\n",
    "stara_wartosc = ['Po']\n",
    "nowa_wartosc = 'TA'\n",
    "dane[kolumna] = dane[kolumna].replace([stara_wartosc], nowa_wartosc)"
   ]
  },
  {
   "cell_type": "code",
   "execution_count": 59,
   "metadata": {},
   "outputs": [
    {
     "data": {
      "text/plain": [
       "Normal     1640\n",
       "Partial     159\n",
       "Abnorml     136\n",
       "Family       33\n",
       "Alloca       21\n",
       "AdjLand      11\n",
       "Name: Sale.Condition, dtype: int64"
      ]
     },
     "execution_count": 59,
     "metadata": {},
     "output_type": "execute_result"
    }
   ],
   "source": [
    "kolumna = 'Sale.Condition'\n",
    "dane[kolumna].value_counts()"
   ]
  },
  {
   "cell_type": "code",
   "execution_count": 61,
   "metadata": {
    "scrolled": true
   },
   "outputs": [],
   "source": [
    "kolumna = 'Sale.Condition'\n",
    "stara_wartosc = ['Family']\n",
    "nowa_wartosc = 'OTHER'\n",
    "dane[kolumna] = dane[kolumna].replace([stara_wartosc], nowa_wartosc)"
   ]
  },
  {
   "cell_type": "code",
   "execution_count": 62,
   "metadata": {},
   "outputs": [],
   "source": [
    "kolumna = 'Sale.Condition'\n",
    "stara_wartosc = ['Alloca']\n",
    "nowa_wartosc = 'OTHER'\n",
    "dane[kolumna] = dane[kolumna].replace([stara_wartosc], nowa_wartosc)"
   ]
  },
  {
   "cell_type": "code",
   "execution_count": 63,
   "metadata": {},
   "outputs": [],
   "source": [
    "kolumna = 'Sale.Condition'\n",
    "stara_wartosc = ['AdjLand']\n",
    "nowa_wartosc = 'OTHER'\n",
    "dane[kolumna] = dane[kolumna].replace([stara_wartosc], nowa_wartosc)"
   ]
  },
  {
   "cell_type": "code",
   "execution_count": 64,
   "metadata": {},
   "outputs": [
    {
     "data": {
      "text/plain": [
       "NA      1926\n",
       "Shed      69\n",
       "Othr       2\n",
       "Gar2       2\n",
       "TenC       1\n",
       "Name: Misc.Feature, dtype: int64"
      ]
     },
     "execution_count": 64,
     "metadata": {},
     "output_type": "execute_result"
    }
   ],
   "source": [
    "kolumna = 'Misc.Feature'\n",
    "dane[kolumna].value_counts()"
   ]
  },
  {
   "cell_type": "code",
   "execution_count": 65,
   "metadata": {},
   "outputs": [],
   "source": [
    "kolumna = 'Misc.Feature'\n",
    "stara_wartosc = ['Shed']\n",
    "nowa_wartosc = 'OTHER'\n",
    "dane[kolumna] = dane[kolumna].replace([stara_wartosc], nowa_wartosc)"
   ]
  },
  {
   "cell_type": "code",
   "execution_count": 66,
   "metadata": {},
   "outputs": [],
   "source": [
    "kolumna = 'Misc.Feature'\n",
    "stara_wartosc = ['Gar2']\n",
    "nowa_wartosc = 'OTHER'\n",
    "dane[kolumna] = dane[kolumna].replace([stara_wartosc], nowa_wartosc)"
   ]
  },
  {
   "cell_type": "code",
   "execution_count": 67,
   "metadata": {},
   "outputs": [],
   "source": [
    "kolumna = 'Misc.Feature'\n",
    "stara_wartosc = ['Othr']\n",
    "nowa_wartosc = 'OTHER'\n",
    "dane[kolumna] = dane[kolumna].replace([stara_wartosc], nowa_wartosc)"
   ]
  },
  {
   "cell_type": "code",
   "execution_count": 68,
   "metadata": {},
   "outputs": [],
   "source": [
    "kolumna = 'Misc.Feature'\n",
    "stara_wartosc = ['TenC']\n",
    "nowa_wartosc = 'OTHER'\n",
    "dane[kolumna] = dane[kolumna].replace([stara_wartosc], nowa_wartosc)"
   ]
  },
  {
   "cell_type": "code",
   "execution_count": 69,
   "metadata": {},
   "outputs": [
    {
     "data": {
      "text/plain": [
       "TA    1816\n",
       "NA     112\n",
       "Fa      53\n",
       "Gd       9\n",
       "Po       8\n",
       "Ex       2\n",
       "Name: Garage.Cond, dtype: int64"
      ]
     },
     "execution_count": 69,
     "metadata": {},
     "output_type": "execute_result"
    }
   ],
   "source": [
    "kolumna = 'Garage.Cond'\n",
    "dane[kolumna].value_counts()"
   ]
  },
  {
   "cell_type": "code",
   "execution_count": 70,
   "metadata": {},
   "outputs": [],
   "source": [
    "kolumna = 'Garage.Cond'\n",
    "stara_wartosc = ['Ex']\n",
    "nowa_wartosc = 'OTHER'\n",
    "dane[kolumna] = dane[kolumna].replace([stara_wartosc], nowa_wartosc)"
   ]
  },
  {
   "cell_type": "code",
   "execution_count": 71,
   "metadata": {},
   "outputs": [],
   "source": [
    "kolumna = 'Garage.Cond'\n",
    "stara_wartosc = ['Fa']\n",
    "nowa_wartosc = 'OTHER'\n",
    "dane[kolumna] = dane[kolumna].replace([stara_wartosc], nowa_wartosc)"
   ]
  },
  {
   "cell_type": "code",
   "execution_count": 72,
   "metadata": {},
   "outputs": [],
   "source": [
    "kolumna = 'Garage.Cond'\n",
    "stara_wartosc = ['Gd']\n",
    "nowa_wartosc = 'OTHER'\n",
    "dane[kolumna] = dane[kolumna].replace([stara_wartosc], nowa_wartosc)"
   ]
  },
  {
   "cell_type": "code",
   "execution_count": 73,
   "metadata": {},
   "outputs": [],
   "source": [
    "kolumna = 'Garage.Cond'\n",
    "stara_wartosc = ['Po']\n",
    "nowa_wartosc = 'OTHER'\n",
    "dane[kolumna] = dane[kolumna].replace([stara_wartosc], nowa_wartosc)"
   ]
  },
  {
   "cell_type": "code",
   "execution_count": 74,
   "metadata": {},
   "outputs": [
    {
     "data": {
      "text/plain": [
       "TA    1734\n",
       "Gd     218\n",
       "Fa      40\n",
       "Ex       8\n",
       "Name: Exter.Cond, dtype: int64"
      ]
     },
     "execution_count": 74,
     "metadata": {},
     "output_type": "execute_result"
    }
   ],
   "source": [
    "kolumna = 'Exter.Cond'\n",
    "dane[kolumna].value_counts()"
   ]
  },
  {
   "cell_type": "code",
   "execution_count": 75,
   "metadata": {},
   "outputs": [],
   "source": [
    "kolumna = 'Exter.Cond'\n",
    "stara_wartosc = ['Ex']\n",
    "nowa_wartosc = 'OTHER'\n",
    "dane[kolumna] = dane[kolumna].replace([stara_wartosc], nowa_wartosc)"
   ]
  },
  {
   "cell_type": "code",
   "execution_count": 76,
   "metadata": {},
   "outputs": [],
   "source": [
    "kolumna = 'Exter.Cond'\n",
    "stara_wartosc = ['Fa']\n",
    "nowa_wartosc = 'OTHER'\n",
    "dane[kolumna] = dane[kolumna].replace([stara_wartosc], nowa_wartosc)"
   ]
  },
  {
   "cell_type": "code",
   "execution_count": 77,
   "metadata": {},
   "outputs": [
    {
     "data": {
      "text/plain": [
       "TA    1230\n",
       "Gd     683\n",
       "Ex      66\n",
       "Fa      21\n",
       "Name: Exter.Qual, dtype: int64"
      ]
     },
     "execution_count": 77,
     "metadata": {},
     "output_type": "execute_result"
    }
   ],
   "source": [
    "kolumna = 'Exter.Qual'\n",
    "dane[kolumna].value_counts()"
   ]
  },
  {
   "cell_type": "code",
   "execution_count": 78,
   "metadata": {},
   "outputs": [],
   "source": [
    "kolumna = 'Exter.Qual'\n",
    "stara_wartosc = ['Ex']\n",
    "nowa_wartosc = 'OTHER'\n",
    "dane[kolumna] = dane[kolumna].replace([stara_wartosc], nowa_wartosc)"
   ]
  },
  {
   "cell_type": "code",
   "execution_count": 79,
   "metadata": {},
   "outputs": [],
   "source": [
    "kolumna = 'Exter.Qual'\n",
    "stara_wartosc = ['Fa']\n",
    "nowa_wartosc = 'OTHER'\n",
    "dane[kolumna] = dane[kolumna].replace([stara_wartosc], nowa_wartosc)"
   ]
  },
  {
   "cell_type": "code",
   "execution_count": 80,
   "metadata": {},
   "outputs": [
    {
     "data": {
      "text/plain": [
       "None       1232\n",
       "BrkFace     593\n",
       "Stone       159\n",
       "BrkCmn       15\n",
       "CBlock        1\n",
       "Name: Mas.Vnr.Type, dtype: int64"
      ]
     },
     "execution_count": 80,
     "metadata": {},
     "output_type": "execute_result"
    }
   ],
   "source": [
    "kolumna = 'Mas.Vnr.Type'\n",
    "dane[kolumna].value_counts()"
   ]
  },
  {
   "cell_type": "code",
   "execution_count": 81,
   "metadata": {},
   "outputs": [],
   "source": [
    "kolumna = 'Mas.Vnr.Type'\n",
    "stara_wartosc = ['Stone']\n",
    "nowa_wartosc = 'OTHER'\n",
    "dane[kolumna] = dane[kolumna].replace([stara_wartosc], nowa_wartosc)"
   ]
  },
  {
   "cell_type": "code",
   "execution_count": 82,
   "metadata": {},
   "outputs": [],
   "source": [
    "kolumna = 'Mas.Vnr.Type'\n",
    "stara_wartosc = ['BrkCmn']\n",
    "nowa_wartosc = 'OTHER'\n",
    "dane[kolumna] = dane[kolumna].replace([stara_wartosc], nowa_wartosc)"
   ]
  },
  {
   "cell_type": "code",
   "execution_count": 83,
   "metadata": {},
   "outputs": [],
   "source": [
    "kolumna = 'Mas.Vnr.Type'\n",
    "stara_wartosc = ['CBlock']\n",
    "nowa_wartosc = 'OTHER'\n",
    "dane[kolumna] = dane[kolumna].replace([stara_wartosc], nowa_wartosc)"
   ]
  },
  {
   "cell_type": "code",
   "execution_count": 84,
   "metadata": {},
   "outputs": [
    {
     "data": {
      "text/plain": [
       "Typ     1868\n",
       "Min2      45\n",
       "Min1      44\n",
       "Mod       23\n",
       "Maj1      13\n",
       "Maj2       5\n",
       "Sev        2\n",
       "Name: Functional, dtype: int64"
      ]
     },
     "execution_count": 84,
     "metadata": {},
     "output_type": "execute_result"
    }
   ],
   "source": [
    "kolumna = 'Functional'\n",
    "dane[kolumna].value_counts()"
   ]
  },
  {
   "cell_type": "code",
   "execution_count": 85,
   "metadata": {},
   "outputs": [],
   "source": [
    "kolumna = 'Functional'\n",
    "stara_wartosc = ['Mod']\n",
    "nowa_wartosc = 'OTHER'\n",
    "dane[kolumna] = dane[kolumna].replace([stara_wartosc], nowa_wartosc)"
   ]
  },
  {
   "cell_type": "code",
   "execution_count": 86,
   "metadata": {},
   "outputs": [],
   "source": [
    "kolumna = 'Functional'\n",
    "stara_wartosc = ['Maj1']\n",
    "nowa_wartosc = 'OTHER'\n",
    "dane[kolumna] = dane[kolumna].replace([stara_wartosc], nowa_wartosc)"
   ]
  },
  {
   "cell_type": "code",
   "execution_count": 87,
   "metadata": {},
   "outputs": [],
   "source": [
    "kolumna = 'Functional'\n",
    "stara_wartosc = ['Maj2']\n",
    "nowa_wartosc = 'OTHER'\n",
    "dane[kolumna] = dane[kolumna].replace([stara_wartosc], nowa_wartosc)"
   ]
  },
  {
   "cell_type": "code",
   "execution_count": 88,
   "metadata": {},
   "outputs": [],
   "source": [
    "kolumna = 'Functional'\n",
    "stara_wartosc = ['Sev']\n",
    "nowa_wartosc = 'OTHER'\n",
    "dane[kolumna] = dane[kolumna].replace([stara_wartosc], nowa_wartosc)"
   ]
  },
  {
   "cell_type": "code",
   "execution_count": 89,
   "metadata": {},
   "outputs": [
    {
     "data": {
      "text/plain": [
       "PConc     873\n",
       "CBlock    867\n",
       "BrkTil    215\n",
       "Slab       34\n",
       "Stone       7\n",
       "Wood        4\n",
       "Name: Foundation, dtype: int64"
      ]
     },
     "execution_count": 89,
     "metadata": {},
     "output_type": "execute_result"
    }
   ],
   "source": [
    "kolumna = 'Foundation'\n",
    "dane[kolumna].value_counts()"
   ]
  },
  {
   "cell_type": "code",
   "execution_count": 91,
   "metadata": {},
   "outputs": [],
   "source": [
    "kolumna = 'Foundation'\n",
    "stara_wartosc = ['Stone']\n",
    "nowa_wartosc = 'OTHER'\n",
    "dane[kolumna] = dane[kolumna].replace([stara_wartosc], nowa_wartosc)"
   ]
  },
  {
   "cell_type": "code",
   "execution_count": 90,
   "metadata": {},
   "outputs": [],
   "source": [
    "kolumna = 'Foundation'\n",
    "stara_wartosc = ['Slab']\n",
    "nowa_wartosc = 'OTHER'\n",
    "dane[kolumna] = dane[kolumna].replace([stara_wartosc], nowa_wartosc)"
   ]
  },
  {
   "cell_type": "code",
   "execution_count": 92,
   "metadata": {},
   "outputs": [],
   "source": [
    "kolumna = 'Foundation'\n",
    "stara_wartosc = ['Wood']\n",
    "nowa_wartosc = 'OTHER'\n",
    "dane[kolumna] = dane[kolumna].replace([stara_wartosc], nowa_wartosc)"
   ]
  },
  {
   "cell_type": "code",
   "execution_count": 93,
   "metadata": {},
   "outputs": [
    {
     "data": {
      "text/plain": [
       "VinylSd    681\n",
       "MetalSd    308\n",
       "Wd Sdng    275\n",
       "HdBoard    269\n",
       "Plywood    195\n",
       "CmentBd     84\n",
       "Wd Shng     53\n",
       "BrkFace     37\n",
       "Stucco      35\n",
       "AsbShng     27\n",
       "Brk Cmn     15\n",
       "ImStucc      8\n",
       "Stone        5\n",
       "AsphShn      4\n",
       "CBlock       3\n",
       "Other        1\n",
       "Name: Exterior.2nd, dtype: int64"
      ]
     },
     "execution_count": 93,
     "metadata": {},
     "output_type": "execute_result"
    }
   ],
   "source": [
    "kolumna = 'Exterior.2nd'\n",
    "dane[kolumna].value_counts()"
   ]
  },
  {
   "cell_type": "code",
   "execution_count": 94,
   "metadata": {},
   "outputs": [],
   "source": [
    "kolumna = 'Exterior.2nd'\n",
    "stara_wartosc = ['BrkFace']\n",
    "nowa_wartosc = 'OTHER'\n",
    "dane[kolumna] = dane[kolumna].replace([stara_wartosc], nowa_wartosc)"
   ]
  },
  {
   "cell_type": "code",
   "execution_count": 95,
   "metadata": {},
   "outputs": [],
   "source": [
    "kolumna = 'Exterior.2nd'\n",
    "stara_wartosc = ['Stucco']\n",
    "nowa_wartosc = 'OTHER'\n",
    "dane[kolumna] = dane[kolumna].replace([stara_wartosc], nowa_wartosc)"
   ]
  },
  {
   "cell_type": "code",
   "execution_count": 96,
   "metadata": {},
   "outputs": [],
   "source": [
    "kolumna = 'Exterior.2nd'\n",
    "stara_wartosc = ['AsbShng']\n",
    "nowa_wartosc = 'OTHER'\n",
    "dane[kolumna] = dane[kolumna].replace([stara_wartosc], nowa_wartosc)"
   ]
  },
  {
   "cell_type": "code",
   "execution_count": 97,
   "metadata": {},
   "outputs": [],
   "source": [
    "kolumna = 'Exterior.2nd'\n",
    "stara_wartosc = ['Brk Cmn']\n",
    "nowa_wartosc = 'OTHER'\n",
    "dane[kolumna] = dane[kolumna].replace([stara_wartosc], nowa_wartosc)"
   ]
  },
  {
   "cell_type": "code",
   "execution_count": 98,
   "metadata": {},
   "outputs": [],
   "source": [
    "kolumna = 'Exterior.2nd'\n",
    "stara_wartosc = ['ImStucc']\n",
    "nowa_wartosc = 'OTHER'\n",
    "dane[kolumna] = dane[kolumna].replace([stara_wartosc], nowa_wartosc)"
   ]
  },
  {
   "cell_type": "code",
   "execution_count": 99,
   "metadata": {},
   "outputs": [],
   "source": [
    "kolumna = 'Exterior.2nd'\n",
    "stara_wartosc = ['Stone']\n",
    "nowa_wartosc = 'OTHER'\n",
    "dane[kolumna] = dane[kolumna].replace([stara_wartosc], nowa_wartosc)"
   ]
  },
  {
   "cell_type": "code",
   "execution_count": 100,
   "metadata": {},
   "outputs": [],
   "source": [
    "kolumna = 'Exterior.2nd'\n",
    "stara_wartosc = ['AsphShn']\n",
    "nowa_wartosc = 'OTHER'\n",
    "dane[kolumna] = dane[kolumna].replace([stara_wartosc], nowa_wartosc)"
   ]
  },
  {
   "cell_type": "code",
   "execution_count": 101,
   "metadata": {},
   "outputs": [],
   "source": [
    "kolumna = 'Exterior.2nd'\n",
    "stara_wartosc = ['CBlock']\n",
    "nowa_wartosc = 'OTHER'\n",
    "dane[kolumna] = dane[kolumna].replace([stara_wartosc], nowa_wartosc)"
   ]
  },
  {
   "cell_type": "code",
   "execution_count": 102,
   "metadata": {},
   "outputs": [],
   "source": [
    "kolumna = 'Exterior.2nd'\n",
    "stara_wartosc = ['Other']\n",
    "nowa_wartosc = 'OTHER'\n",
    "dane[kolumna] = dane[kolumna].replace([stara_wartosc], nowa_wartosc)"
   ]
  },
  {
   "cell_type": "code",
   "execution_count": 103,
   "metadata": {},
   "outputs": [
    {
     "data": {
      "text/plain": [
       "VinylSd    686\n",
       "MetalSd    308\n",
       "HdBoard    297\n",
       "Wd Sdng    287\n",
       "Plywood    157\n",
       "CemntBd     86\n",
       "BrkFace     67\n",
       "WdShing     40\n",
       "AsbShng     31\n",
       "Stucco      31\n",
       "BrkComm      5\n",
       "AsphShn      2\n",
       "CBlock       2\n",
       "Stone        1\n",
       "Name: Exterior.1st, dtype: int64"
      ]
     },
     "execution_count": 103,
     "metadata": {},
     "output_type": "execute_result"
    }
   ],
   "source": [
    "kolumna = 'Exterior.1st'\n",
    "dane[kolumna].value_counts()"
   ]
  },
  {
   "cell_type": "code",
   "execution_count": 104,
   "metadata": {},
   "outputs": [],
   "source": [
    "kolumna = 'Exterior.1st'\n",
    "stara_wartosc = ['Stucco']\n",
    "nowa_wartosc = 'OTHER'\n",
    "dane[kolumna] = dane[kolumna].replace([stara_wartosc], nowa_wartosc)"
   ]
  },
  {
   "cell_type": "code",
   "execution_count": 105,
   "metadata": {},
   "outputs": [],
   "source": [
    "kolumna = 'Exterior.1st'\n",
    "stara_wartosc = ['AsbShng']\n",
    "nowa_wartosc = 'OTHER'\n",
    "dane[kolumna] = dane[kolumna].replace([stara_wartosc], nowa_wartosc)"
   ]
  },
  {
   "cell_type": "code",
   "execution_count": 106,
   "metadata": {},
   "outputs": [],
   "source": [
    "kolumna = 'Exterior.1st'\n",
    "stara_wartosc = ['BrkComm']\n",
    "nowa_wartosc = 'OTHER'\n",
    "dane[kolumna] = dane[kolumna].replace([stara_wartosc], nowa_wartosc)"
   ]
  },
  {
   "cell_type": "code",
   "execution_count": 107,
   "metadata": {},
   "outputs": [],
   "source": [
    "kolumna = 'Exterior.1st'\n",
    "stara_wartosc = ['CBlock']\n",
    "nowa_wartosc = 'OTHER'\n",
    "dane[kolumna] = dane[kolumna].replace([stara_wartosc], nowa_wartosc)"
   ]
  },
  {
   "cell_type": "code",
   "execution_count": 108,
   "metadata": {},
   "outputs": [],
   "source": [
    "kolumna = 'Exterior.1st'\n",
    "stara_wartosc = ['AsphShn']\n",
    "nowa_wartosc = 'OTHER'\n",
    "dane[kolumna] = dane[kolumna].replace([stara_wartosc], nowa_wartosc)"
   ]
  },
  {
   "cell_type": "code",
   "execution_count": 109,
   "metadata": {},
   "outputs": [],
   "source": [
    "kolumna = 'Exterior.1st'\n",
    "stara_wartosc = ['Stone']\n",
    "nowa_wartosc = 'OTHER'\n",
    "dane[kolumna] = dane[kolumna].replace([stara_wartosc], nowa_wartosc)"
   ]
  },
  {
   "cell_type": "code",
   "execution_count": 110,
   "metadata": {},
   "outputs": [
    {
     "data": {
      "text/plain": [
       "CompShg    1967\n",
       "Tar&Grv      18\n",
       "WdShake       7\n",
       "WdShngl       5\n",
       "ClyTile       1\n",
       "Membran       1\n",
       "Metal         1\n",
       "Name: Roof.Matl, dtype: int64"
      ]
     },
     "execution_count": 110,
     "metadata": {},
     "output_type": "execute_result"
    }
   ],
   "source": [
    "kolumna = 'Roof.Matl'\n",
    "dane[kolumna].value_counts()"
   ]
  },
  {
   "cell_type": "code",
   "execution_count": 111,
   "metadata": {},
   "outputs": [],
   "source": [
    "kolumna = 'Roof.Matl'\n",
    "stara_wartosc = ['Tar&Grv']\n",
    "nowa_wartosc = 'OTHER'\n",
    "dane[kolumna] = dane[kolumna].replace([stara_wartosc], nowa_wartosc)"
   ]
  },
  {
   "cell_type": "code",
   "execution_count": 112,
   "metadata": {},
   "outputs": [],
   "source": [
    "kolumna = 'Roof.Matl'\n",
    "stara_wartosc = ['WdShake']\n",
    "nowa_wartosc = 'OTHER'\n",
    "dane[kolumna] = dane[kolumna].replace([stara_wartosc], nowa_wartosc)"
   ]
  },
  {
   "cell_type": "code",
   "execution_count": 113,
   "metadata": {},
   "outputs": [],
   "source": [
    "kolumna = 'Roof.Matl'\n",
    "stara_wartosc = ['WdShngl']\n",
    "nowa_wartosc = 'OTHER'\n",
    "dane[kolumna] = dane[kolumna].replace([stara_wartosc], nowa_wartosc)"
   ]
  },
  {
   "cell_type": "code",
   "execution_count": 114,
   "metadata": {},
   "outputs": [],
   "source": [
    "kolumna = 'Roof.Matl'\n",
    "stara_wartosc = ['Membran']\n",
    "nowa_wartosc = 'OTHER'\n",
    "dane[kolumna] = dane[kolumna].replace([stara_wartosc], nowa_wartosc)"
   ]
  },
  {
   "cell_type": "code",
   "execution_count": 115,
   "metadata": {},
   "outputs": [],
   "source": [
    "kolumna = 'Roof.Matl'\n",
    "stara_wartosc = ['Metal']\n",
    "nowa_wartosc = 'OTHER'\n",
    "dane[kolumna] = dane[kolumna].replace([stara_wartosc], nowa_wartosc)"
   ]
  },
  {
   "cell_type": "code",
   "execution_count": 116,
   "metadata": {},
   "outputs": [],
   "source": [
    "kolumna = 'Roof.Matl'\n",
    "stara_wartosc = ['ClyTile']\n",
    "nowa_wartosc = 'OTHER'\n",
    "dane[kolumna] = dane[kolumna].replace([stara_wartosc], nowa_wartosc)"
   ]
  },
  {
   "cell_type": "code",
   "execution_count": 117,
   "metadata": {},
   "outputs": [
    {
     "data": {
      "text/plain": [
       "Gable      1580\n",
       "Hip         381\n",
       "Flat         17\n",
       "Gambrel      15\n",
       "Mansard       5\n",
       "Shed          2\n",
       "Name: Roof.Style, dtype: int64"
      ]
     },
     "execution_count": 117,
     "metadata": {},
     "output_type": "execute_result"
    }
   ],
   "source": [
    "kolumna = 'Roof.Style'\n",
    "dane[kolumna].value_counts()"
   ]
  },
  {
   "cell_type": "code",
   "execution_count": 118,
   "metadata": {},
   "outputs": [],
   "source": [
    "kolumna = 'Roof.Style'\n",
    "stara_wartosc = ['Flat']\n",
    "nowa_wartosc = 'OTHER'\n",
    "dane[kolumna] = dane[kolumna].replace([stara_wartosc], nowa_wartosc)"
   ]
  },
  {
   "cell_type": "code",
   "execution_count": 119,
   "metadata": {},
   "outputs": [],
   "source": [
    "kolumna = 'Roof.Style'\n",
    "stara_wartosc = ['Gambrel']\n",
    "nowa_wartosc = 'OTHER'\n",
    "dane[kolumna] = dane[kolumna].replace([stara_wartosc], nowa_wartosc)"
   ]
  },
  {
   "cell_type": "code",
   "execution_count": 120,
   "metadata": {},
   "outputs": [],
   "source": [
    "kolumna = 'Roof.Style'\n",
    "stara_wartosc = ['Mansard']\n",
    "nowa_wartosc = 'OTHER'\n",
    "dane[kolumna] = dane[kolumna].replace([stara_wartosc], nowa_wartosc)"
   ]
  },
  {
   "cell_type": "code",
   "execution_count": 121,
   "metadata": {},
   "outputs": [],
   "source": [
    "kolumna = 'Roof.Style'\n",
    "stara_wartosc = ['Shed']\n",
    "nowa_wartosc = 'OTHER'\n",
    "dane[kolumna] = dane[kolumna].replace([stara_wartosc], nowa_wartosc)"
   ]
  },
  {
   "cell_type": "code",
   "execution_count": 122,
   "metadata": {},
   "outputs": [
    {
     "data": {
      "text/plain": [
       "1Story    1010\n",
       "2Story     595\n",
       "1.5Fin     216\n",
       "SLvl        84\n",
       "SFoyer      64\n",
       "1.5Unf      14\n",
       "2.5Unf      14\n",
       "2.5Fin       3\n",
       "Name: House.Style, dtype: int64"
      ]
     },
     "execution_count": 122,
     "metadata": {},
     "output_type": "execute_result"
    }
   ],
   "source": [
    "kolumna = 'House.Style'\n",
    "dane[kolumna].value_counts()"
   ]
  },
  {
   "cell_type": "code",
   "execution_count": 123,
   "metadata": {},
   "outputs": [],
   "source": [
    "kolumna = 'House.Style'\n",
    "stara_wartosc = ['1.5Unf']\n",
    "nowa_wartosc = 'OTHER'\n",
    "dane[kolumna] = dane[kolumna].replace([stara_wartosc], nowa_wartosc)"
   ]
  },
  {
   "cell_type": "code",
   "execution_count": 124,
   "metadata": {},
   "outputs": [],
   "source": [
    "kolumna = 'House.Style'\n",
    "stara_wartosc = ['2.5Unf']\n",
    "nowa_wartosc = 'OTHER'\n",
    "dane[kolumna] = dane[kolumna].replace([stara_wartosc], nowa_wartosc)"
   ]
  },
  {
   "cell_type": "code",
   "execution_count": 125,
   "metadata": {},
   "outputs": [],
   "source": [
    "kolumna = 'House.Style'\n",
    "stara_wartosc = ['2.5Fin']\n",
    "nowa_wartosc = 'OTHER'\n",
    "dane[kolumna] = dane[kolumna].replace([stara_wartosc], nowa_wartosc)"
   ]
  },
  {
   "cell_type": "code",
   "execution_count": 126,
   "metadata": {},
   "outputs": [
    {
     "data": {
      "text/plain": [
       "Norm      1981\n",
       "Feedr        9\n",
       "PosN         3\n",
       "Artery       3\n",
       "RRNn         2\n",
       "PosA         1\n",
       "RRAn         1\n",
       "Name: Condition.2, dtype: int64"
      ]
     },
     "execution_count": 126,
     "metadata": {},
     "output_type": "execute_result"
    }
   ],
   "source": [
    "kolumna = 'Condition.2'\n",
    "dane[kolumna].value_counts()"
   ]
  },
  {
   "cell_type": "code",
   "execution_count": 127,
   "metadata": {},
   "outputs": [],
   "source": [
    "kolumna = 'Condition.2'\n",
    "stara_wartosc = ['Feedr']\n",
    "nowa_wartosc = 'OTHER'\n",
    "dane[kolumna] = dane[kolumna].replace([stara_wartosc], nowa_wartosc)"
   ]
  },
  {
   "cell_type": "code",
   "execution_count": 128,
   "metadata": {},
   "outputs": [],
   "source": [
    "kolumna = 'Condition.2'\n",
    "stara_wartosc = ['Artery']\n",
    "nowa_wartosc = 'OTHER'\n",
    "dane[kolumna] = dane[kolumna].replace([stara_wartosc], nowa_wartosc)"
   ]
  },
  {
   "cell_type": "code",
   "execution_count": 129,
   "metadata": {},
   "outputs": [],
   "source": [
    "kolumna = 'Condition.2'\n",
    "stara_wartosc = ['PosN']\n",
    "nowa_wartosc = 'OTHER'\n",
    "dane[kolumna] = dane[kolumna].replace([stara_wartosc], nowa_wartosc)"
   ]
  },
  {
   "cell_type": "code",
   "execution_count": 130,
   "metadata": {},
   "outputs": [],
   "source": [
    "kolumna = 'Condition.2'\n",
    "stara_wartosc = ['PosA']\n",
    "nowa_wartosc = 'OTHER'\n",
    "dane[kolumna] = dane[kolumna].replace([stara_wartosc], nowa_wartosc)"
   ]
  },
  {
   "cell_type": "code",
   "execution_count": 131,
   "metadata": {},
   "outputs": [],
   "source": [
    "kolumna = 'Condition.2'\n",
    "stara_wartosc = ['RRNn']\n",
    "nowa_wartosc = 'OTHER'\n",
    "dane[kolumna] = dane[kolumna].replace([stara_wartosc], nowa_wartosc)"
   ]
  },
  {
   "cell_type": "code",
   "execution_count": 132,
   "metadata": {},
   "outputs": [],
   "source": [
    "kolumna = 'Condition.2'\n",
    "stara_wartosc = ['RRAn']\n",
    "nowa_wartosc = 'OTHER'\n",
    "dane[kolumna] = dane[kolumna].replace([stara_wartosc], nowa_wartosc)"
   ]
  },
  {
   "cell_type": "code",
   "execution_count": 133,
   "metadata": {},
   "outputs": [
    {
     "data": {
      "text/plain": [
       "Norm      1721\n",
       "Feedr      113\n",
       "Artery      61\n",
       "RRAn        33\n",
       "PosN        25\n",
       "RRAe        20\n",
       "PosA        14\n",
       "RRNn         8\n",
       "RRNe         5\n",
       "Name: Condition.1, dtype: int64"
      ]
     },
     "execution_count": 133,
     "metadata": {},
     "output_type": "execute_result"
    }
   ],
   "source": [
    "kolumna = 'Condition.1'\n",
    "dane[kolumna].value_counts()"
   ]
  },
  {
   "cell_type": "code",
   "execution_count": 134,
   "metadata": {},
   "outputs": [],
   "source": [
    "kolumna = 'Condition.1'\n",
    "stara_wartosc = ['RRAn']\n",
    "nowa_wartosc = 'RR_Pos'\n",
    "dane[kolumna] = dane[kolumna].replace([stara_wartosc], nowa_wartosc)"
   ]
  },
  {
   "cell_type": "code",
   "execution_count": 135,
   "metadata": {},
   "outputs": [],
   "source": [
    "kolumna = 'Condition.1'\n",
    "stara_wartosc = ['PosN']\n",
    "nowa_wartosc = 'RR_Pos'\n",
    "dane[kolumna] = dane[kolumna].replace([stara_wartosc], nowa_wartosc)"
   ]
  },
  {
   "cell_type": "code",
   "execution_count": 136,
   "metadata": {},
   "outputs": [],
   "source": [
    "kolumna = 'Condition.1'\n",
    "stara_wartosc = ['RRAe']\n",
    "nowa_wartosc = 'RR_Pos'\n",
    "dane[kolumna] = dane[kolumna].replace([stara_wartosc], nowa_wartosc)"
   ]
  },
  {
   "cell_type": "code",
   "execution_count": 137,
   "metadata": {},
   "outputs": [],
   "source": [
    "kolumna = 'Condition.1'\n",
    "stara_wartosc = ['PosA']\n",
    "nowa_wartosc = 'RR_Pos'\n",
    "dane[kolumna] = dane[kolumna].replace([stara_wartosc], nowa_wartosc)"
   ]
  },
  {
   "cell_type": "code",
   "execution_count": 138,
   "metadata": {},
   "outputs": [],
   "source": [
    "kolumna = 'Condition.1'\n",
    "stara_wartosc = ['RRNn']\n",
    "nowa_wartosc = 'RR_Pos'\n",
    "dane[kolumna] = dane[kolumna].replace([stara_wartosc], nowa_wartosc)"
   ]
  },
  {
   "cell_type": "code",
   "execution_count": 139,
   "metadata": {},
   "outputs": [],
   "source": [
    "kolumna = 'Condition.1'\n",
    "stara_wartosc = ['RRNe']\n",
    "nowa_wartosc = 'RR_Pos'\n",
    "dane[kolumna] = dane[kolumna].replace([stara_wartosc], nowa_wartosc)"
   ]
  },
  {
   "cell_type": "code",
   "execution_count": 140,
   "metadata": {},
   "outputs": [
    {
     "data": {
      "text/plain": [
       "Nonemes    303\n",
       "CollgCr    192\n",
       "OldTown    166\n",
       "Edwards    134\n",
       "Somerst    134\n",
       "Sawyer     107\n",
       "NridgHt    104\n",
       "Gilbert     99\n",
       "NWAmes      92\n",
       "SawyerW     80\n",
       "BrkSide     78\n",
       "Crawfor     73\n",
       "Mitchel     72\n",
       "IDOTRR      62\n",
       "NoRidge     56\n",
       "Timber      48\n",
       "StoneBr     38\n",
       "ClearCr     33\n",
       "SWISU       31\n",
       "MeadowV     28\n",
       "Veenker     15\n",
       "Blmngtn     14\n",
       "NPkVill     14\n",
       "BrDale      13\n",
       "Blueste      8\n",
       "Greens       5\n",
       "GrnHill      1\n",
       "Name: Neighborhood, dtype: int64"
      ]
     },
     "execution_count": 140,
     "metadata": {},
     "output_type": "execute_result"
    }
   ],
   "source": [
    "kolumna = 'Neighborhood'\n",
    "dane[kolumna].value_counts()"
   ]
  },
  {
   "cell_type": "code",
   "execution_count": 141,
   "metadata": {},
   "outputs": [],
   "source": [
    "kolumna = 'Neighborhood'\n",
    "stara_wartosc = ['StoneBr']\n",
    "nowa_wartosc = 'Other'\n",
    "dane[kolumna] = dane[kolumna].replace([stara_wartosc], nowa_wartosc)"
   ]
  },
  {
   "cell_type": "code",
   "execution_count": 142,
   "metadata": {},
   "outputs": [],
   "source": [
    "kolumna = 'Neighborhood'\n",
    "stara_wartosc = ['ClearCr']\n",
    "nowa_wartosc = 'Other'\n",
    "dane[kolumna] = dane[kolumna].replace([stara_wartosc], nowa_wartosc)"
   ]
  },
  {
   "cell_type": "code",
   "execution_count": 143,
   "metadata": {},
   "outputs": [],
   "source": [
    "kolumna = 'Neighborhood'\n",
    "stara_wartosc = ['SWISU']\n",
    "nowa_wartosc = 'Other'\n",
    "dane[kolumna] = dane[kolumna].replace([stara_wartosc], nowa_wartosc)"
   ]
  },
  {
   "cell_type": "code",
   "execution_count": 144,
   "metadata": {},
   "outputs": [],
   "source": [
    "kolumna = 'Neighborhood'\n",
    "stara_wartosc = ['MeadowV']\n",
    "nowa_wartosc = 'Other'\n",
    "dane[kolumna] = dane[kolumna].replace([stara_wartosc], nowa_wartosc)"
   ]
  },
  {
   "cell_type": "code",
   "execution_count": 145,
   "metadata": {},
   "outputs": [],
   "source": [
    "kolumna = 'Neighborhood'\n",
    "stara_wartosc = ['Veenker']\n",
    "nowa_wartosc = 'Other'\n",
    "dane[kolumna] = dane[kolumna].replace([stara_wartosc], nowa_wartosc)"
   ]
  },
  {
   "cell_type": "code",
   "execution_count": 146,
   "metadata": {},
   "outputs": [],
   "source": [
    "kolumna = 'Neighborhood'\n",
    "stara_wartosc = ['NPkVill']\n",
    "nowa_wartosc = 'Other'\n",
    "dane[kolumna] = dane[kolumna].replace([stara_wartosc], nowa_wartosc)"
   ]
  },
  {
   "cell_type": "code",
   "execution_count": 147,
   "metadata": {},
   "outputs": [],
   "source": [
    "kolumna = 'Neighborhood'\n",
    "stara_wartosc = ['Blmngtn']\n",
    "nowa_wartosc = 'Other'\n",
    "dane[kolumna] = dane[kolumna].replace([stara_wartosc], nowa_wartosc)"
   ]
  },
  {
   "cell_type": "code",
   "execution_count": 148,
   "metadata": {},
   "outputs": [],
   "source": [
    "kolumna = 'Neighborhood'\n",
    "stara_wartosc = ['BrDale']\n",
    "nowa_wartosc = 'Other'\n",
    "dane[kolumna] = dane[kolumna].replace([stara_wartosc], nowa_wartosc)"
   ]
  },
  {
   "cell_type": "code",
   "execution_count": 149,
   "metadata": {},
   "outputs": [],
   "source": [
    "kolumna = 'Neighborhood'\n",
    "stara_wartosc = ['Blueste']\n",
    "nowa_wartosc = 'Other'\n",
    "dane[kolumna] = dane[kolumna].replace([stara_wartosc], nowa_wartosc)"
   ]
  },
  {
   "cell_type": "code",
   "execution_count": 150,
   "metadata": {},
   "outputs": [],
   "source": [
    "kolumna = 'Neighborhood'\n",
    "stara_wartosc = ['Greens']\n",
    "nowa_wartosc = 'Other'\n",
    "dane[kolumna] = dane[kolumna].replace([stara_wartosc], nowa_wartosc)"
   ]
  },
  {
   "cell_type": "code",
   "execution_count": 151,
   "metadata": {},
   "outputs": [],
   "source": [
    "kolumna = 'Neighborhood'\n",
    "stara_wartosc = ['GrnHill']\n",
    "nowa_wartosc = 'Other'\n",
    "dane[kolumna] = dane[kolumna].replace([stara_wartosc], nowa_wartosc)"
   ]
  },
  {
   "cell_type": "code",
   "execution_count": 152,
   "metadata": {},
   "outputs": [
    {
     "data": {
      "text/plain": [
       "Gtl    1900\n",
       "Mod      86\n",
       "Sev      14\n",
       "Name: Land.Slope, dtype: int64"
      ]
     },
     "execution_count": 152,
     "metadata": {},
     "output_type": "execute_result"
    }
   ],
   "source": [
    "kolumna = 'Land.Slope'\n",
    "dane[kolumna].value_counts()"
   ]
  },
  {
   "cell_type": "code",
   "execution_count": 153,
   "metadata": {},
   "outputs": [],
   "source": [
    "kolumna = 'Land.Slope'\n",
    "stara_wartosc = ['Sev']\n",
    "nowa_wartosc = 'Prst'\n",
    "dane[kolumna] = dane[kolumna].replace([stara_wartosc], nowa_wartosc)"
   ]
  },
  {
   "cell_type": "code",
   "execution_count": 154,
   "metadata": {},
   "outputs": [],
   "source": [
    "kolumna = 'Land.Slope'\n",
    "stara_wartosc = ['Mod']\n",
    "nowa_wartosc = 'Prst'\n",
    "dane[kolumna] = dane[kolumna].replace([stara_wartosc], nowa_wartosc)"
   ]
  },
  {
   "cell_type": "code",
   "execution_count": 155,
   "metadata": {},
   "outputs": [
    {
     "data": {
      "text/plain": [
       "Inside     1452\n",
       "Corner      344\n",
       "CulDSac     129\n",
       "FR2          61\n",
       "FR3          14\n",
       "Name: Lot.Config, dtype: int64"
      ]
     },
     "execution_count": 155,
     "metadata": {},
     "output_type": "execute_result"
    }
   ],
   "source": [
    "kolumna = 'Lot.Config'\n",
    "dane[kolumna].value_counts()"
   ]
  },
  {
   "cell_type": "code",
   "execution_count": 156,
   "metadata": {},
   "outputs": [],
   "source": [
    "kolumna = 'Lot.Config'\n",
    "stara_wartosc = ['FR3']\n",
    "nowa_wartosc = 'FR'\n",
    "dane[kolumna] = dane[kolumna].replace([stara_wartosc], nowa_wartosc)"
   ]
  },
  {
   "cell_type": "code",
   "execution_count": 157,
   "metadata": {},
   "outputs": [],
   "source": [
    "kolumna = 'Lot.Config'\n",
    "stara_wartosc = ['FR2']\n",
    "nowa_wartosc = 'FR'\n",
    "dane[kolumna] = dane[kolumna].replace([stara_wartosc], nowa_wartosc)"
   ]
  },
  {
   "cell_type": "code",
   "execution_count": 158,
   "metadata": {},
   "outputs": [
    {
     "data": {
      "text/plain": [
       "AllPub    2000\n",
       "Name: Utilities, dtype: int64"
      ]
     },
     "execution_count": 158,
     "metadata": {},
     "output_type": "execute_result"
    }
   ],
   "source": [
    "kolumna = 'Utilities'\n",
    "dane[kolumna].value_counts()"
   ]
  },
  {
   "cell_type": "code",
   "execution_count": 159,
   "metadata": {},
   "outputs": [],
   "source": [
    "dane.drop(columns='Utilities', axis=1, inplace=True)   #wszystkie te same wartości"
   ]
  },
  {
   "cell_type": "code",
   "execution_count": 160,
   "metadata": {},
   "outputs": [
    {
     "data": {
      "text/plain": [
       "Reg    1275\n",
       "IR1     657\n",
       "IR2      55\n",
       "IR3      13\n",
       "Name: Lot.Shape, dtype: int64"
      ]
     },
     "execution_count": 160,
     "metadata": {},
     "output_type": "execute_result"
    }
   ],
   "source": [
    "kolumna = 'Lot.Shape'\n",
    "dane[kolumna].value_counts()"
   ]
  },
  {
   "cell_type": "code",
   "execution_count": 161,
   "metadata": {},
   "outputs": [],
   "source": [
    "kolumna = 'Lot.Shape'\n",
    "stara_wartosc = ['IR3']\n",
    "nowa_wartosc = 'HIGH'\n",
    "dane[kolumna] = dane[kolumna].replace([stara_wartosc], nowa_wartosc)"
   ]
  },
  {
   "cell_type": "code",
   "execution_count": 162,
   "metadata": {},
   "outputs": [],
   "source": [
    "kolumna = 'Lot.Shape'\n",
    "stara_wartosc = ['IR2']\n",
    "nowa_wartosc = 'HIGH'\n",
    "dane[kolumna] = dane[kolumna].replace([stara_wartosc], nowa_wartosc)"
   ]
  },
  {
   "cell_type": "code",
   "execution_count": 163,
   "metadata": {},
   "outputs": [
    {
     "data": {
      "text/plain": [
       "Pave    1992\n",
       "Grvl       8\n",
       "Name: Street, dtype: int64"
      ]
     },
     "execution_count": 163,
     "metadata": {},
     "output_type": "execute_result"
    }
   ],
   "source": [
    "kolumna = 'Street'\n",
    "dane[kolumna].value_counts()"
   ]
  },
  {
   "cell_type": "code",
   "execution_count": 164,
   "metadata": {},
   "outputs": [],
   "source": [
    "dane.drop(columns='Street', axis=1, inplace=True) #duże braki danych"
   ]
  },
  {
   "cell_type": "code",
   "execution_count": 165,
   "metadata": {},
   "outputs": [
    {
     "data": {
      "text/plain": [
       "RL    1549\n",
       "RM     317\n",
       "FV     103\n",
       "RH      16\n",
       "C       13\n",
       "I        1\n",
       "A        1\n",
       "Name: MS.Zoning, dtype: int64"
      ]
     },
     "execution_count": 165,
     "metadata": {},
     "output_type": "execute_result"
    }
   ],
   "source": [
    "kolumna = 'MS.Zoning'\n",
    "dane[kolumna].value_counts()"
   ]
  },
  {
   "cell_type": "code",
   "execution_count": 166,
   "metadata": {},
   "outputs": [],
   "source": [
    "kolumna = 'MS.Zoning'\n",
    "stara_wartosc = ['A']\n",
    "nowa_wartosc = 'OTHER'\n",
    "dane[kolumna] = dane[kolumna].replace([stara_wartosc], nowa_wartosc)"
   ]
  },
  {
   "cell_type": "code",
   "execution_count": 167,
   "metadata": {},
   "outputs": [],
   "source": [
    "kolumna = 'MS.Zoning'\n",
    "stara_wartosc = ['I']\n",
    "nowa_wartosc = 'OTHER'\n",
    "dane[kolumna] = dane[kolumna].replace([stara_wartosc], nowa_wartosc)"
   ]
  },
  {
   "cell_type": "code",
   "execution_count": 168,
   "metadata": {},
   "outputs": [],
   "source": [
    "kolumna = 'MS.Zoning'\n",
    "stara_wartosc = ['C']\n",
    "nowa_wartosc = 'OTHER'\n",
    "dane[kolumna] = dane[kolumna].replace([stara_wartosc], nowa_wartosc)"
   ]
  },
  {
   "cell_type": "code",
   "execution_count": 169,
   "metadata": {},
   "outputs": [],
   "source": [
    "kolumna = 'MS.Zoning'\n",
    "stara_wartosc = ['RH']\n",
    "nowa_wartosc = 'OTHER'\n",
    "dane[kolumna] = dane[kolumna].replace([stara_wartosc], nowa_wartosc)"
   ]
  },
  {
   "cell_type": "code",
   "execution_count": 178,
   "metadata": {},
   "outputs": [],
   "source": [
    "kolumna = 'SalePrice'\n",
    "dane[kolumna] = dane[kolumna]/10000\n",
    "dane [kolumna] = dane[kolumna].round(0)\n",
    "dane[kolumna] = dane[kolumna]*10000"
   ]
  },
  {
   "cell_type": "markdown",
   "metadata": {},
   "source": [
    "# Modelowanie"
   ]
  },
  {
   "cell_type": "code",
   "execution_count": 193,
   "metadata": {},
   "outputs": [],
   "source": [
    "from sklearn.model_selection import train_test_split\n",
    "# modele\n",
    "from sklearn.dummy import DummyClassifier\n",
    "from sklearn.linear_model import LogisticRegression\n",
    "from sklearn.tree import ExtraTreeClassifier\n",
    "from sklearn.ensemble import RandomForestClassifier\n",
    "from sklearn.svm import SVC\n",
    "from sklearn.neighbors import KNeighborsClassifier\n",
    "# preprocessing\n",
    "## zmienne numeryczne\n",
    "from sklearn.preprocessing import StandardScaler, MinMaxScaler, Normalizer\n",
    "## zmienne kategoryczne\n",
    "from sklearn.preprocessing import OrdinalEncoder, OneHotEncoder\n",
    "# Pipeline\n",
    "from sklearn.pipeline import Pipeline\n",
    "from sklearn.compose import ColumnTransformer\n",
    "# dodatkowe modele spoza sklearn\n",
    "from xgboost import XGBClassifier\n",
    "import time"
   ]
  },
  {
   "cell_type": "code",
   "execution_count": 180,
   "metadata": {
    "scrolled": true
   },
   "outputs": [],
   "source": [
    "X_train, X_test, y_train, y_test = train_test_split(dane.drop('SalePrice', axis=1),\n",
    "dane['SalePrice'],\n",
    "test_size=0.33,\n",
    "random_state=42)"
   ]
  },
  {
   "cell_type": "code",
   "execution_count": 181,
   "metadata": {},
   "outputs": [],
   "source": [
    "# lista kolumn numerycznych\n",
    "cols_numerical = X_train.select_dtypes(include=['int64', 'float64']).columns\n",
    "\n",
    "# transformer dla kolumn numerycznych\n",
    "transformer_numerical = Pipeline(steps = [\n",
    "('num_trans', StandardScaler())\n",
    "])"
   ]
  },
  {
   "cell_type": "code",
   "execution_count": 182,
   "metadata": {},
   "outputs": [],
   "source": [
    "# lista kolmn kategorycznych\n",
    "cols_categorical = X_train.select_dtypes(include=['object']).columns\n",
    "# transformer dla kolumn numerycznych\n",
    "transformer_categorical = Pipeline(steps = [\n",
    "('cat_trans', OneHotEncoder())\n",
    "])"
   ]
  },
  {
   "cell_type": "code",
   "execution_count": 183,
   "metadata": {},
   "outputs": [],
   "source": [
    "# preprocesor danych\n",
    "preprocessor = ColumnTransformer(transformers = [\n",
    "('numerical', transformer_numerical, cols_numerical),\n",
    "('categorical', transformer_categorical, cols_categorical)\n",
    "])"
   ]
  },
  {
   "cell_type": "code",
   "execution_count": 184,
   "metadata": {},
   "outputs": [],
   "source": [
    "pipe = Pipeline(steps = [\n",
    "('preprocessor', preprocessor),\n",
    "('classifier', RandomForestClassifier())\n",
    "])"
   ]
  },
  {
   "cell_type": "code",
   "execution_count": 185,
   "metadata": {},
   "outputs": [
    {
     "data": {
      "text/plain": [
       "Pipeline(steps=[('preprocessor',\n",
       "                 ColumnTransformer(transformers=[('numerical',\n",
       "                                                  Pipeline(steps=[('num_trans',\n",
       "                                                                   StandardScaler())]),\n",
       "                                                  Index(['MS.SubClass', 'Lot.Area', 'Overall.Qual', 'Overall.Cond', 'Year.Built', 'Year.Remod.Add', 'X1st.Flr.SF', 'X2nd.Flr.SF', 'Low.Qual.Fin.SF', 'Gr.Liv.Area', 'Full.Bath', 'Half.Bath', 'Bedroom.AbvGr', 'Kitchen.AbvGr', 'TotRms.AbvGrd',...\n",
       "                                                  Index(['MS.Zoning', 'Alley', 'Lot.Shape', 'Land.Contour', 'Lot.Config', 'Land.Slope', 'Neighborhood', 'Condition.1', 'Condition.2', 'Bldg.Type', 'House.Style', 'Roof.Style', 'Roof.Matl', 'Exterior.1st', 'Exterior.2nd', 'Mas.Vnr.Type', 'Exter.Qual', 'Exter.Cond', 'Foundation', 'Bsmt.Qual', 'Bsmt.Cond', 'Bsmt.Exposure', 'BsmtFin.Type.1', 'BsmtFin.Type.2', 'Heating.QC', 'Central.Air', 'Electrical', 'Kitchen.Qual', 'Functional', 'Fireplace.Qu', 'Garage.Type', 'Garage.Finish', 'Garage.Qual', 'Garage.Cond', 'Paved.Drive', 'Fence', 'Misc.Feature', 'Sale.Type', 'Sale.Condition'], dtype='object'))])),\n",
       "                ('classifier', RandomForestClassifier())])"
      ]
     },
     "execution_count": 185,
     "metadata": {},
     "output_type": "execute_result"
    }
   ],
   "source": [
    "pipe.fit(X_train, y_train)"
   ]
  },
  {
   "cell_type": "code",
   "execution_count": 186,
   "metadata": {},
   "outputs": [
    {
     "data": {
      "text/plain": [
       "0.21666666666666667"
      ]
     },
     "execution_count": 186,
     "metadata": {},
     "output_type": "execute_result"
    }
   ],
   "source": [
    "pipe.score(X_test, y_test)"
   ]
  },
  {
   "cell_type": "code",
   "execution_count": null,
   "metadata": {},
   "outputs": [],
   "source": [
    "#porównanie modeli"
   ]
  },
  {
   "cell_type": "code",
   "execution_count": null,
   "metadata": {},
   "outputs": [],
   "source": [
    "#Algorytmy regresji\n",
    "\n",
    " \n",
    "\n",
    "import sklearn.linear_model as lm\n",
    "\n",
    "import numpy as np\n",
    "\n",
    " \n",
    "\n",
    "# miejsce na zebranie wyników\n",
    "\n",
    "algorytmy = pd.DataFrame()\n",
    "\n",
    " \n",
    "\n",
    "# transformatory dla kolumn numerycznych\n",
    "\n",
    "trans_num = [StandardScaler(), MinMaxScaler(), Normalizer()]\n",
    "\n",
    " \n",
    "\n",
    "# transformatory dla kolumn kategorycznych\n",
    "\n",
    "trans_kat = [OrdinalEncoder(), OneHotEncoder()]\n",
    "\n",
    " \n",
    "\n",
    "alg_regres = {}\n",
    "\n",
    "alg_regres['LinearRegression'] = lm.LinearRegression()\n",
    "\n",
    "alg_regres['Ridge'] = lm.Ridge(alpha = .5)\n",
    "\n",
    "alg_regres['Lasso'] = lm.Lasso(alpha = 5.1)\n",
    "\n",
    "alg_regres['ElasticNet'] = lm.ElasticNet(alpha = .5, l1_ratio=0.5)\n",
    "\n",
    " \n",
    "\n",
    "preprocessor = ColumnTransformer(transformers = [\n",
    "\n",
    "('numerical', transformer_numerical, cols_numerical),\n",
    "\n",
    "('categorical', transformer_categorical, cols_categorical)\n",
    "\n",
    "])\n",
    "\n",
    " \n",
    "\n",
    "# pipeline\n",
    "\n",
    "pipe = Pipeline(steps = [\n",
    "\n",
    "    ('preprocessor', preprocessor),\n",
    "\n",
    "    ('alg', None)\n",
    "\n",
    "])\n",
    "\n",
    " \n",
    "\n",
    "# dla każdego modelu zmieniam kolejne transformatory kolumn\n",
    "\n",
    "for alg in alg_regres:\n",
    "\n",
    "    for num_tr in trans_num:\n",
    "\n",
    "        for kat_tr in trans_kat:\n",
    "\n",
    "            pipe_params = {\n",
    "\n",
    "                'preprocessor__numerical__num_trans': num_tr,\n",
    "\n",
    "                'preprocessor__categorical__cat_trans': kat_tr,\n",
    "\n",
    "                'alg': alg_regres[alg]\n",
    "\n",
    "            }\n",
    "\n",
    "            pipe.set_params(**pipe_params)\n",
    "\n",
    "            # trenuję i mierzę ile to trwa\n",
    "\n",
    "            start_time = time.time()\n",
    "\n",
    "            pipe.fit(X_train, y_train)  \n",
    "\n",
    "            end_time = time.time()\n",
    "\n",
    "            # sprawdzam jak wyszło\n",
    "\n",
    "            score = pipe.score(X_test, y_test)\n",
    "\n",
    "            # błąd średniokwadratowy\n",
    "\n",
    "            mse = np.mean((pipe.predict(X_test) - y_test) ** 2)\n",
    "\n",
    "            al = pipe.named_steps['alg']\n",
    "\n",
    "            w = al.coef_\n",
    "\n",
    "            # l1 norm\n",
    "\n",
    "            wl1 = np.sum(np.abs(w))\n",
    "\n",
    "            # l2 norm\n",
    "\n",
    "            wl2 = np.sqrt(np.sum(w**2))\n",
    "\n",
    "            # zbieram wyniki\n",
    "\n",
    "            param_dict = {\n",
    "\n",
    "                        'algorytm': al.__class__.__name__,\n",
    "\n",
    "                        'num_trans': num_tr.__class__.__name__,\n",
    "\n",
    "                        'kat_trans': kat_tr.__class__.__name__,\n",
    "\n",
    "                        'score': score,\n",
    "\n",
    "                        'mse': mse,\n",
    "\n",
    "                        'wl2': wl2,\n",
    "\n",
    "                        'wl1': wl1,\n",
    "\n",
    "                        'czas': end_time - start_time\n",
    "\n",
    "            }\n",
    "\n",
    "            algorytmy = algorytmy.append(pd.DataFrame(param_dict, index=[0]))\n",
    "\n",
    " \n",
    "\n",
    "algorytmy.reset_index(drop=True, inplace=True)\n",
    "\n",
    " \n",
    "\n",
    "#najlepsze algorytmy\n",
    "\n",
    "algorytmy.sort_values('score', ascending=False)"
   ]
  },
  {
   "cell_type": "code",
   "execution_count": 190,
   "metadata": {},
   "outputs": [],
   "source": [
    "# klasyfikatory\n",
    "classifiers = [\n",
    "DummyClassifier(strategy='stratified'),\n",
    "LogisticRegression(max_iter=4000),\n",
    "KNeighborsClassifier(2),\n",
    "ExtraTreeClassifier(),\n",
    "RandomForestClassifier(),\n",
    "SVC(),\n",
    "XGBClassifier()\n",
    "]\n",
    "\n",
    "# transformatory dla kolumn numerycznych\n",
    "scalers = [StandardScaler(), MinMaxScaler(), Normalizer()]\n",
    "\n",
    "# transformatory dla kolumn kategorycznych\n",
    "cat_transformers = [OrdinalEncoder(), OneHotEncoder()]"
   ]
  },
  {
   "cell_type": "code",
   "execution_count": 194,
   "metadata": {},
   "outputs": [
    {
     "name": "stderr",
     "output_type": "stream",
     "text": [
      "c:\\users\\adrianna\\appdata\\local\\programs\\python\\python38\\lib\\site-packages\\xgboost\\sklearn.py:888: UserWarning: The use of label encoder in XGBClassifier is deprecated and will be removed in a future release. To remove this warning, do the following: 1) Pass option use_label_encoder=False when constructing XGBClassifier object; and 2) Encode your labels (y) as integers starting with 0, i.e. 0, 1, 2, ..., [num_class - 1].\n",
      "  warnings.warn(label_encoder_deprecation_msg, UserWarning)\n"
     ]
    },
    {
     "name": "stdout",
     "output_type": "stream",
     "text": [
      "[13:56:26] WARNING: C:/Users/Administrator/workspace/xgboost-win64_release_1.3.0/src/learner.cc:1061: Starting in XGBoost 1.3.0, the default evaluation metric used with the objective 'multi:softprob' was changed from 'merror' to 'mlogloss'. Explicitly set eval_metric if you'd like to restore the old behavior.\n"
     ]
    },
    {
     "name": "stderr",
     "output_type": "stream",
     "text": [
      "c:\\users\\adrianna\\appdata\\local\\programs\\python\\python38\\lib\\site-packages\\xgboost\\sklearn.py:888: UserWarning: The use of label encoder in XGBClassifier is deprecated and will be removed in a future release. To remove this warning, do the following: 1) Pass option use_label_encoder=False when constructing XGBClassifier object; and 2) Encode your labels (y) as integers starting with 0, i.e. 0, 1, 2, ..., [num_class - 1].\n",
      "  warnings.warn(label_encoder_deprecation_msg, UserWarning)\n"
     ]
    },
    {
     "name": "stdout",
     "output_type": "stream",
     "text": [
      "[13:56:35] WARNING: C:/Users/Administrator/workspace/xgboost-win64_release_1.3.0/src/learner.cc:1061: Starting in XGBoost 1.3.0, the default evaluation metric used with the objective 'multi:softprob' was changed from 'merror' to 'mlogloss'. Explicitly set eval_metric if you'd like to restore the old behavior.\n"
     ]
    },
    {
     "name": "stderr",
     "output_type": "stream",
     "text": [
      "c:\\users\\adrianna\\appdata\\local\\programs\\python\\python38\\lib\\site-packages\\xgboost\\sklearn.py:888: UserWarning: The use of label encoder in XGBClassifier is deprecated and will be removed in a future release. To remove this warning, do the following: 1) Pass option use_label_encoder=False when constructing XGBClassifier object; and 2) Encode your labels (y) as integers starting with 0, i.e. 0, 1, 2, ..., [num_class - 1].\n",
      "  warnings.warn(label_encoder_deprecation_msg, UserWarning)\n"
     ]
    },
    {
     "name": "stdout",
     "output_type": "stream",
     "text": [
      "[13:56:55] WARNING: C:/Users/Administrator/workspace/xgboost-win64_release_1.3.0/src/learner.cc:1061: Starting in XGBoost 1.3.0, the default evaluation metric used with the objective 'multi:softprob' was changed from 'merror' to 'mlogloss'. Explicitly set eval_metric if you'd like to restore the old behavior.\n"
     ]
    },
    {
     "name": "stderr",
     "output_type": "stream",
     "text": [
      "c:\\users\\adrianna\\appdata\\local\\programs\\python\\python38\\lib\\site-packages\\xgboost\\sklearn.py:888: UserWarning: The use of label encoder in XGBClassifier is deprecated and will be removed in a future release. To remove this warning, do the following: 1) Pass option use_label_encoder=False when constructing XGBClassifier object; and 2) Encode your labels (y) as integers starting with 0, i.e. 0, 1, 2, ..., [num_class - 1].\n",
      "  warnings.warn(label_encoder_deprecation_msg, UserWarning)\n"
     ]
    },
    {
     "name": "stdout",
     "output_type": "stream",
     "text": [
      "[13:57:04] WARNING: C:/Users/Administrator/workspace/xgboost-win64_release_1.3.0/src/learner.cc:1061: Starting in XGBoost 1.3.0, the default evaluation metric used with the objective 'multi:softprob' was changed from 'merror' to 'mlogloss'. Explicitly set eval_metric if you'd like to restore the old behavior.\n"
     ]
    },
    {
     "name": "stderr",
     "output_type": "stream",
     "text": [
      "c:\\users\\adrianna\\appdata\\local\\programs\\python\\python38\\lib\\site-packages\\xgboost\\sklearn.py:888: UserWarning: The use of label encoder in XGBClassifier is deprecated and will be removed in a future release. To remove this warning, do the following: 1) Pass option use_label_encoder=False when constructing XGBClassifier object; and 2) Encode your labels (y) as integers starting with 0, i.e. 0, 1, 2, ..., [num_class - 1].\n",
      "  warnings.warn(label_encoder_deprecation_msg, UserWarning)\n"
     ]
    },
    {
     "name": "stdout",
     "output_type": "stream",
     "text": [
      "[13:57:24] WARNING: C:/Users/Administrator/workspace/xgboost-win64_release_1.3.0/src/learner.cc:1061: Starting in XGBoost 1.3.0, the default evaluation metric used with the objective 'multi:softprob' was changed from 'merror' to 'mlogloss'. Explicitly set eval_metric if you'd like to restore the old behavior.\n"
     ]
    },
    {
     "name": "stderr",
     "output_type": "stream",
     "text": [
      "c:\\users\\adrianna\\appdata\\local\\programs\\python\\python38\\lib\\site-packages\\xgboost\\sklearn.py:888: UserWarning: The use of label encoder in XGBClassifier is deprecated and will be removed in a future release. To remove this warning, do the following: 1) Pass option use_label_encoder=False when constructing XGBClassifier object; and 2) Encode your labels (y) as integers starting with 0, i.e. 0, 1, 2, ..., [num_class - 1].\n",
      "  warnings.warn(label_encoder_deprecation_msg, UserWarning)\n"
     ]
    },
    {
     "name": "stdout",
     "output_type": "stream",
     "text": [
      "[13:57:37] WARNING: C:/Users/Administrator/workspace/xgboost-win64_release_1.3.0/src/learner.cc:1061: Starting in XGBoost 1.3.0, the default evaluation metric used with the objective 'multi:softprob' was changed from 'merror' to 'mlogloss'. Explicitly set eval_metric if you'd like to restore the old behavior.\n"
     ]
    }
   ],
   "source": [
    "# miejsce na zebranie wyników\n",
    "modele = pd.DataFrame()\n",
    "# pipeline\n",
    "pipe = Pipeline(steps = [\n",
    "                            ('preprocessor', preprocessor),\n",
    "                            ('classifier', None)\n",
    "])\n",
    "# dla każdego modelu zmieniam kolejne transformatory kolumn\n",
    "for model in classifiers:\n",
    "    for num_tr in scalers:\n",
    "        for cat_tr in cat_transformers:\n",
    "            pipe_params = {\n",
    "                            'preprocessor__numerical__num_trans': num_tr,\n",
    "                            'preprocessor__categorical__cat_trans': cat_tr,\n",
    "                            'classifier': model\n",
    "                            }\n",
    "            pipe.set_params(**pipe_params)\n",
    "            # trenuję i mierzę ile to trwa\n",
    "            start_time = time.time()\n",
    "            pipe.fit(X_train, y_train)\n",
    "            end_time = time.time()\n",
    "            # sprawdzam jak wyszło\n",
    "            score = pipe.score(X_test, y_test)\n",
    "            # zbieram wyniki\n",
    "            param_dict = {\n",
    "                            'model': model.__class__.__name__,\n",
    "                            'num_trans': num_tr.__class__.__name__,\n",
    "                            'cat_trans': cat_tr.__class__.__name__,\n",
    "                            'score': score,\n",
    "                            'time_elapsed': end_time - start_time\n",
    "                        }\n",
    "            modele = modele.append(pd.DataFrame(param_dict, index=[0]))\n",
    "modele.reset_index(drop=True, inplace=True)"
   ]
  },
  {
   "cell_type": "code",
   "execution_count": 197,
   "metadata": {},
   "outputs": [
    {
     "data": {
      "text/html": [
       "<div>\n",
       "<style scoped>\n",
       "    .dataframe tbody tr th:only-of-type {\n",
       "        vertical-align: middle;\n",
       "    }\n",
       "\n",
       "    .dataframe tbody tr th {\n",
       "        vertical-align: top;\n",
       "    }\n",
       "\n",
       "    .dataframe thead th {\n",
       "        text-align: right;\n",
       "    }\n",
       "</style>\n",
       "<table border=\"1\" class=\"dataframe\">\n",
       "  <thead>\n",
       "    <tr style=\"text-align: right;\">\n",
       "      <th></th>\n",
       "      <th>model</th>\n",
       "      <th>num_trans</th>\n",
       "      <th>cat_trans</th>\n",
       "      <th>score</th>\n",
       "      <th>time_elapsed</th>\n",
       "    </tr>\n",
       "  </thead>\n",
       "  <tbody>\n",
       "    <tr>\n",
       "      <th>27</th>\n",
       "      <td>RandomForestClassifier</td>\n",
       "      <td>MinMaxScaler</td>\n",
       "      <td>OneHotEncoder</td>\n",
       "      <td>0.237879</td>\n",
       "      <td>0.897608</td>\n",
       "    </tr>\n",
       "    <tr>\n",
       "      <th>24</th>\n",
       "      <td>RandomForestClassifier</td>\n",
       "      <td>StandardScaler</td>\n",
       "      <td>OrdinalEncoder</td>\n",
       "      <td>0.234848</td>\n",
       "      <td>0.898415</td>\n",
       "    </tr>\n",
       "    <tr>\n",
       "      <th>25</th>\n",
       "      <td>RandomForestClassifier</td>\n",
       "      <td>StandardScaler</td>\n",
       "      <td>OneHotEncoder</td>\n",
       "      <td>0.230303</td>\n",
       "      <td>0.941665</td>\n",
       "    </tr>\n",
       "    <tr>\n",
       "      <th>26</th>\n",
       "      <td>RandomForestClassifier</td>\n",
       "      <td>MinMaxScaler</td>\n",
       "      <td>OrdinalEncoder</td>\n",
       "      <td>0.228788</td>\n",
       "      <td>1.012499</td>\n",
       "    </tr>\n",
       "    <tr>\n",
       "      <th>36</th>\n",
       "      <td>XGBClassifier</td>\n",
       "      <td>StandardScaler</td>\n",
       "      <td>OrdinalEncoder</td>\n",
       "      <td>0.222727</td>\n",
       "      <td>9.399921</td>\n",
       "    </tr>\n",
       "    <tr>\n",
       "      <th>38</th>\n",
       "      <td>XGBClassifier</td>\n",
       "      <td>MinMaxScaler</td>\n",
       "      <td>OrdinalEncoder</td>\n",
       "      <td>0.221212</td>\n",
       "      <td>9.028419</td>\n",
       "    </tr>\n",
       "    <tr>\n",
       "      <th>39</th>\n",
       "      <td>XGBClassifier</td>\n",
       "      <td>MinMaxScaler</td>\n",
       "      <td>OneHotEncoder</td>\n",
       "      <td>0.218182</td>\n",
       "      <td>19.832095</td>\n",
       "    </tr>\n",
       "    <tr>\n",
       "      <th>37</th>\n",
       "      <td>XGBClassifier</td>\n",
       "      <td>StandardScaler</td>\n",
       "      <td>OneHotEncoder</td>\n",
       "      <td>0.216667</td>\n",
       "      <td>19.874126</td>\n",
       "    </tr>\n",
       "    <tr>\n",
       "      <th>31</th>\n",
       "      <td>SVC</td>\n",
       "      <td>StandardScaler</td>\n",
       "      <td>OneHotEncoder</td>\n",
       "      <td>0.200000</td>\n",
       "      <td>0.677433</td>\n",
       "    </tr>\n",
       "    <tr>\n",
       "      <th>28</th>\n",
       "      <td>RandomForestClassifier</td>\n",
       "      <td>Normalizer</td>\n",
       "      <td>OrdinalEncoder</td>\n",
       "      <td>0.200000</td>\n",
       "      <td>1.122792</td>\n",
       "    </tr>\n",
       "    <tr>\n",
       "      <th>29</th>\n",
       "      <td>RandomForestClassifier</td>\n",
       "      <td>Normalizer</td>\n",
       "      <td>OneHotEncoder</td>\n",
       "      <td>0.193939</td>\n",
       "      <td>0.979707</td>\n",
       "    </tr>\n",
       "    <tr>\n",
       "      <th>41</th>\n",
       "      <td>XGBClassifier</td>\n",
       "      <td>Normalizer</td>\n",
       "      <td>OneHotEncoder</td>\n",
       "      <td>0.183333</td>\n",
       "      <td>22.833229</td>\n",
       "    </tr>\n",
       "    <tr>\n",
       "      <th>6</th>\n",
       "      <td>LogisticRegression</td>\n",
       "      <td>StandardScaler</td>\n",
       "      <td>OrdinalEncoder</td>\n",
       "      <td>0.183333</td>\n",
       "      <td>20.302024</td>\n",
       "    </tr>\n",
       "    <tr>\n",
       "      <th>7</th>\n",
       "      <td>LogisticRegression</td>\n",
       "      <td>StandardScaler</td>\n",
       "      <td>OneHotEncoder</td>\n",
       "      <td>0.180303</td>\n",
       "      <td>4.759500</td>\n",
       "    </tr>\n",
       "    <tr>\n",
       "      <th>15</th>\n",
       "      <td>KNeighborsClassifier</td>\n",
       "      <td>MinMaxScaler</td>\n",
       "      <td>OneHotEncoder</td>\n",
       "      <td>0.174242</td>\n",
       "      <td>0.048037</td>\n",
       "    </tr>\n",
       "    <tr>\n",
       "      <th>9</th>\n",
       "      <td>LogisticRegression</td>\n",
       "      <td>MinMaxScaler</td>\n",
       "      <td>OneHotEncoder</td>\n",
       "      <td>0.172727</td>\n",
       "      <td>6.603854</td>\n",
       "    </tr>\n",
       "    <tr>\n",
       "      <th>17</th>\n",
       "      <td>KNeighborsClassifier</td>\n",
       "      <td>Normalizer</td>\n",
       "      <td>OneHotEncoder</td>\n",
       "      <td>0.169697</td>\n",
       "      <td>0.045035</td>\n",
       "    </tr>\n",
       "    <tr>\n",
       "      <th>8</th>\n",
       "      <td>LogisticRegression</td>\n",
       "      <td>MinMaxScaler</td>\n",
       "      <td>OrdinalEncoder</td>\n",
       "      <td>0.169697</td>\n",
       "      <td>19.037702</td>\n",
       "    </tr>\n",
       "    <tr>\n",
       "      <th>11</th>\n",
       "      <td>LogisticRegression</td>\n",
       "      <td>Normalizer</td>\n",
       "      <td>OneHotEncoder</td>\n",
       "      <td>0.169697</td>\n",
       "      <td>4.171986</td>\n",
       "    </tr>\n",
       "    <tr>\n",
       "      <th>40</th>\n",
       "      <td>XGBClassifier</td>\n",
       "      <td>Normalizer</td>\n",
       "      <td>OrdinalEncoder</td>\n",
       "      <td>0.168182</td>\n",
       "      <td>12.570937</td>\n",
       "    </tr>\n",
       "    <tr>\n",
       "      <th>13</th>\n",
       "      <td>KNeighborsClassifier</td>\n",
       "      <td>StandardScaler</td>\n",
       "      <td>OneHotEncoder</td>\n",
       "      <td>0.163636</td>\n",
       "      <td>0.048035</td>\n",
       "    </tr>\n",
       "    <tr>\n",
       "      <th>20</th>\n",
       "      <td>ExtraTreeClassifier</td>\n",
       "      <td>MinMaxScaler</td>\n",
       "      <td>OrdinalEncoder</td>\n",
       "      <td>0.160606</td>\n",
       "      <td>0.061027</td>\n",
       "    </tr>\n",
       "    <tr>\n",
       "      <th>35</th>\n",
       "      <td>SVC</td>\n",
       "      <td>Normalizer</td>\n",
       "      <td>OneHotEncoder</td>\n",
       "      <td>0.159091</td>\n",
       "      <td>0.647193</td>\n",
       "    </tr>\n",
       "    <tr>\n",
       "      <th>30</th>\n",
       "      <td>SVC</td>\n",
       "      <td>StandardScaler</td>\n",
       "      <td>OrdinalEncoder</td>\n",
       "      <td>0.154545</td>\n",
       "      <td>0.440497</td>\n",
       "    </tr>\n",
       "    <tr>\n",
       "      <th>33</th>\n",
       "      <td>SVC</td>\n",
       "      <td>MinMaxScaler</td>\n",
       "      <td>OneHotEncoder</td>\n",
       "      <td>0.153030</td>\n",
       "      <td>0.652471</td>\n",
       "    </tr>\n",
       "    <tr>\n",
       "      <th>34</th>\n",
       "      <td>SVC</td>\n",
       "      <td>Normalizer</td>\n",
       "      <td>OrdinalEncoder</td>\n",
       "      <td>0.145455</td>\n",
       "      <td>0.425593</td>\n",
       "    </tr>\n",
       "    <tr>\n",
       "      <th>22</th>\n",
       "      <td>ExtraTreeClassifier</td>\n",
       "      <td>Normalizer</td>\n",
       "      <td>OrdinalEncoder</td>\n",
       "      <td>0.143939</td>\n",
       "      <td>0.055039</td>\n",
       "    </tr>\n",
       "    <tr>\n",
       "      <th>16</th>\n",
       "      <td>KNeighborsClassifier</td>\n",
       "      <td>Normalizer</td>\n",
       "      <td>OrdinalEncoder</td>\n",
       "      <td>0.139394</td>\n",
       "      <td>0.052038</td>\n",
       "    </tr>\n",
       "    <tr>\n",
       "      <th>32</th>\n",
       "      <td>SVC</td>\n",
       "      <td>MinMaxScaler</td>\n",
       "      <td>OrdinalEncoder</td>\n",
       "      <td>0.139394</td>\n",
       "      <td>0.415280</td>\n",
       "    </tr>\n",
       "    <tr>\n",
       "      <th>14</th>\n",
       "      <td>KNeighborsClassifier</td>\n",
       "      <td>MinMaxScaler</td>\n",
       "      <td>OrdinalEncoder</td>\n",
       "      <td>0.137879</td>\n",
       "      <td>0.049051</td>\n",
       "    </tr>\n",
       "    <tr>\n",
       "      <th>12</th>\n",
       "      <td>KNeighborsClassifier</td>\n",
       "      <td>StandardScaler</td>\n",
       "      <td>OrdinalEncoder</td>\n",
       "      <td>0.137879</td>\n",
       "      <td>0.053037</td>\n",
       "    </tr>\n",
       "    <tr>\n",
       "      <th>10</th>\n",
       "      <td>LogisticRegression</td>\n",
       "      <td>Normalizer</td>\n",
       "      <td>OrdinalEncoder</td>\n",
       "      <td>0.134848</td>\n",
       "      <td>20.578955</td>\n",
       "    </tr>\n",
       "    <tr>\n",
       "      <th>23</th>\n",
       "      <td>ExtraTreeClassifier</td>\n",
       "      <td>Normalizer</td>\n",
       "      <td>OneHotEncoder</td>\n",
       "      <td>0.134848</td>\n",
       "      <td>0.058035</td>\n",
       "    </tr>\n",
       "    <tr>\n",
       "      <th>18</th>\n",
       "      <td>ExtraTreeClassifier</td>\n",
       "      <td>StandardScaler</td>\n",
       "      <td>OrdinalEncoder</td>\n",
       "      <td>0.133333</td>\n",
       "      <td>0.054028</td>\n",
       "    </tr>\n",
       "    <tr>\n",
       "      <th>19</th>\n",
       "      <td>ExtraTreeClassifier</td>\n",
       "      <td>StandardScaler</td>\n",
       "      <td>OneHotEncoder</td>\n",
       "      <td>0.133333</td>\n",
       "      <td>0.063018</td>\n",
       "    </tr>\n",
       "    <tr>\n",
       "      <th>21</th>\n",
       "      <td>ExtraTreeClassifier</td>\n",
       "      <td>MinMaxScaler</td>\n",
       "      <td>OneHotEncoder</td>\n",
       "      <td>0.128788</td>\n",
       "      <td>0.058035</td>\n",
       "    </tr>\n",
       "    <tr>\n",
       "      <th>2</th>\n",
       "      <td>DummyClassifier</td>\n",
       "      <td>MinMaxScaler</td>\n",
       "      <td>OrdinalEncoder</td>\n",
       "      <td>0.069697</td>\n",
       "      <td>0.098069</td>\n",
       "    </tr>\n",
       "    <tr>\n",
       "      <th>5</th>\n",
       "      <td>DummyClassifier</td>\n",
       "      <td>Normalizer</td>\n",
       "      <td>OneHotEncoder</td>\n",
       "      <td>0.056061</td>\n",
       "      <td>0.073052</td>\n",
       "    </tr>\n",
       "    <tr>\n",
       "      <th>0</th>\n",
       "      <td>DummyClassifier</td>\n",
       "      <td>StandardScaler</td>\n",
       "      <td>OrdinalEncoder</td>\n",
       "      <td>0.046970</td>\n",
       "      <td>0.135105</td>\n",
       "    </tr>\n",
       "    <tr>\n",
       "      <th>3</th>\n",
       "      <td>DummyClassifier</td>\n",
       "      <td>MinMaxScaler</td>\n",
       "      <td>OneHotEncoder</td>\n",
       "      <td>0.043939</td>\n",
       "      <td>0.054041</td>\n",
       "    </tr>\n",
       "    <tr>\n",
       "      <th>4</th>\n",
       "      <td>DummyClassifier</td>\n",
       "      <td>Normalizer</td>\n",
       "      <td>OrdinalEncoder</td>\n",
       "      <td>0.040909</td>\n",
       "      <td>0.068035</td>\n",
       "    </tr>\n",
       "    <tr>\n",
       "      <th>1</th>\n",
       "      <td>DummyClassifier</td>\n",
       "      <td>StandardScaler</td>\n",
       "      <td>OneHotEncoder</td>\n",
       "      <td>0.033333</td>\n",
       "      <td>0.101075</td>\n",
       "    </tr>\n",
       "  </tbody>\n",
       "</table>\n",
       "</div>"
      ],
      "text/plain": [
       "                     model       num_trans       cat_trans     score  time_elapsed\n",
       "27  RandomForestClassifier    MinMaxScaler   OneHotEncoder  0.237879      0.897608\n",
       "24  RandomForestClassifier  StandardScaler  OrdinalEncoder  0.234848      0.898415\n",
       "25  RandomForestClassifier  StandardScaler   OneHotEncoder  0.230303      0.941665\n",
       "26  RandomForestClassifier    MinMaxScaler  OrdinalEncoder  0.228788      1.012499\n",
       "36           XGBClassifier  StandardScaler  OrdinalEncoder  0.222727      9.399921\n",
       "38           XGBClassifier    MinMaxScaler  OrdinalEncoder  0.221212      9.028419\n",
       "39           XGBClassifier    MinMaxScaler   OneHotEncoder  0.218182     19.832095\n",
       "37           XGBClassifier  StandardScaler   OneHotEncoder  0.216667     19.874126\n",
       "31                     SVC  StandardScaler   OneHotEncoder  0.200000      0.677433\n",
       "28  RandomForestClassifier      Normalizer  OrdinalEncoder  0.200000      1.122792\n",
       "29  RandomForestClassifier      Normalizer   OneHotEncoder  0.193939      0.979707\n",
       "41           XGBClassifier      Normalizer   OneHotEncoder  0.183333     22.833229\n",
       "6       LogisticRegression  StandardScaler  OrdinalEncoder  0.183333     20.302024\n",
       "7       LogisticRegression  StandardScaler   OneHotEncoder  0.180303      4.759500\n",
       "15    KNeighborsClassifier    MinMaxScaler   OneHotEncoder  0.174242      0.048037\n",
       "9       LogisticRegression    MinMaxScaler   OneHotEncoder  0.172727      6.603854\n",
       "17    KNeighborsClassifier      Normalizer   OneHotEncoder  0.169697      0.045035\n",
       "8       LogisticRegression    MinMaxScaler  OrdinalEncoder  0.169697     19.037702\n",
       "11      LogisticRegression      Normalizer   OneHotEncoder  0.169697      4.171986\n",
       "40           XGBClassifier      Normalizer  OrdinalEncoder  0.168182     12.570937\n",
       "13    KNeighborsClassifier  StandardScaler   OneHotEncoder  0.163636      0.048035\n",
       "20     ExtraTreeClassifier    MinMaxScaler  OrdinalEncoder  0.160606      0.061027\n",
       "35                     SVC      Normalizer   OneHotEncoder  0.159091      0.647193\n",
       "30                     SVC  StandardScaler  OrdinalEncoder  0.154545      0.440497\n",
       "33                     SVC    MinMaxScaler   OneHotEncoder  0.153030      0.652471\n",
       "34                     SVC      Normalizer  OrdinalEncoder  0.145455      0.425593\n",
       "22     ExtraTreeClassifier      Normalizer  OrdinalEncoder  0.143939      0.055039\n",
       "16    KNeighborsClassifier      Normalizer  OrdinalEncoder  0.139394      0.052038\n",
       "32                     SVC    MinMaxScaler  OrdinalEncoder  0.139394      0.415280\n",
       "14    KNeighborsClassifier    MinMaxScaler  OrdinalEncoder  0.137879      0.049051\n",
       "12    KNeighborsClassifier  StandardScaler  OrdinalEncoder  0.137879      0.053037\n",
       "10      LogisticRegression      Normalizer  OrdinalEncoder  0.134848     20.578955\n",
       "23     ExtraTreeClassifier      Normalizer   OneHotEncoder  0.134848      0.058035\n",
       "18     ExtraTreeClassifier  StandardScaler  OrdinalEncoder  0.133333      0.054028\n",
       "19     ExtraTreeClassifier  StandardScaler   OneHotEncoder  0.133333      0.063018\n",
       "21     ExtraTreeClassifier    MinMaxScaler   OneHotEncoder  0.128788      0.058035\n",
       "2          DummyClassifier    MinMaxScaler  OrdinalEncoder  0.069697      0.098069\n",
       "5          DummyClassifier      Normalizer   OneHotEncoder  0.056061      0.073052\n",
       "0          DummyClassifier  StandardScaler  OrdinalEncoder  0.046970      0.135105\n",
       "3          DummyClassifier    MinMaxScaler   OneHotEncoder  0.043939      0.054041\n",
       "4          DummyClassifier      Normalizer  OrdinalEncoder  0.040909      0.068035\n",
       "1          DummyClassifier  StandardScaler   OneHotEncoder  0.033333      0.101075"
      ]
     },
     "execution_count": 197,
     "metadata": {},
     "output_type": "execute_result"
    }
   ],
   "source": [
    "#najlepsze modele\n",
    "modele.sort_values('score', ascending=False)"
   ]
  },
  {
   "cell_type": "code",
   "execution_count": 198,
   "metadata": {},
   "outputs": [
    {
     "data": {
      "text/html": [
       "<div>\n",
       "<style scoped>\n",
       "    .dataframe tbody tr th:only-of-type {\n",
       "        vertical-align: middle;\n",
       "    }\n",
       "\n",
       "    .dataframe tbody tr th {\n",
       "        vertical-align: top;\n",
       "    }\n",
       "\n",
       "    .dataframe thead th {\n",
       "        text-align: right;\n",
       "    }\n",
       "</style>\n",
       "<table border=\"1\" class=\"dataframe\">\n",
       "  <thead>\n",
       "    <tr style=\"text-align: right;\">\n",
       "      <th></th>\n",
       "      <th>model</th>\n",
       "      <th>num_trans</th>\n",
       "      <th>cat_trans</th>\n",
       "      <th>score</th>\n",
       "      <th>time_elapsed</th>\n",
       "    </tr>\n",
       "  </thead>\n",
       "  <tbody>\n",
       "    <tr>\n",
       "      <th>41</th>\n",
       "      <td>XGBClassifier</td>\n",
       "      <td>Normalizer</td>\n",
       "      <td>OneHotEncoder</td>\n",
       "      <td>0.183333</td>\n",
       "      <td>22.833229</td>\n",
       "    </tr>\n",
       "    <tr>\n",
       "      <th>40</th>\n",
       "      <td>XGBClassifier</td>\n",
       "      <td>Normalizer</td>\n",
       "      <td>OrdinalEncoder</td>\n",
       "      <td>0.168182</td>\n",
       "      <td>12.570937</td>\n",
       "    </tr>\n",
       "    <tr>\n",
       "      <th>39</th>\n",
       "      <td>XGBClassifier</td>\n",
       "      <td>MinMaxScaler</td>\n",
       "      <td>OneHotEncoder</td>\n",
       "      <td>0.218182</td>\n",
       "      <td>19.832095</td>\n",
       "    </tr>\n",
       "    <tr>\n",
       "      <th>38</th>\n",
       "      <td>XGBClassifier</td>\n",
       "      <td>MinMaxScaler</td>\n",
       "      <td>OrdinalEncoder</td>\n",
       "      <td>0.221212</td>\n",
       "      <td>9.028419</td>\n",
       "    </tr>\n",
       "    <tr>\n",
       "      <th>37</th>\n",
       "      <td>XGBClassifier</td>\n",
       "      <td>StandardScaler</td>\n",
       "      <td>OneHotEncoder</td>\n",
       "      <td>0.216667</td>\n",
       "      <td>19.874126</td>\n",
       "    </tr>\n",
       "    <tr>\n",
       "      <th>36</th>\n",
       "      <td>XGBClassifier</td>\n",
       "      <td>StandardScaler</td>\n",
       "      <td>OrdinalEncoder</td>\n",
       "      <td>0.222727</td>\n",
       "      <td>9.399921</td>\n",
       "    </tr>\n",
       "    <tr>\n",
       "      <th>31</th>\n",
       "      <td>SVC</td>\n",
       "      <td>StandardScaler</td>\n",
       "      <td>OneHotEncoder</td>\n",
       "      <td>0.200000</td>\n",
       "      <td>0.677433</td>\n",
       "    </tr>\n",
       "    <tr>\n",
       "      <th>30</th>\n",
       "      <td>SVC</td>\n",
       "      <td>StandardScaler</td>\n",
       "      <td>OrdinalEncoder</td>\n",
       "      <td>0.154545</td>\n",
       "      <td>0.440497</td>\n",
       "    </tr>\n",
       "    <tr>\n",
       "      <th>34</th>\n",
       "      <td>SVC</td>\n",
       "      <td>Normalizer</td>\n",
       "      <td>OrdinalEncoder</td>\n",
       "      <td>0.145455</td>\n",
       "      <td>0.425593</td>\n",
       "    </tr>\n",
       "    <tr>\n",
       "      <th>33</th>\n",
       "      <td>SVC</td>\n",
       "      <td>MinMaxScaler</td>\n",
       "      <td>OneHotEncoder</td>\n",
       "      <td>0.153030</td>\n",
       "      <td>0.652471</td>\n",
       "    </tr>\n",
       "    <tr>\n",
       "      <th>32</th>\n",
       "      <td>SVC</td>\n",
       "      <td>MinMaxScaler</td>\n",
       "      <td>OrdinalEncoder</td>\n",
       "      <td>0.139394</td>\n",
       "      <td>0.415280</td>\n",
       "    </tr>\n",
       "    <tr>\n",
       "      <th>35</th>\n",
       "      <td>SVC</td>\n",
       "      <td>Normalizer</td>\n",
       "      <td>OneHotEncoder</td>\n",
       "      <td>0.159091</td>\n",
       "      <td>0.647193</td>\n",
       "    </tr>\n",
       "    <tr>\n",
       "      <th>24</th>\n",
       "      <td>RandomForestClassifier</td>\n",
       "      <td>StandardScaler</td>\n",
       "      <td>OrdinalEncoder</td>\n",
       "      <td>0.234848</td>\n",
       "      <td>0.898415</td>\n",
       "    </tr>\n",
       "    <tr>\n",
       "      <th>25</th>\n",
       "      <td>RandomForestClassifier</td>\n",
       "      <td>StandardScaler</td>\n",
       "      <td>OneHotEncoder</td>\n",
       "      <td>0.230303</td>\n",
       "      <td>0.941665</td>\n",
       "    </tr>\n",
       "    <tr>\n",
       "      <th>27</th>\n",
       "      <td>RandomForestClassifier</td>\n",
       "      <td>MinMaxScaler</td>\n",
       "      <td>OneHotEncoder</td>\n",
       "      <td>0.237879</td>\n",
       "      <td>0.897608</td>\n",
       "    </tr>\n",
       "    <tr>\n",
       "      <th>28</th>\n",
       "      <td>RandomForestClassifier</td>\n",
       "      <td>Normalizer</td>\n",
       "      <td>OrdinalEncoder</td>\n",
       "      <td>0.200000</td>\n",
       "      <td>1.122792</td>\n",
       "    </tr>\n",
       "    <tr>\n",
       "      <th>26</th>\n",
       "      <td>RandomForestClassifier</td>\n",
       "      <td>MinMaxScaler</td>\n",
       "      <td>OrdinalEncoder</td>\n",
       "      <td>0.228788</td>\n",
       "      <td>1.012499</td>\n",
       "    </tr>\n",
       "    <tr>\n",
       "      <th>29</th>\n",
       "      <td>RandomForestClassifier</td>\n",
       "      <td>Normalizer</td>\n",
       "      <td>OneHotEncoder</td>\n",
       "      <td>0.193939</td>\n",
       "      <td>0.979707</td>\n",
       "    </tr>\n",
       "    <tr>\n",
       "      <th>11</th>\n",
       "      <td>LogisticRegression</td>\n",
       "      <td>Normalizer</td>\n",
       "      <td>OneHotEncoder</td>\n",
       "      <td>0.169697</td>\n",
       "      <td>4.171986</td>\n",
       "    </tr>\n",
       "    <tr>\n",
       "      <th>10</th>\n",
       "      <td>LogisticRegression</td>\n",
       "      <td>Normalizer</td>\n",
       "      <td>OrdinalEncoder</td>\n",
       "      <td>0.134848</td>\n",
       "      <td>20.578955</td>\n",
       "    </tr>\n",
       "    <tr>\n",
       "      <th>9</th>\n",
       "      <td>LogisticRegression</td>\n",
       "      <td>MinMaxScaler</td>\n",
       "      <td>OneHotEncoder</td>\n",
       "      <td>0.172727</td>\n",
       "      <td>6.603854</td>\n",
       "    </tr>\n",
       "    <tr>\n",
       "      <th>8</th>\n",
       "      <td>LogisticRegression</td>\n",
       "      <td>MinMaxScaler</td>\n",
       "      <td>OrdinalEncoder</td>\n",
       "      <td>0.169697</td>\n",
       "      <td>19.037702</td>\n",
       "    </tr>\n",
       "    <tr>\n",
       "      <th>7</th>\n",
       "      <td>LogisticRegression</td>\n",
       "      <td>StandardScaler</td>\n",
       "      <td>OneHotEncoder</td>\n",
       "      <td>0.180303</td>\n",
       "      <td>4.759500</td>\n",
       "    </tr>\n",
       "    <tr>\n",
       "      <th>6</th>\n",
       "      <td>LogisticRegression</td>\n",
       "      <td>StandardScaler</td>\n",
       "      <td>OrdinalEncoder</td>\n",
       "      <td>0.183333</td>\n",
       "      <td>20.302024</td>\n",
       "    </tr>\n",
       "    <tr>\n",
       "      <th>17</th>\n",
       "      <td>KNeighborsClassifier</td>\n",
       "      <td>Normalizer</td>\n",
       "      <td>OneHotEncoder</td>\n",
       "      <td>0.169697</td>\n",
       "      <td>0.045035</td>\n",
       "    </tr>\n",
       "    <tr>\n",
       "      <th>16</th>\n",
       "      <td>KNeighborsClassifier</td>\n",
       "      <td>Normalizer</td>\n",
       "      <td>OrdinalEncoder</td>\n",
       "      <td>0.139394</td>\n",
       "      <td>0.052038</td>\n",
       "    </tr>\n",
       "    <tr>\n",
       "      <th>14</th>\n",
       "      <td>KNeighborsClassifier</td>\n",
       "      <td>MinMaxScaler</td>\n",
       "      <td>OrdinalEncoder</td>\n",
       "      <td>0.137879</td>\n",
       "      <td>0.049051</td>\n",
       "    </tr>\n",
       "    <tr>\n",
       "      <th>13</th>\n",
       "      <td>KNeighborsClassifier</td>\n",
       "      <td>StandardScaler</td>\n",
       "      <td>OneHotEncoder</td>\n",
       "      <td>0.163636</td>\n",
       "      <td>0.048035</td>\n",
       "    </tr>\n",
       "    <tr>\n",
       "      <th>12</th>\n",
       "      <td>KNeighborsClassifier</td>\n",
       "      <td>StandardScaler</td>\n",
       "      <td>OrdinalEncoder</td>\n",
       "      <td>0.137879</td>\n",
       "      <td>0.053037</td>\n",
       "    </tr>\n",
       "    <tr>\n",
       "      <th>15</th>\n",
       "      <td>KNeighborsClassifier</td>\n",
       "      <td>MinMaxScaler</td>\n",
       "      <td>OneHotEncoder</td>\n",
       "      <td>0.174242</td>\n",
       "      <td>0.048037</td>\n",
       "    </tr>\n",
       "    <tr>\n",
       "      <th>21</th>\n",
       "      <td>ExtraTreeClassifier</td>\n",
       "      <td>MinMaxScaler</td>\n",
       "      <td>OneHotEncoder</td>\n",
       "      <td>0.128788</td>\n",
       "      <td>0.058035</td>\n",
       "    </tr>\n",
       "    <tr>\n",
       "      <th>23</th>\n",
       "      <td>ExtraTreeClassifier</td>\n",
       "      <td>Normalizer</td>\n",
       "      <td>OneHotEncoder</td>\n",
       "      <td>0.134848</td>\n",
       "      <td>0.058035</td>\n",
       "    </tr>\n",
       "    <tr>\n",
       "      <th>22</th>\n",
       "      <td>ExtraTreeClassifier</td>\n",
       "      <td>Normalizer</td>\n",
       "      <td>OrdinalEncoder</td>\n",
       "      <td>0.143939</td>\n",
       "      <td>0.055039</td>\n",
       "    </tr>\n",
       "    <tr>\n",
       "      <th>20</th>\n",
       "      <td>ExtraTreeClassifier</td>\n",
       "      <td>MinMaxScaler</td>\n",
       "      <td>OrdinalEncoder</td>\n",
       "      <td>0.160606</td>\n",
       "      <td>0.061027</td>\n",
       "    </tr>\n",
       "    <tr>\n",
       "      <th>19</th>\n",
       "      <td>ExtraTreeClassifier</td>\n",
       "      <td>StandardScaler</td>\n",
       "      <td>OneHotEncoder</td>\n",
       "      <td>0.133333</td>\n",
       "      <td>0.063018</td>\n",
       "    </tr>\n",
       "    <tr>\n",
       "      <th>18</th>\n",
       "      <td>ExtraTreeClassifier</td>\n",
       "      <td>StandardScaler</td>\n",
       "      <td>OrdinalEncoder</td>\n",
       "      <td>0.133333</td>\n",
       "      <td>0.054028</td>\n",
       "    </tr>\n",
       "    <tr>\n",
       "      <th>1</th>\n",
       "      <td>DummyClassifier</td>\n",
       "      <td>StandardScaler</td>\n",
       "      <td>OneHotEncoder</td>\n",
       "      <td>0.033333</td>\n",
       "      <td>0.101075</td>\n",
       "    </tr>\n",
       "    <tr>\n",
       "      <th>5</th>\n",
       "      <td>DummyClassifier</td>\n",
       "      <td>Normalizer</td>\n",
       "      <td>OneHotEncoder</td>\n",
       "      <td>0.056061</td>\n",
       "      <td>0.073052</td>\n",
       "    </tr>\n",
       "    <tr>\n",
       "      <th>4</th>\n",
       "      <td>DummyClassifier</td>\n",
       "      <td>Normalizer</td>\n",
       "      <td>OrdinalEncoder</td>\n",
       "      <td>0.040909</td>\n",
       "      <td>0.068035</td>\n",
       "    </tr>\n",
       "    <tr>\n",
       "      <th>3</th>\n",
       "      <td>DummyClassifier</td>\n",
       "      <td>MinMaxScaler</td>\n",
       "      <td>OneHotEncoder</td>\n",
       "      <td>0.043939</td>\n",
       "      <td>0.054041</td>\n",
       "    </tr>\n",
       "    <tr>\n",
       "      <th>2</th>\n",
       "      <td>DummyClassifier</td>\n",
       "      <td>MinMaxScaler</td>\n",
       "      <td>OrdinalEncoder</td>\n",
       "      <td>0.069697</td>\n",
       "      <td>0.098069</td>\n",
       "    </tr>\n",
       "    <tr>\n",
       "      <th>0</th>\n",
       "      <td>DummyClassifier</td>\n",
       "      <td>StandardScaler</td>\n",
       "      <td>OrdinalEncoder</td>\n",
       "      <td>0.046970</td>\n",
       "      <td>0.135105</td>\n",
       "    </tr>\n",
       "  </tbody>\n",
       "</table>\n",
       "</div>"
      ],
      "text/plain": [
       "                     model       num_trans       cat_trans     score  time_elapsed\n",
       "41           XGBClassifier      Normalizer   OneHotEncoder  0.183333     22.833229\n",
       "40           XGBClassifier      Normalizer  OrdinalEncoder  0.168182     12.570937\n",
       "39           XGBClassifier    MinMaxScaler   OneHotEncoder  0.218182     19.832095\n",
       "38           XGBClassifier    MinMaxScaler  OrdinalEncoder  0.221212      9.028419\n",
       "37           XGBClassifier  StandardScaler   OneHotEncoder  0.216667     19.874126\n",
       "36           XGBClassifier  StandardScaler  OrdinalEncoder  0.222727      9.399921\n",
       "31                     SVC  StandardScaler   OneHotEncoder  0.200000      0.677433\n",
       "30                     SVC  StandardScaler  OrdinalEncoder  0.154545      0.440497\n",
       "34                     SVC      Normalizer  OrdinalEncoder  0.145455      0.425593\n",
       "33                     SVC    MinMaxScaler   OneHotEncoder  0.153030      0.652471\n",
       "32                     SVC    MinMaxScaler  OrdinalEncoder  0.139394      0.415280\n",
       "35                     SVC      Normalizer   OneHotEncoder  0.159091      0.647193\n",
       "24  RandomForestClassifier  StandardScaler  OrdinalEncoder  0.234848      0.898415\n",
       "25  RandomForestClassifier  StandardScaler   OneHotEncoder  0.230303      0.941665\n",
       "27  RandomForestClassifier    MinMaxScaler   OneHotEncoder  0.237879      0.897608\n",
       "28  RandomForestClassifier      Normalizer  OrdinalEncoder  0.200000      1.122792\n",
       "26  RandomForestClassifier    MinMaxScaler  OrdinalEncoder  0.228788      1.012499\n",
       "29  RandomForestClassifier      Normalizer   OneHotEncoder  0.193939      0.979707\n",
       "11      LogisticRegression      Normalizer   OneHotEncoder  0.169697      4.171986\n",
       "10      LogisticRegression      Normalizer  OrdinalEncoder  0.134848     20.578955\n",
       "9       LogisticRegression    MinMaxScaler   OneHotEncoder  0.172727      6.603854\n",
       "8       LogisticRegression    MinMaxScaler  OrdinalEncoder  0.169697     19.037702\n",
       "7       LogisticRegression  StandardScaler   OneHotEncoder  0.180303      4.759500\n",
       "6       LogisticRegression  StandardScaler  OrdinalEncoder  0.183333     20.302024\n",
       "17    KNeighborsClassifier      Normalizer   OneHotEncoder  0.169697      0.045035\n",
       "16    KNeighborsClassifier      Normalizer  OrdinalEncoder  0.139394      0.052038\n",
       "14    KNeighborsClassifier    MinMaxScaler  OrdinalEncoder  0.137879      0.049051\n",
       "13    KNeighborsClassifier  StandardScaler   OneHotEncoder  0.163636      0.048035\n",
       "12    KNeighborsClassifier  StandardScaler  OrdinalEncoder  0.137879      0.053037\n",
       "15    KNeighborsClassifier    MinMaxScaler   OneHotEncoder  0.174242      0.048037\n",
       "21     ExtraTreeClassifier    MinMaxScaler   OneHotEncoder  0.128788      0.058035\n",
       "23     ExtraTreeClassifier      Normalizer   OneHotEncoder  0.134848      0.058035\n",
       "22     ExtraTreeClassifier      Normalizer  OrdinalEncoder  0.143939      0.055039\n",
       "20     ExtraTreeClassifier    MinMaxScaler  OrdinalEncoder  0.160606      0.061027\n",
       "19     ExtraTreeClassifier  StandardScaler   OneHotEncoder  0.133333      0.063018\n",
       "18     ExtraTreeClassifier  StandardScaler  OrdinalEncoder  0.133333      0.054028\n",
       "1          DummyClassifier  StandardScaler   OneHotEncoder  0.033333      0.101075\n",
       "5          DummyClassifier      Normalizer   OneHotEncoder  0.056061      0.073052\n",
       "4          DummyClassifier      Normalizer  OrdinalEncoder  0.040909      0.068035\n",
       "3          DummyClassifier    MinMaxScaler   OneHotEncoder  0.043939      0.054041\n",
       "2          DummyClassifier    MinMaxScaler  OrdinalEncoder  0.069697      0.098069\n",
       "0          DummyClassifier  StandardScaler  OrdinalEncoder  0.046970      0.135105"
      ]
     },
     "execution_count": 198,
     "metadata": {},
     "output_type": "execute_result"
    }
   ],
   "source": [
    "#porownanie danych pogrupowanych po modelach\n",
    "modele.sort_values('model', ascending=False)"
   ]
  }
 ],
 "metadata": {
  "kernelspec": {
   "display_name": "Python 3",
   "language": "python",
   "name": "python3"
  },
  "language_info": {
   "codemirror_mode": {
    "name": "ipython",
    "version": 3
   },
   "file_extension": ".py",
   "mimetype": "text/x-python",
   "name": "python",
   "nbconvert_exporter": "python",
   "pygments_lexer": "ipython3",
   "version": "3.8.7"
  }
 },
 "nbformat": 4,
 "nbformat_minor": 2
}
